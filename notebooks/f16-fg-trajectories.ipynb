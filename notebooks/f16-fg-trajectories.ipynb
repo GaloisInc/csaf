{
 "cells": [
  {
   "cell_type": "markdown",
   "id": "2867c820",
   "metadata": {},
   "source": [
    "**NOTE**: This is work in progress code for flightgear integration. Use it at your own risk."
   ]
  },
  {
   "cell_type": "code",
   "execution_count": null,
   "id": "f2ddfd1a",
   "metadata": {},
   "outputs": [],
   "source": [
    "import numpy as np\n",
    "\n",
    "import sys\n",
    "sys.path.append(\"..\")\n",
    "sys.path.append(\"csaf/core\")\n",
    "\n",
    "import csaf\n",
    "import matplotlib.pyplot as plt\n",
    "from csaf_f16 import fgnetfdm, fgintruder\n",
    "\n",
    "from csaf_f16.goals import AcasSimpleCollideWithBalloonGoal\n",
    "from csaf_f16.goals import AcasSimpleCollideAvoidBalloonGoal\n",
    "from csaf_f16.goals import AcasShieldAvoidBalloonGoal\n",
    "from csaf_f16.goals import AcasAirspeedAvoidNoBalloonGoal\n",
    "from csaf_f16.goals import AcasAirspeedCollideNoBalloonGoal\n",
    "from csaf_f16.ngoals import AcasAirportCollideGoal\n",
    "from csaf_f16.ngoals import AcasRejoinCollideGoal\n",
    "from csaf_f16.ngoals import AcasHeadOnCollideGoal\n",
    "from csaf_f16.ngoals import AcasRejoinScenario\n",
    "\n",
    "from csaf_f16.acas import AcasScenarioViewer\n",
    "\n",
    "%matplotlib inline\n",
    "%config InlineBackend.figure_format='retina'"
   ]
  },
  {
   "cell_type": "code",
   "execution_count": null,
   "id": "5ca1ff67",
   "metadata": {},
   "outputs": [],
   "source": [
    "def closest_point(trajs):\n",
    "    # Find the point of closest contact\n",
    "    ownship = trajs['plant']['states']\n",
    "    intruder = trajs['intruder_plant']['states']\n",
    "\n",
    "    d_min = np.inf\n",
    "    d_idx = 0\n",
    "    for idx in range(0,min(len(ownship),len(intruder))):\n",
    "        pn_o = ownship[idx][9]\n",
    "        pe_o = ownship[idx][10]\n",
    "        pn_i = intruder[idx][9]\n",
    "        pe_i = intruder[idx][10]\n",
    "        d = np.sqrt((pn_o -pn_i)**2 + (pe_o - pe_i)**2)\n",
    "        if d < d_min:\n",
    "            d_min = d\n",
    "            d_idx = idx\n",
    "\n",
    "    pn_0 = ownship[d_idx][9]\n",
    "    pe_0 = ownship[d_idx][10]\n",
    "    print(f\"D_min={d_min}, idx={d_idx}, pn_0 = {pn_0},pe_0={pe_0}\")\n",
    "    return pn_0, pe_0\n",
    "\n",
    "def get_camera(trajs, pn_0, pe_0):\n",
    "    # Place camera\n",
    "    import copy\n",
    "    camera = copy.deepcopy(trajs['balloon'])\n",
    "    for state in camera.states:\n",
    "        state[9] = pn_0\n",
    "        state[10] = pe_0\n",
    "    trajs['camera'] = camera\n",
    "    return trajs"
   ]
  },
  {
   "cell_type": "code",
   "execution_count": null,
   "id": "be3ab382",
   "metadata": {},
   "outputs": [],
   "source": [
    "f16a = fgnetfdm.FGNetFDM(h0_m=1500)\n",
    "f16b = fgintruder.FGIntruder(callsign='F-16B', model_path='Aircraft/f16/Models/F-16.xml', fallback_model_index=516)\n",
    "#balloon = fgintruder.FGIntruder(callsign='Balloon', model_path='Aircraft/Hot-Air-Balloon/Models/Hot-Air-Balloon.xml', fallback_model_index=702)\n",
    "#camera = fgintruder.FGIntruder(callsign='Camera', model_path='Aircraft/ufo/Models/ufo.xml', fallback_model_index=712)"
   ]
  },
  {
   "cell_type": "code",
   "execution_count": null,
   "id": "c7b24196",
   "metadata": {},
   "outputs": [],
   "source": [
    "f16a.start()\n",
    "f16b.start()\n",
    "#balloon.start()\n",
    "#camera.start()"
   ]
  },
  {
   "cell_type": "code",
   "execution_count": null,
   "id": "adc07c8e",
   "metadata": {},
   "outputs": [],
   "source": []
  },
  {
   "cell_type": "code",
   "execution_count": null,
   "id": "2b5a1bce",
   "metadata": {
    "scrolled": true
   },
   "outputs": [],
   "source": [
    "#g = AcasSimpleCollideWithBalloonGoal()\n",
    "#g = AcasSimpleCollideAvoidBalloonGoal()\n",
    "#g = AcasShieldAvoidBalloonGoal()\n",
    "#g = AcasAirspeedAvoidNoBalloonGoal()\n",
    "#g = AcasAirspeedCollideNoBalloonGoal()\n",
    "\n",
    "#g = AcasHeadOnCollideGoal()\n",
    "#g = AcasRejoinCollideGoal()\n",
    "#g.scenario_type = AcasRejoinScenario\n",
    "g = AcasAirportCollideGoal()\n",
    "\n",
    "sys = g.scenario_type().generate_system(g.fixed_configurations[0])\n",
    "trajs = sys.simulate_tspan((0.0, 27.0))\n",
    "#trajs, p = g.run_sim(g.fixed_configurations[0])\n",
    "\n",
    "scen = g.scenario_type()\n",
    "viewer = AcasScenarioViewer(trajs, scen)\n",
    "fig, ax = viewer.summary_plot()\n",
    "ax.set_xlim(-10000, 10000)\n",
    "ax.set_ylim(0, 25000)\n",
    "plt.show()\n",
    "\n",
    "#pn_0,pe_0 = closest_point(trajs)\n",
    "#trajs = get_camera(trajs, pn_0, pe_0)\n",
    "\n",
    "\n",
    "\n",
    "# Properly prepare the intruders\n",
    "#f16a.set_trajs(trajs['plant'],trajs['llc'])\n",
    "#f16b.set_trajs(trajs['intruder_plant'],trajs['intruder_llc'])\n",
    "# LLC for balloon doesn't matter\n",
    "#balloon.set_trajs(trajs['balloon'],trajs['llc'])\n",
    "#camera.set_trajs(trajs['camera'],trajs['llc'])\n",
    "\n"
   ]
  },
  {
   "cell_type": "code",
   "execution_count": null,
   "id": "182f7d2c",
   "metadata": {},
   "outputs": [],
   "source": [
    "f16a.reset()\n",
    "f16b.reset()\n",
    "#balloon.reset()\n",
    "#camera.reset()"
   ]
  },
  {
   "cell_type": "code",
   "execution_count": null,
   "id": "06daccca",
   "metadata": {},
   "outputs": [],
   "source": [
    "# Run the simulation\n",
    "f16a.simulate(delta_t=0.01,speed=1.0)\n",
    "f16b.simulate(delta_t=1.5,speed=1.0)\n",
    "\n",
    "#balloon.simulate(delta_t=0.5,speed=0.9)\n",
    "#camera.simulate(delta_t=0.01,speed=0.9)"
   ]
  },
  {
   "cell_type": "code",
   "execution_count": null,
   "id": "c72ecad2",
   "metadata": {},
   "outputs": [],
   "source": [
    "f16a.stop()\n",
    "f16b.stop()\n",
    "#balloon.stop()\n",
    "#camera.stop()"
   ]
  },
  {
   "cell_type": "code",
   "execution_count": null,
   "id": "2dda3d60",
   "metadata": {},
   "outputs": [],
   "source": [
    "trajs['intruder_plant'].times"
   ]
  },
  {
   "cell_type": "code",
   "execution_count": null,
   "id": "4e55b7de",
   "metadata": {},
   "outputs": [],
   "source": []
  }
 ],
 "metadata": {
  "kernelspec": {
   "display_name": "Python 3 (ipykernel)",
   "language": "python",
   "name": "python3"
  },
  "language_info": {
   "codemirror_mode": {
    "name": "ipython",
    "version": 3
   },
   "file_extension": ".py",
   "mimetype": "text/x-python",
   "name": "python",
   "nbconvert_exporter": "python",
   "pygments_lexer": "ipython3",
   "version": "3.9.2"
  }
 },
 "nbformat": 4,
 "nbformat_minor": 5
}
