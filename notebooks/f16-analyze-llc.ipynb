{
 "cells": [
  {
   "cell_type": "markdown",
   "id": "722bac84-6ef8-46c8-b56e-ad5faed927bd",
   "metadata": {},
   "source": [
    "# F16 Low Level Controller analysis\n",
    "\n",
    "In this example, we will show how to analyze a low-level-controller.\n",
    "\n",
    "First, we need to import our model"
   ]
  },
  {
   "cell_type": "code",
   "execution_count": null,
   "id": "7af8483f-0dd5-4141-ace0-106edfa04810",
   "metadata": {},
   "outputs": [],
   "source": [
    "from csaf_f16 import F16Simple\n",
    "import csaf_f16.components as f16c\n",
    "import csaf.utils as csafutils"
   ]
  },
  {
   "cell_type": "markdown",
   "id": "7d3c3ccf-7b70-48fd-9256-b4c5f3383669",
   "metadata": {},
   "source": [
    "We will create a model derived from the `F16Simple` system in `csaf_f16`, which replaces the autopilot with a signal generator of our own making."
   ]
  },
  {
   "cell_type": "code",
   "execution_count": null,
   "id": "aeeab54a-10d5-48e9-9751-0b630cc1351a",
   "metadata": {},
   "outputs": [],
   "source": [
    "def step_signal(model, time, _s, _i):\n",
    "    \"\"\"signal generator function steps the first llc input signal\"\"\"\n",
    "    signal = [0.0,]*4\n",
    "    if time >= model.step_time:\n",
    "        signal[model.idx] = model.signal_amplitude\n",
    "    return signal\n",
    "        \n",
    "\n",
    "class F16LlcSignal(f16c.F16AutopilotComponent):\n",
    "    \"\"\"create a CSAF component that uses the right message format\n",
    "    for the f16 models\"\"\"\n",
    "    name = \"Signal Generator\"\n",
    "    default_parameters = {\n",
    "        \"signal_amplitude\": 1.0, \n",
    "        \"step_time\": 1.0,\n",
    "        \"idx\": 0\n",
    "    }\n",
    "    states = f16c.EmptyMessage\n",
    "    default_initial_values = {\n",
    "        \"states\" : [],\n",
    "        \"inputs_pstates\": f16c.f16_xequil,\n",
    "        \"inputs_poutputs\": [0.0, 0.0, 0.0, 0.0],\n",
    "    }\n",
    "    outputs = (\n",
    "        (\"outputs\", f16c.F16ControllerOutputMessage),\n",
    "    )\n",
    "    flows = {\n",
    "        \"outputs\": step_signal,\n",
    "    }\n",
    "    \n",
    "    \n",
    "class F16LlcDut(F16Simple):\n",
    "    \"\"\"create a F16 system that uses the signal generator\"\"\"\n",
    "    components = {**F16Simple.components, \n",
    "                  **{\"autopilot\" : F16LlcSignal}}"
   ]
  },
  {
   "cell_type": "markdown",
   "id": "d24a1f6c-84c9-4977-bb94-144dda3e9f2b",
   "metadata": {},
   "source": [
    "We will also display the system topology, to show the difference between f16-simple and this system:"
   ]
  },
  {
   "cell_type": "code",
   "execution_count": null,
   "id": "742a1219-48a3-45ea-85b5-81f21be338be",
   "metadata": {},
   "outputs": [],
   "source": [
    "# visualize the system\n",
    "csafutils.view_block_diagram(F16LlcDut, ipython_notebook=True)"
   ]
  },
  {
   "cell_type": "markdown",
   "id": "fc936253-7b2d-467d-b9c8-4d9179838652",
   "metadata": {},
   "source": [
    "Next step, we need to prepare initial conditions for our run. For this particular case, we will change only two variables at a time, so we can display the results in a 2D plot. However, you can generate the initial conditions in many different ways."
   ]
  },
  {
   "cell_type": "code",
   "execution_count": null,
   "id": "eea30d89-8d56-43bd-8b9e-d34051e387aa",
   "metadata": {},
   "outputs": [],
   "source": [
    "# We want to see step response to Nz (z-body accel)\n",
    "# Varying airspeed and alpha is a good start\n",
    "initial = [ 540.0, # vt\n",
    "            0.037027160081059704, # alpha [rad]\n",
    "            0.0, # beta[rad]\n",
    "            0.0, # roll [rad]\n",
    "            0.0, # pitch [rad]\n",
    "            0.0, # yaw [rad]\n",
    "            0.0, # p [rad/s]\n",
    "            0.0, # q [rad/s]\n",
    "            0.0, # r [rad/s]\n",
    "            0.0, # pn [m]\n",
    "            0.0, # pe [e]\n",
    "            4800.0, # h [ft]\n",
    "            70.0] # pow\n",
    "\n",
    "import numpy as np\n",
    "\n",
    "NUM_SAMPLES=10\n",
    "delta_vt = np.linspace(-100,100,NUM_SAMPLES) # +- 100gt/s\n",
    "delta_alpha = np.linspace(-0.3,0.3,NUM_SAMPLES) # +- 0.3rad\n",
    "\n",
    "# Generate x0s\n",
    "x0s = []\n",
    "for d_vt in delta_vt:\n",
    "    for d_alpha in delta_alpha:\n",
    "        x0 = initial[:]\n",
    "        x0[0] += d_vt\n",
    "        x0[1] += d_alpha\n",
    "        x0s.append(x0)"
   ]
  },
  {
   "cell_type": "markdown",
   "id": "11bbdec5-62c0-4c11-9a92-958ff7646821",
   "metadata": {},
   "source": [
    "Now, we have 100 different initial conditions. Let's use our parallel runner to efficiently run 100 simulations!"
   ]
  },
  {
   "cell_type": "code",
   "execution_count": null,
   "id": "e3ca13e0-6fcd-492d-8d05-d05e85df8e7a",
   "metadata": {},
   "outputs": [],
   "source": [
    "from joblib import Parallel, delayed\n",
    "import tqdm\n",
    "\n",
    "\n",
    "def run_sim(x0):\n",
    "    sys = F16LlcDut()\n",
    "    sys.set_state('plant', x0)\n",
    "    trajs = sys.simulate_tspan(tspan=(0.0, 10.0),  show_status=False)\n",
    "    return trajs\n",
    "    \n",
    "\n",
    "runs = Parallel(n_jobs=12)(delayed(run_sim)(x0) for x0 in tqdm.tqdm(x0s))"
   ]
  },
  {
   "cell_type": "code",
   "execution_count": null,
   "id": "a9eb18e2-017b-45b0-bb36-f06574ea873d",
   "metadata": {},
   "outputs": [],
   "source": [
    "# Lets plot the results (this might take a while)\n",
    "import matplotlib.pyplot as plt\n",
    "from csaf_f16.plot import plot_component\n",
    "\n",
    "nplots = 5\n",
    "fig, ax = plt.subplots(figsize=(12, 3 * nplots), nrows=nplots, sharex=True)\n",
    "for idx, (axis, run) in enumerate(zip(ax, runs)):\n",
    "    if idx >= nplots:\n",
    "        break\n",
    "    trajs = run\n",
    "    plot_component(axis, trajs, \"autopilot\", \"outputs\", 0, \"Nz_ref ()\")\n",
    "    plot_component(axis, trajs, \"plant\", \"outputs\", 0, \"Nz ()\")\n",
    "\n",
    "ax[-1].set_xlabel(\"Time (s)\")\n",
    "ax[0].set_title(\"Simulation Workgroup Runs\")\n",
    "plt.show()"
   ]
  },
  {
   "cell_type": "markdown",
   "id": "ed1e57fb-9d44-44ea-825d-6cdcefe48c15",
   "metadata": {},
   "source": [
    "We can inspect all 100 runs and see how closely the reference was followed. Given the relatively large range of initial conditions, some runs provide a very clean response, while some show large initial Nzand large overshoot.\n",
    "\n",
    "You can modify the initial conditions, as well as the time and amplitude of the step signal to get more meaningful results.\n",
    "\n",
    "The next question is - can we automatically evaluate the simulation results? The answer is yes!"
   ]
  },
  {
   "cell_type": "markdown",
   "id": "2fb2c6c2-1d34-4cb7-b0a9-77f72c2ca124",
   "metadata": {},
   "source": [
    "## More automated analysis\n",
    "\n",
    "First, define a function that returns the max difference between the reference signal and the response. Note that this is a very simple function meant only as an example. To gain better insight into your system, you should define a more complex function."
   ]
  },
  {
   "cell_type": "code",
   "execution_count": null,
   "id": "c001d20d-9b57-411c-946a-188f35132af9",
   "metadata": {},
   "outputs": [],
   "source": [
    "from numpy import nan\n",
    "\n",
    "def calculate_simple_difference(ref_time, reference, res_time, response):\n",
    "    # If either of the arguments is nan, return nan\n",
    "    if ref_time is nan or reference is nan or res_time is nan or response is nan:\n",
    "        return nan\n",
    "    # Otherwise, assume both arguments are lists\n",
    "    # Cut off first 1 second of simulation, because that is before the step occured\n",
    "    start_time = 1.0\n",
    "    _, ref_idx = min((val, idx) for (idx, val) in enumerate(ref_time) if val > start_time)\n",
    "    _, res_idx = min((val, idx) for (idx, val) in enumerate(res_time) if val > start_time)\n",
    "    ref = reference[ref_idx:]\n",
    "    res = response[res_idx:]\n",
    "    return max(res) - max(ref)"
   ]
  },
  {
   "cell_type": "code",
   "execution_count": null,
   "id": "0b6c2bcd-3e69-4e27-97b8-5b01961fc99a",
   "metadata": {},
   "outputs": [],
   "source": [
    "# Now calculate the difference for each simulation run\n",
    "diffs = []\n",
    "for trajs in runs:\n",
    "    t_ref = trajs['autopilot'].times\n",
    "    t = trajs['plant'].times\n",
    "    nz = np.array(getattr(trajs['plant'], 'outputs'))[:, 0]\n",
    "    nz_ref = np.array(getattr(trajs['autopilot'], 'outputs'))[:, 0]\n",
    "    delta = calculate_simple_difference(t_ref, nz_ref, t, nz)\n",
    "    diffs.append(delta)"
   ]
  },
  {
   "cell_type": "code",
   "execution_count": null,
   "id": "4bb27d9d-5924-4566-9b9f-bb69ffc97844",
   "metadata": {},
   "outputs": [],
   "source": [
    "# Max \"overshoot\"\n",
    "val, idx = max((val, idx) for (idx, val) in enumerate(diffs))\n",
    "print(f\"Max 'overshoot' occured at run {idx}, over {val*100:1.2f} [%]\")"
   ]
  },
  {
   "cell_type": "code",
   "execution_count": null,
   "id": "64080395-ef11-4b34-aec3-b15ef7e89488",
   "metadata": {},
   "outputs": [],
   "source": [
    "# Min \"overshoot\"\n",
    "val, idx = min((val, idx) for (idx, val) in enumerate(diffs))\n",
    "print(f\"Min 'overshoot' occured at run {idx}, over {val*100:1.2f} [%]\")"
   ]
  },
  {
   "cell_type": "markdown",
   "id": "5ecc9206-c688-4b74-96ab-d855cfacdacb",
   "metadata": {},
   "source": [
    "This seem to indicate that the extreme initial conditions affect the response, which is expected. Lets now plot the results."
   ]
  },
  {
   "cell_type": "code",
   "execution_count": null,
   "id": "a6360c6d-8c4a-4cf0-b6d7-2ecc285bf217",
   "metadata": {},
   "outputs": [],
   "source": [
    "# Import libraries \n",
    "from mpl_toolkits import mplot3d \n",
    "import numpy as np \n",
    "import matplotlib.pyplot as plt \n",
    "from matplotlib import cm\n",
    "\n",
    "x = []\n",
    "y = []\n",
    "z = diffs\n",
    "for states in x0s:\n",
    "    x.append(states[0])\n",
    "    y.append(states[1])\n",
    "\n",
    "fig = plt.figure(figsize =(14, 9)) \n",
    "ax = plt.axes(projection ='3d') \n",
    "\n",
    "ax.set_xlabel('vt[ft/s]', fontsize=12)\n",
    "ax.set_ylabel('alpha[rad]', fontsize=12)\n",
    "ax.set_zlabel('overshoot[%]', fontsize=12)\n",
    "ax.xaxis.set_rotate_label(True)\n",
    "ax.yaxis.set_rotate_label(True)\n",
    "\n",
    "surf = ax.plot_trisurf(x, y, z, cmap=cm.coolwarm)\n",
    "# Add a color bar which maps values to colors.\n",
    "fig.colorbar(surf, shrink=0.5, aspect=5)\n",
    "\n",
    "# Rotate it\n",
    "#ax.view_init(30, 135)\n",
    "\n",
    "# show plot \n",
    "plt.show()"
   ]
  },
  {
   "cell_type": "markdown",
   "id": "b0cd9fd8-0df6-4a82-8949-f5d2ec73c717",
   "metadata": {},
   "source": [
    "We can see that higher overshoot corresponds to higher alpha, and in lesser extend to higher airspeed.\n",
    "\n",
    "Finally, if we are only interested in how many simulations do not exceed 10% overshoot, we can simply do:"
   ]
  },
  {
   "cell_type": "code",
   "execution_count": null,
   "id": "51fda3bf-7e5c-4528-928e-ea870fd3e694",
   "metadata": {},
   "outputs": [],
   "source": [
    "len([x for x in diffs if x < 0.1])"
   ]
  },
  {
   "cell_type": "markdown",
   "id": "c3862467-fc1f-45b6-8b1b-0466a6442dc1",
   "metadata": {},
   "source": [
    "## Summary\n",
    "We demonstrated how to run multiple simulations in parallel, with different initail conditions, and how to analyzer the results. The analysis can be tailer to your needs."
   ]
  }
 ],
 "metadata": {
  "kernelspec": {
   "display_name": "Python [conda env:trust-ml] *",
   "language": "python",
   "name": "conda-env-trust-ml-py"
  },
  "language_info": {
   "codemirror_mode": {
    "name": "ipython",
    "version": 3
   },
   "file_extension": ".py",
   "mimetype": "text/x-python",
   "name": "python",
   "nbconvert_exporter": "python",
   "pygments_lexer": "ipython3",
   "version": "3.9.2"
  }
 },
 "nbformat": 4,
 "nbformat_minor": 5
}
