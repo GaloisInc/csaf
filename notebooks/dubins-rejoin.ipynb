{
 "cells": [
  {
   "cell_type": "markdown",
   "id": "2d2c0b5c",
   "metadata": {},
   "source": [
    "# Dubins 2D Aircraft Rejoin Example\n",
    "\n",
    "This Jupyter notebook demonstrates a multi-agent task scenario with control system analysis framework (CSAF), where a group of Dubins aircraft attempt to rejoin in formation and collectively fly at a specific heading angle. Dubins aircraft presents a dynamically simple 2D aircraft model, taken from the [AerospaceRL repository on GitHub](https://github.com/act3-ace/aerospaceRL). The state space is 3D, being two position coordinates $(x,y)$\n",
    "and a heading angle $\\theta$. The control action simply is to apply a heading angular rate $\\dot \\theta$ while maintaining constant velocity\n",
    "(no throttle). The update equation is\n",
    "\n",
    "$$\n",
    "  \\dot{\\mathbf x} = \\begin{bmatrix}\n",
    "v \\cos (x_2) \\\\\n",
    "v \\sin (x_2) \\\\\n",
    "u \\\\\n",
    "\\end{bmatrix},\n",
    "$$\n",
    "\n",
    "where $\\mathbf{x} = (x, y, \\theta)$, and $v$ is some fixed airspeed parameter.\n",
    "\n",
    "\n",
    "## Controller Design\n",
    "\n",
    "A lateral rejoin task is specified: given **n** planes at different orientations, produce **n** maneuver sequences that allow them to be no further\n",
    "than some terminal length apart $r_l$ and at some terminal heading angle $\\theta_t$. Given that the only control surface that can be affected is angular\n",
    "rate, the following control scheme is formulated,\n",
    "\n",
    "1.  Associate each plane with neighbors that should be considered in collision avoidance; construct a graph $\\mathcal G = (\\mathcal P, \\mathcal C)$ with vertices of planes $\\mathcal P$ and edges of neighbors $\\mathcal C$. In this case, a simple $k$-neighbors was done,\n",
    "    with $k=1$; solve only for the nearest neighbor. This method can be extended to different graph constructions, by\n",
    "    appropriately weighting the graph edges inversely to the distances between nodes via a weighted adjacency matrix.\n",
    "2.  Solve for the angle that will cause a plane $s_i$ and its nearest neighbor $s_j$ to approach one another the fastest,\n",
    "$$\n",
    "\\theta_{i}(s_i, s_j) = \\operatorname{atan2}(x_{j1} -x_{i1}, x_{j0} - x_{i0}).\n",
    "$$\n",
    "3.  Linearly combine the angle $\\theta_i$ and the terminal heading angle $\\theta_t$.\n",
    "    Apply some weight that is a function of the distance between the aircraft $r$, $w: \\overline{\\mathbb R^-}  \\rightarrow [0, 1]$,\n",
    "$$\n",
    "\\theta_c(s_i) = w(r(s_i, s_j)) \\theta_t + (1-w(r(s_i, s_j))) \\theta_j.\n",
    "$$\n",
    "    In this example,\n",
    "$$\n",
    "w(r) = \\exp\\left( -\\frac{(r-r_l)^2}{\\tau} \\right),\n",
    "$$\n",
    "    where $r_l$ is the desired final distance between aircraft, and $\\tau$ is a hyperparameter characterizing how soon to apply the collision avoidance correction.\n",
    "4.  This solves for the desired heading angle of the aircraft. As the heading angular rate is the input, control the position quantity via a proportional controller,\n",
    "$$\n",
    "u = k_p (\\theta_c - \\theta).\n",
    "$$\n",
    "    \n",
    "<div>\n",
    "<img src=\"img/dubins_rejoin_diag.png\" width=\"500\"/>\n",
    "</div>"
   ]
  },
  {
   "cell_type": "code",
   "execution_count": null,
   "id": "9e3c0699",
   "metadata": {},
   "outputs": [],
   "source": [
    "# if running locally\n",
    "import sys\n",
    "sys.path.append(\"..\")\n",
    "\n",
    "# import csaf and Dubins rejoin example model\n",
    "import csaf\n",
    "import csaf.utils as csafutils\n",
    "import csaf_examples.rejoin as rejoin\n",
    "\n",
    "# other imports\n",
    "import numpy as np\n",
    "import matplotlib.pyplot as plt\n",
    "%matplotlib inline\n",
    "%config InlineBackend.figure_format='retina'\n"
   ]
  },
  {
   "cell_type": "markdown",
   "id": "e03618a9",
   "metadata": {},
   "source": [
    "## Configuration\n",
    "\n",
    "The Dubins system can be created via the `generate_dubins_system` function by passing in a list of vehicles' initial states. A controller is created dynamically to support the number of vehicles specified with the states list. This system component topology can be viewed via the `view_block_diagram` utility function."
   ]
  },
  {
   "cell_type": "code",
   "execution_count": null,
   "id": "9a215a88",
   "metadata": {},
   "outputs": [],
   "source": [
    "j_states = [[0, 0, np.deg2rad(45)],\n",
    "              [-5, -10, np.deg2rad(-30)],\n",
    "            [-3, -15, np.deg2rad(90)],\n",
    "            [0, -20, np.deg2rad(0)]]\n",
    "\n",
    "system = rejoin.generate_dubins_system(j_states)"
   ]
  },
  {
   "cell_type": "code",
   "execution_count": null,
   "id": "50272311",
   "metadata": {},
   "outputs": [],
   "source": [
    "# view the system\n",
    "csafutils.view_block_diagram(system, ipython_notebook=True)"
   ]
  },
  {
   "cell_type": "markdown",
   "id": "1ff16d88",
   "metadata": {},
   "source": [
    "## Simulation\n",
    "\n",
    "After configuration, the CSAF system is simulated via the method `System.simulate_tspan`. The returned traces `trajs` capture the trajectories of each agent as the controller applies the angular rate."
   ]
  },
  {
   "cell_type": "code",
   "execution_count": null,
   "id": "64781f45",
   "metadata": {},
   "outputs": [],
   "source": [
    "# run simulation\n",
    "trajs = system.simulate_tspan((0.0, 25.0))"
   ]
  },
  {
   "cell_type": "code",
   "execution_count": null,
   "id": "5f8a6cf9",
   "metadata": {},
   "outputs": [],
   "source": [
    "# pack states into convenient data structure\n",
    "states = [np.array(trajs['dub'+str(idx)].states) for idx in range(len(j_states))]"
   ]
  },
  {
   "cell_type": "code",
   "execution_count": null,
   "id": "46f4f29e",
   "metadata": {},
   "outputs": [],
   "source": [
    "# show aircraft trajectories\n",
    "cs = ['g', 'r', 'b', 'k']\n",
    "fig, ax = plt.subplots(figsize=(15, 7))\n",
    "for idx in range(4):\n",
    "    plt.plot(*states[idx][:, :2].T*10, c=cs[idx])\n",
    "plt.title(\"Aircraft Trajectories\")\n",
    "plt.xlabel(\"X (m)\")\n",
    "plt.ylabel(\"Y (m)\")\n",
    "plt.show()"
   ]
  },
  {
   "cell_type": "markdown",
   "id": "e1a94118",
   "metadata": {},
   "source": [
    "## Animation\n",
    "\n",
    "When running the Jupyter notebook, animation is available to view the trajectories as a movie. Uncomment the following code and run."
   ]
  },
  {
   "cell_type": "code",
   "execution_count": null,
   "id": "3e1a7ffc",
   "metadata": {},
   "outputs": [],
   "source": [
    "# uncomment this to get an animation\n",
    "\"\"\"\n",
    "%matplotlib notebook\n",
    "ani = rejoin.plot_air_anim(states)\n",
    "from IPython.display import HTML\n",
    "HTML(ani.to_jshtml())\n",
    "\"\"\""
   ]
  },
  {
   "cell_type": "code",
   "execution_count": null,
   "id": "6709d0c3",
   "metadata": {},
   "outputs": [],
   "source": []
  }
 ],
 "metadata": {
  "kernelspec": {
   "display_name": "Python [conda env:trust-ml] *",
   "language": "python",
   "name": "conda-env-trust-ml-py"
  },
  "language_info": {
   "codemirror_mode": {
    "name": "ipython",
    "version": 3
   },
   "file_extension": ".py",
   "mimetype": "text/x-python",
   "name": "python",
   "nbconvert_exporter": "python",
   "pygments_lexer": "ipython3",
   "version": "3.9.2"
  }
 },
 "nbformat": 4,
 "nbformat_minor": 5
}
