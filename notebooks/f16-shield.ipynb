{
 "cells": [
  {
   "cell_type": "markdown",
   "id": "399ef712",
   "metadata": {},
   "source": [
    "# CSAF F16 Example\n",
    "\n",
    "This notebook illustrates how to run CSAF on a model of the F16. Each system in CSAF is comprised of a set of components containing dynamics. \n",
    "\n",
    "## CSAF Messages\n",
    "\n",
    "\n",
    "Before we can create components, we need to define the message formats that a component uses to communicate over. In this example, we'll look at the messages used by the F16 aircraft plant. We use a namedtuple to specify the length, type, and identifiers of each element of a signal. This can be used to specify signal variables inside of CSAF, or type check code using tools such as `mypy`. "
   ]
  },
  {
   "cell_type": "code",
   "execution_count": null,
   "id": "a202e7ef",
   "metadata": {},
   "outputs": [],
   "source": [
    "from typing import NamedTuple\n",
    "\n",
    "\n",
    "class F16PlantStateMessage(NamedTuple):\n",
    "    \"\"\"example message describing the state of the F16 plant\"\"\"\n",
    "    vt: float\n",
    "    alpha: float\n",
    "    beta: float\n",
    "    phi: float\n",
    "    theta: float\n",
    "    psi: float\n",
    "    p: float\n",
    "    q: float\n",
    "    r: float\n",
    "    pn: float\n",
    "    pe: float\n",
    "    h: float\n",
    "    pow: float"
   ]
  },
  {
   "cell_type": "markdown",
   "id": "27fa46cb",
   "metadata": {},
   "source": [
    "## CSAF Components\n",
    "\n",
    "Once we have out messages defined, we can create components. Components have well defined message interfaces--inputs, outputs, and states. They also have model parameters that can be used to adjust a model available in the `flows` field. These parameters, as well as inputs and states, require default values specified in the `default_initial_values` and `default_parameters` fields."
   ]
  },
  {
   "cell_type": "code",
   "execution_count": null,
   "id": "e7cdc92f",
   "metadata": {},
   "outputs": [],
   "source": [
    "import csaf\n",
    "import csaf_f16.messages as f16mesg\n",
    "import csaf_f16.models.llc as llc\n",
    "\n",
    "\n",
    "class F16LlcComponent(csaf.ContinuousComponent):\n",
    "    \"\"\"Example Component Description in CSAF\n",
    "    \n",
    "    F16 Low Level Controller\n",
    "    \"\"\"\n",
    "    \n",
    "    # verbose name for the system\n",
    "    name = \"F16 Low Level Controller\"\n",
    "    \n",
    "    # sampling frequency of system \n",
    "    sampling_frequency = 30.0\n",
    "    \n",
    "    # model parameters (will be constant during simulation)\n",
    "    default_parameters = {\n",
    "        \"lqr_name\": \"lqr_original\",\n",
    "        \"throttle_max\": 1,\n",
    "        \"throttle_min\": 0,\n",
    "        \"elevator_max\": 25,\n",
    "        \"elevator_min\": -25,\n",
    "        \"aileron_max\": 21.5,\n",
    "        \"aileron_min\": -21.5,\n",
    "        \"rudder_max\": 30.0,\n",
    "        \"rudder_min\": -30.0\n",
    "    }\n",
    "    \n",
    "    # component inputs (messages)\n",
    "    inputs = (\n",
    "        (\"inputs_pstates\", f16mesg.F16PlantStateMessage),\n",
    "        (\"inputs_poutputs\", f16mesg.F16PlantOutputMessage),\n",
    "        (\"inputs_coutputs\", f16mesg.F16ControllerOutputMessage)\n",
    "    )\n",
    "    \n",
    "    # component outputs (messages)\n",
    "    outputs = (\n",
    "        (\"outputs\", f16mesg.F16ControllerOutputMessage),\n",
    "    )\n",
    "    \n",
    "    # component states (single message)\n",
    "    states = f16mesg.F16LlcStateMessage\n",
    "    \n",
    "    # default values for input and state buffer\n",
    "    default_initial_values = {\n",
    "        \"states\": [0.0, 0.0, 0.0],\n",
    "        \"inputs_pstates\": [0.0,]*13,\n",
    "        \"inputs_poutputs\": [0.0, 0.0, 0.0, 0.0],\n",
    "        \"inputs_coutputs\": [0.0, 0.0, 0.0, 0.0]\n",
    "    }\n",
    "    \n",
    "    # flows map inputs and state to updated state and output\n",
    "    # these functions implement the dynamics\n",
    "    flows = {\n",
    "        \"outputs\": llc.model_output,\n",
    "        \"states\": llc.model_state_update\n",
    "    }\n",
    "    \n",
    "    # function to initialize the system \n",
    "    # used to translate the parameters to object instances\n",
    "    initialize = llc.model_init"
   ]
  },
  {
   "cell_type": "markdown",
   "id": "9289b02e",
   "metadata": {},
   "source": [
    "## CSAF Systems\n",
    "\n",
    "From collection of components, we can build a full control system. We create identifiers in the `components` field and define component connections in `connections`."
   ]
  },
  {
   "cell_type": "code",
   "execution_count": null,
   "id": "bdb599b7",
   "metadata": {},
   "outputs": [],
   "source": [
    "import csaf_f16.components as f16c\n",
    "\n",
    "\n",
    "class F16Simple(csaf.System):\n",
    "    \"\"\"Example System Description in CSAF\n",
    "    \n",
    "    \n",
    "    Simple F16 Aircraft (Low Level Controller + Autopilot)\n",
    "    \"\"\"\n",
    "    components = {\n",
    "        \"plant\": f16c.F16PlantComponent,\n",
    "        \"llc\": f16c.F16NNLlcComponent,\n",
    "        \"autopilot\": f16c.F16GcasComponent\n",
    "    }\n",
    "\n",
    "    connections = {\n",
    "        (\"llc\", \"inputs_pstates\"): (\"plant\", \"states\"),\n",
    "        (\"llc\", \"inputs_poutputs\"): (\"plant\", \"outputs\"),\n",
    "        (\"llc\", \"inputs_coutputs\"): (\"autopilot\", \"outputs\"),\n",
    "        (\"plant\", \"inputs\"): (\"llc\", \"outputs\"),\n",
    "        (\"autopilot\", \"inputs_poutputs\"): (\"plant\", \"outputs\"),\n",
    "        (\"autopilot\", \"inputs_pstates\"): (\"plant\", \"states\")\n",
    "    }"
   ]
  },
  {
   "cell_type": "markdown",
   "id": "7447646f",
   "metadata": {},
   "source": [
    "## Loading the configuration"
   ]
  },
  {
   "cell_type": "code",
   "execution_count": null,
   "id": "a133a062",
   "metadata": {},
   "outputs": [],
   "source": [
    "from csaf_f16.systems import F16Shield\n",
    "import csaf.utils as csafutils"
   ]
  },
  {
   "cell_type": "code",
   "execution_count": null,
   "id": "fbb5e38d",
   "metadata": {},
   "outputs": [],
   "source": [
    "# check the system and see if it makes sense\n",
    "F16Shield().check()\n",
    "\n",
    "#display the system topology\n",
    "csafutils.view_block_diagram(F16Shield, ipython_notebook=True)"
   ]
  },
  {
   "cell_type": "markdown",
   "id": "6c2b1626",
   "metadata": {},
   "source": [
    "## Simulating the system"
   ]
  },
  {
   "cell_type": "code",
   "execution_count": null,
   "id": "72b370d9",
   "metadata": {},
   "outputs": [],
   "source": [
    "# create system instance\n",
    "my_system = F16Shield()\n",
    "\n",
    "# put the f16 plant in a dive\n",
    "f16_state = [ \n",
    "    540.0,\n",
    "    0.037027160081059704,\n",
    "    0.0,\n",
    "    0.7853981633974483,\n",
    "    -1.2566370614359172,\n",
    "    -0.7853981633974483,\n",
    "    0.0,\n",
    "    0.0,\n",
    "    0.0,\n",
    "    0.0,\n",
    "    0.0,\n",
    "    3600.0,\n",
    "    9.0]\n",
    "my_system.set_state('plant', f16_state)\n",
    "\n",
    "# timespan to simulate\n",
    "simulation_timespan = [0, 35.0]\n",
    "\n",
    "# simulate and collect time traces out of the components\n",
    "trajs = my_system.simulate_tspan(simulation_timespan, show_status=True)"
   ]
  },
  {
   "cell_type": "markdown",
   "id": "d8147f2b",
   "metadata": {},
   "source": [
    "## 2D Plot"
   ]
  },
  {
   "cell_type": "code",
   "execution_count": null,
   "id": "f2c07ad7",
   "metadata": {
    "pycharm": {
     "name": "#%%\n"
    }
   },
   "outputs": [],
   "source": [
    "from csaf_f16.plot import plot_simple, plot_shield\n",
    "import matplotlib.pyplot as plt\n",
    "\n",
    "plot_shield(trajs)\n",
    "plt.savefig(\"f16_gcas_plot.png\")"
   ]
  }
 ],
 "metadata": {
  "kernelspec": {
   "display_name": "Python 3 (ipykernel)",
   "language": "python",
   "name": "python3"
  },
  "language_info": {
   "codemirror_mode": {
    "name": "ipython",
    "version": 3
   },
   "file_extension": ".py",
   "mimetype": "text/x-python",
   "name": "python",
   "nbconvert_exporter": "python",
   "pygments_lexer": "ipython3",
   "version": "3.9.2"
  }
 },
 "nbformat": 4,
 "nbformat_minor": 5
}