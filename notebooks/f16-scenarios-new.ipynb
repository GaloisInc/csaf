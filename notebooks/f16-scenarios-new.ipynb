{
 "cells": [
  {
   "cell_type": "code",
   "execution_count": null,
   "id": "c64bc5f0-2ca3-42f3-9b2f-fc859d32dc96",
   "metadata": {},
   "outputs": [],
   "source": [
    "import csaf_f16.ngoals as f16g\n",
    "from csaf_f16.acas import AcasScenarioViewer\n",
    "\n",
    "import re\n",
    "from datetime import datetime\n",
    "\n",
    "import matplotlib.pyplot as plt\n",
    "%matplotlib inline\n",
    "%config InlineBackend.figure_format='retina'"
   ]
  },
  {
   "cell_type": "markdown",
   "id": "b6b0c789-09bd-4a8e-a1b7-c9b376155cf6",
   "metadata": {},
   "source": [
    "## Scenario 1: Rejoin\n",
    "\n",
    "### Summary\n",
    "\n",
    "Ownship is attempting to fly north at a constant airspeed, while intruder is attempting a eastward turn while position to west of the intruder. Both aircraft start at the same north  / south position (flying in formation).\n",
    "\n",
    "\n",
    "### Coordinates\n",
    "\n",
    "* **Altitude** - Discrete - {15k, 35k} ft - Both aircraft are positioned at the same altitude\n",
    "* **Airspeed** - Discrete - {600, 1k} ft/s - The ownship is given this airspeed\n",
    "* **Relative East / West Distance** - Continuous - [7k, 10k] ft - Intruder is placed at the origin and intruder is placed at (0, relative distance)\n",
    "* **Relative Intruder Airspeed** - Continuous - [-150, 300] ft/s - Ownship is giving the above airspeed and intruder is given ownship's airspeed + relative value\n",
    "* **Relative Intruder Heading Angle** - Continuous - [-pi, pi] rad - Ownship is facing North and intruder is given this heading angle"
   ]
  },
  {
   "cell_type": "code",
   "execution_count": null,
   "id": "34e1aa00-da36-4707-b5eb-db8db6c8705e",
   "metadata": {},
   "outputs": [],
   "source": [
    "ar = f16g.AcasRejoinScenario()\n",
    "sys = ar.generate_system((15E3, 1000.0, 12000.0, 0.0, 0.0))\n",
    "trajs = sys.simulate_tspan((0.0, 20.0))\n",
    "av = AcasScenarioViewer(trajs, ar)"
   ]
  },
  {
   "cell_type": "code",
   "execution_count": null,
   "id": "573cc942-951e-432d-8aa3-23daa2b79f21",
   "metadata": {},
   "outputs": [],
   "source": [
    "f, ax = av.summary_plot(bounds = ((-3000, 12000), (-1000, 21000)))\n",
    "ax.annotate(s='', xy=(0.0,0.0), xytext=(12000.0,0), arrowprops=dict(arrowstyle='<->'))\n",
    "ax.annotate(s='horizontal distance', xy=(6000.0,500.0), ha='center')"
   ]
  },
  {
   "cell_type": "markdown",
   "id": "18714cb8-11f5-4305-853b-0f72fda0656d",
   "metadata": {},
   "source": [
    "## Scenario 2: Airport\n",
    "\n",
    "### Summary\n",
    "\n",
    "Ownship and intruder are turning into one another. The ownship has ACAS-Xu autopilot, while the intruder does not. Both aircraft start at the same North  / South position.\n",
    "\n",
    "### Coordinates\n",
    "\n",
    "* **Altitude** - Discrete - {15k, 35k} ft - Both aircraft are positioned at the same altitude\n",
    "* **Airspeed** - Discrete - {600, 1k} ft/s - The ownship is given this airspeed\n",
    "* **Relative East / West Distance** - Continuous - [7k, 10k] ft - Intruder is placed at the origin and intruder is placed at (0, relative distance)\n",
    "* **Relative Intruder Airspeed** - Continuous - [-150, 300] ft/s - Ownship is giving the above airspeed and intruder is given ownship's airspeed + relative value\n",
    "* **Relative Intruder Heading Angle** - Continuous - [-pi, pi] rad - Ownship is facing North and intruder is given this heading angle"
   ]
  },
  {
   "cell_type": "code",
   "execution_count": null,
   "id": "c74ff4d6-2e1b-4f7d-a9aa-6c069db89af5",
   "metadata": {},
   "outputs": [],
   "source": [
    "ar = f16g.AcasAirportScenario()\n",
    "sys = ar.generate_system((15E3, 1000.0, 12000.0, 0.0, 0.0))\n",
    "trajs = sys.simulate_tspan((0.0, 20.0))\n",
    "av = AcasScenarioViewer(trajs, ar)"
   ]
  },
  {
   "cell_type": "code",
   "execution_count": null,
   "id": "986140b0-6d6d-45a3-9878-54ee7afbbccf",
   "metadata": {},
   "outputs": [],
   "source": [
    "f, ax = av.summary_plot(bounds = ((-6000, 6000), (-1000, 21000)))\n",
    "ax.annotate(s='', xy=(-6000.0,0.0), xytext=(6000.0,0.0), arrowprops=dict(arrowstyle='<->'))\n",
    "ax.annotate(s='horizontal distance', xy=(0.0,500.0), ha='center')"
   ]
  },
  {
   "cell_type": "markdown",
   "id": "391fc60a-bbfc-4666-afdc-d146284e358b",
   "metadata": {},
   "source": [
    "## Scenario 3: Head On\n",
    "\n",
    "### Summary\n",
    "\n",
    "Both aircraft are at the same east / west position and can be positioned head on. Both attempt to fly straight at a constant airspeed.\n",
    "\n",
    "### Coordinates\n",
    "\n",
    "* **Altitude** - Discrete - {15k, 35k} ft - Both aircraft are positioned at the same altitude\n",
    "* **Airspeed** - Discrete - {600, 1k} ft/s - The ownship is given this airspeed\n",
    "* **Relative North / South Distance** - Continuous - [7k, 10k] ft - Intruder is placed at the origin and intruder is placed at (relative distance, 0)\n",
    "* **Relative Intruder Airspeed** - Continuous - [-150, 300] ft/s - Ownship is giving the above airspeed and intruder is given ownship's airspeed + relative value\n",
    "* **Relative Intruder Heading Angle** - Continuous - [-pi, pi] rad - Ownship is facing North and intruder is given this heading angle"
   ]
  },
  {
   "cell_type": "code",
   "execution_count": null,
   "id": "58658058-835c-4a9b-a6c1-9a9e82e7a2fd",
   "metadata": {},
   "outputs": [],
   "source": [
    "ar = f16g.AcasHeadOnScenario()\n",
    "sys = ar.generate_system((15E3, 1000.0, 12000.0, 0.0, -3.141592))\n",
    "trajs = sys.simulate_tspan((0.0, 10.0))\n",
    "av = AcasScenarioViewer(trajs, ar)"
   ]
  },
  {
   "cell_type": "code",
   "execution_count": null,
   "id": "5ff7e162-4562-462c-a9af-4fa38b8e4d34",
   "metadata": {},
   "outputs": [],
   "source": [
    "f, ax = av.summary_plot(bounds = ((-3000, 3000), (-1000, 14000)))\n",
    "ax.annotate(s='', xy=(-1000.0,0.0), xytext=(-1000.0,12000.0), arrowprops=dict(arrowstyle='<->'))\n",
    "ax.annotate(s='vertical distance', xy=(-2500.0,6000.0), ha='center')"
   ]
  },
  {
   "cell_type": "markdown",
   "id": "f0efbc17-8e03-4182-82f7-77830c57a941",
   "metadata": {},
   "source": [
    "## Goal Falsification\n",
    "\n",
    "Constrained Bayesion optimization is used to attempt to falsify the 250 ft well clear region.\n",
    "\n",
    "#### Constraints\n",
    "\n",
    "* minimum distance to the intruder is set to 7000 ft.\n",
    "* the airspeed of the intruder is constrained to be \"reasonable\" (meaning not to trip a simulation error). This works out to be between [550, 1100] ft/s.\n",
    "\n",
    "#### Kernel\n",
    "\n",
    "* an standard periodic kernel is used with ARD turned on to created different lengthscales. 20 ft/s is used for speed quantities, 200 ft is used for distances, and 0.01 rad is used for angular."
   ]
  },
  {
   "cell_type": "code",
   "execution_count": null,
   "id": "359ae2de-52d3-4e61-a9e2-7fadd6bf148b",
   "metadata": {},
   "outputs": [],
   "source": [
    "def video_title(scen):\n",
    "    \"\"\"generate a filename for a scenario object\"\"\"\n",
    "    scen_sc = re.sub('(?!^)([A-Z]+)', r'_\\1',scen.__class__.__name__).lower()\n",
    "    return f\"{scen_sc}_{datetime.now().strftime('%m_%d_%H_%M')}\"\n"
   ]
  },
  {
   "cell_type": "code",
   "execution_count": null,
   "id": "4e4006e8-7c7e-47ac-ab58-01c4973556bf",
   "metadata": {},
   "outputs": [],
   "source": [
    "#g = f16g.AcasRejoin()\n",
    "#g = f16g.AcasHeadOnGoal()\n",
    "g = f16g.AcasAirportGoal()"
   ]
  },
  {
   "cell_type": "code",
   "execution_count": null,
   "id": "1e504686-d360-4f97-9433-aacffce760ac",
   "metadata": {},
   "outputs": [],
   "source": [
    "g.test(max_time=60*5)"
   ]
  },
  {
   "cell_type": "code",
   "execution_count": null,
   "id": "57d777f4-d7f0-4371-b6c5-76de6cacae8a",
   "metadata": {},
   "outputs": [],
   "source": [
    "# plot GPyOpt's Convergence Information\n",
    "g.optimizer.plot_convergence()"
   ]
  },
  {
   "cell_type": "code",
   "execution_count": null,
   "id": "aca5ce67-0155-416f-9687-c3e5d3b1eff6",
   "metadata": {},
   "outputs": [],
   "source": [
    "# run the best example and plot the results (using AcasScenarioViewer)\n",
    "from csaf_f16.acas import AcasScenarioViewer\n",
    "\n",
    "x0 = g.optimizer.x_opt\n",
    "scen = g.scenario_type()\n",
    "trajs, p = g.run_sim(x0)\n",
    "\n",
    "viewer = AcasScenarioViewer(trajs, scen)\n",
    "fig, ax = viewer.summary_plot()\n",
    "ax.set_xlim(-10000, 10000)\n",
    "ax.set_ylim(0, 25000)\n",
    "plt.show()"
   ]
  },
  {
   "cell_type": "code",
   "execution_count": null,
   "id": "888025de-7a2b-4e9f-a51b-2740cedae95b",
   "metadata": {},
   "outputs": [],
   "source": [
    "g.optimizer.x_opt"
   ]
  },
  {
   "cell_type": "code",
   "execution_count": null,
   "id": "08d06cb3-07d5-441a-87d0-c475dac2a6b1",
   "metadata": {},
   "outputs": [],
   "source": [
    "#from IPython.display import HTML\n",
    "#from matplotlib import animation\n",
    "#viewer = AcasScenarioViewer(trajs, ar)\n",
    "#anim = viewer.summary_video(bounds=((-15000, 15000), (-5000, 25000)), msize=0.0005)\n",
    "# use this to render a video player in the notebooks\n",
    "#HTML(anim.to_jshtml())\n",
    "# use this to write it as gif to cwd\n",
    "#writervideo = animation.FFMpegWriter(fps=30) \n",
    "#anim.save(f\"{video_title(g.scenario_type())}.gif\", writer=writervideo)"
   ]
  },
  {
   "cell_type": "code",
   "execution_count": null,
   "id": "fba5fe4d-476d-477e-9e08-6a3aa1563287",
   "metadata": {},
   "outputs": [],
   "source": [
    "import numpy as np\n",
    "sidxs= np.argsort(g.optimizer.Y.flatten())\n",
    "Xt, Yt = g.optimizer.X[sidxs[:10]], g.optimizer.Y[sidxs[:10]]"
   ]
  },
  {
   "cell_type": "code",
   "execution_count": null,
   "id": "1518ffd9-6005-4f2d-9bc4-8b56f75f930c",
   "metadata": {},
   "outputs": [],
   "source": [
    "for idx, xi in enumerate(Xt):\n",
    "    print(\"-----\")\n",
    "    print(idx, xi)\n",
    "    scen = g.scenario_type()\n",
    "    trajs, p = g.run_sim(xi)\n",
    "\n",
    "    viewer = AcasScenarioViewer(trajs, scen)\n",
    "    fig, ax = viewer.summary_plot()\n",
    "    ax.set_xlim(-10000, 10000)\n",
    "    ax.set_ylim(0, 25000)\n",
    "    plt.show()\n",
    "    print(\"-----\")"
   ]
  },
  {
   "cell_type": "code",
   "execution_count": null,
   "id": "d1e279f5-f4cc-4d68-8a89-e46ec54fe8d1",
   "metadata": {},
   "outputs": [],
   "source": []
  }
 ],
 "metadata": {
  "kernelspec": {
   "display_name": "Python [conda env:test_csaf]",
   "language": "python",
   "name": "conda-env-test_csaf-py"
  },
  "language_info": {
   "codemirror_mode": {
    "name": "ipython",
    "version": 3
   },
   "file_extension": ".py",
   "mimetype": "text/x-python",
   "name": "python",
   "nbconvert_exporter": "python",
   "pygments_lexer": "ipython3",
   "version": "3.9.6"
  }
 },
 "nbformat": 4,
 "nbformat_minor": 5
}
