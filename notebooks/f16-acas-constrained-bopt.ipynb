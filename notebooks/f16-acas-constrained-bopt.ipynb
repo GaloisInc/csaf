{
 "cells": [
  {
   "cell_type": "markdown",
   "id": "e3a0b4ba-17eb-4745-8972-74716e3e340b",
   "metadata": {},
   "source": [
    "# F16 Air Collision Property Falsification\n",
    "\n",
    "\n",
    "We will be analyzing an air collision avoidance autopilot, attempting to find instances where the autopilot fails to avoid a collision. For this activity, we have described the F16 system, intruder scenario, properties, and solver configuration using CSAF abstractions. Namely,\n",
    "\n",
    "* **Systems** The ownship and intruder F-16 systems are described as systems composed of components. The ACAS autopilot collects messages of both aircrafts' states and determines a corrective course for the ownship.\n",
    "\n",
    "* **Scenarios** The systems are dozens of states and parameters, and so exploring this space fully would be intensive. Scenarios allow one to define an interface that reduces the parameters to search by fixing some value or appealing to symmetry present in the system. For instance, rather than varying both aircrafts' position, airspeed, and heading, relative values are searched. We fix the ownship speed, heading, and position, while varying the intruder.\n",
    "\n",
    "* **Goals** Goals encode properties associated with systems or scenarios and an analysis that can verify or falsify them. In this case, we attempt to falsify a collision property using bayesian optimization. Note that failing to falsify the collision doesn't mean that the ownship is verfied to avoid a collision in the scenario's configuration space."
   ]
  },
  {
   "cell_type": "code",
   "execution_count": null,
   "id": "71268072",
   "metadata": {},
   "outputs": [],
   "source": [
    "# imports\n",
    "import numpy as np\n",
    "import matplotlib.pyplot as plt\n",
    "%matplotlib inline\n",
    "%config InlineBackend.figure_format='retina'\n",
    "\n",
    "import sys\n",
    "sys.path.append(\"..\")\n",
    "\n",
    "import csaf\n",
    "from csaf_f16.goals import AcasSimpleFalsifyGoal, AcasNoBalloonAirspeedFalsifyGoal"
   ]
  },
  {
   "cell_type": "markdown",
   "id": "622454b7",
   "metadata": {},
   "source": [
    "## Construct the F16 Scenario\n",
    "\n",
    "`csaf_f16` has a collection goals in `csaf_f16.goals`. One goal is `AcasSimpleFalsifyGoal` and contains an intruder and ownship F-16 whose relative lateral position, heading, and airspeed can be searched."
   ]
  },
  {
   "cell_type": "code",
   "execution_count": null,
   "id": "4f68d268",
   "metadata": {},
   "outputs": [],
   "source": [
    "# Create falsification goal\n",
    "g = AcasSimpleFalsifyGoal()"
   ]
  },
  {
   "cell_type": "markdown",
   "id": "e2b964fa",
   "metadata": {},
   "source": [
    "## Solve the Optimization Problem\n",
    "\n",
    "The goal object already has its falsification strategy set--constrained bayesian optimization (using `GPyOpt`). As the falsifier will run indefinitely if there are no counterexamples (ACAS-Xu autopilot is verified), we set a maximum time and maximum number of solver iterations."
   ]
  },
  {
   "cell_type": "code",
   "execution_count": null,
   "id": "d3a33b9e",
   "metadata": {},
   "outputs": [],
   "source": [
    "# Run optimization with default values\n",
    "g.test(max_time=30.0, max_iter=1000)"
   ]
  },
  {
   "cell_type": "markdown",
   "id": "4c1fdc7a",
   "metadata": {},
   "source": [
    "## Visualize the Optimal Configuration"
   ]
  },
  {
   "cell_type": "code",
   "execution_count": null,
   "id": "c69a8bfc",
   "metadata": {},
   "outputs": [],
   "source": [
    "# plot GPyOpt's Convergence Information\n",
    "g.optimizer.plot_convergence()"
   ]
  },
  {
   "cell_type": "code",
   "execution_count": null,
   "id": "85f39def",
   "metadata": {},
   "outputs": [],
   "source": [
    "# print optimal configuration and objective value\n",
    "print(g.optimizer.x_opt)\n",
    "print(g.optimizer.fx_opt)"
   ]
  },
  {
   "cell_type": "code",
   "execution_count": null,
   "id": "9d998625",
   "metadata": {},
   "outputs": [],
   "source": [
    "# run the best example and plot the results (using AcasScenarioViewer)\n",
    "from csaf_f16.acas import AcasScenarioViewer\n",
    "\n",
    "x0 = g.optimizer.x_opt\n",
    "scen = g.scenario_type()\n",
    "trajs, p = g.run_sim(x0)\n",
    "\n",
    "viewer = AcasScenarioViewer(trajs, scen)\n",
    "fig, ax = viewer.summary_plot()\n",
    "ax.set_xlim(-10000, 10000)\n",
    "ax.set_ylim(0, 25000)\n",
    "plt.show()"
   ]
  },
  {
   "cell_type": "code",
   "execution_count": null,
   "id": "d55d0183",
   "metadata": {},
   "outputs": [],
   "source": [
    "# uncomment this to see a video\n",
    "\"\"\"\n",
    "from IPython.display import HTML\n",
    "from matplotlib import animation\n",
    "anim = viewer.summary_video(bounds=((-15000, 15000), (-5000, 25000)), msize=0.0005)\n",
    "HTML(anim.to_jshtml())\n",
    "\"\"\""
   ]
  },
  {
   "cell_type": "code",
   "execution_count": null,
   "id": "35d5af78",
   "metadata": {},
   "outputs": [],
   "source": []
  }
 ],
 "metadata": {
  "kernelspec": {
   "display_name": "Python 3 (ipykernel)",
   "language": "python",
   "name": "python3"
  },
  "language_info": {
   "codemirror_mode": {
    "name": "ipython",
    "version": 3
   },
   "file_extension": ".py",
   "mimetype": "text/x-python",
   "name": "python",
   "nbconvert_exporter": "python",
   "pygments_lexer": "ipython3",
   "version": "3.9.2"
  }
 },
 "nbformat": 4,
 "nbformat_minor": 5
}
