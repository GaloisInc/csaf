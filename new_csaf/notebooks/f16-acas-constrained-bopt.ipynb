{
 "cells": [
  {
   "cell_type": "code",
   "execution_count": null,
   "id": "71268072",
   "metadata": {},
   "outputs": [],
   "source": [
    "import numpy as np\n",
    "\n",
    "import GPyOpt\n",
    "import GPy\n",
    "\n",
    "import sys\n",
    "sys.path.append(\"..\")\n",
    "sys.path.append(\"csaf/core\")\n",
    "sys.path.append(\"../../examples/f16/\")\n",
    "sys.path.append(\"../../examples/f16/components\")\n",
    "\n",
    "from f16lib.acas import AcasScenario, AcasShieldScenario, AcasScenarioViewer\n",
    "\n",
    "from components import fgnetfdm, fgintruder\n",
    "\n",
    "import matplotlib.pyplot as plt\n",
    "%matplotlib inline\n",
    "%config InlineBackend.figure_format='retina'\n"
   ]
  },
  {
   "cell_type": "markdown",
   "id": "622454b7",
   "metadata": {},
   "source": [
    "## Construct the F16 Scenario"
   ]
  },
  {
   "cell_type": "code",
   "execution_count": null,
   "id": "4f68d268",
   "metadata": {},
   "outputs": [],
   "source": [
    "def intruder_airspeed(t):\n",
    "    #return min(550.0 + t * 10.0, 800.0)\n",
    "    if t <= 7.0:\n",
    "        return 800.0\n",
    "    else: \n",
    "        return 1000.0\n",
    "\n",
    "\n",
    "def air_collision_condition(ctraces):\n",
    "        \"\"\"ground collision premature termination condition\n",
    "        \"\"\"\n",
    "        # get the aircraft states\n",
    "        sa, sb, sc = ctraces['plant']['states'], ctraces['intruder_plant']['states'], ctraces['balloon']['states']\n",
    "        if sa and sb and sc:\n",
    "            # look at distance between last state\n",
    "            dab =  (np.linalg.norm(np.array(sa[-1][9:11]) - np.array(sb[-1][9:11]))) \n",
    "            dac = (np.linalg.norm(np.array(sa[-1][9:11]) - np.array(sc[-1][9:11]))) \n",
    "            return dab < 250.0 or dac < 250.0\n",
    "        \n",
    "\n",
    "\n",
    "def get_system(states):\n",
    "    \"\"\"construct a scenario and system given the configuration coordinates (states)\"\"\"\n",
    "    # scenario\n",
    "    scen = AcasScenario(\n",
    "        [-3000.0, 12000], # balloon position\n",
    "        #[12000.0, -12000],\n",
    "        800.0, # ownship airspeed\n",
    "        ((0.0, 21000.0, 1000.0),), # own waypoints\n",
    "        ((*states[:2], 1000.0),), # intruder waypoints -- none for now\n",
    "        intruder_velocity = intruder_airspeed\n",
    "    )\n",
    "    # scenario, system\n",
    "    return scen, scen.create_system(\n",
    "        [*states[:2], # relative position\n",
    "         states[2], # relative heading\n",
    "         states[3]]) # relative airspeed\n",
    "\n",
    "\n",
    "def objective_function(states) -> float:\n",
    "    \"\"\"obj: configuration space -> real number\"\"\"\n",
    "    # run simulation\n",
    "    _, sys = get_system(states)\n",
    "    trajs, p = sys.simulate_tspan((0.0, 30.0), return_passed=True)\n",
    "    \n",
    "    # get distances between ownship and intruder\n",
    "    intruder_pos = np.array(trajs['intruder_plant'].states)[:, 9:11]\n",
    "    ownship_pos = np.array(trajs['plant'].states)[:, 9:11]\n",
    "    rel_pos = intruder_pos - ownship_pos\n",
    "    \n",
    "    # get distances between ownship and balloon\n",
    "    dists = np.linalg.norm(rel_pos, axis=1)\n",
    "    ballon_dists = ownship_pos - np.tile(np.array(trajs['balloon'].states)[-1, 9:11][:], (len(ownship_pos), 1))\n",
    "    bdists = np.linalg.norm(ballon_dists, axis=1)\n",
    "    \n",
    "    # get objective (min distance to obstacles)\n",
    "    print(\"OBJECTIVE (min distance): \", min(np.hstack((dists, bdists))), \",\", np.sqrt(min(dists) * min(bdists)))\n",
    "    # geometric mean of min dists\n",
    "    return np.sqrt(min(dists) * min(bdists))\n",
    "    # minimum distance\n",
    "    #return min(np.hstack((dists, bdists)))\n",
    "\n",
    "\n",
    "def objective_function_opt(x):\n",
    "    \"\"\"GPyOpt Objective\"\"\"\n",
    "    return np.array([objective_function(xi) for xi in x])"
   ]
  },
  {
   "cell_type": "markdown",
   "id": "8b1e11c6",
   "metadata": {},
   "source": [
    "## Formulate the Optimization Problem"
   ]
  },
  {
   "cell_type": "code",
   "execution_count": null,
   "id": "49a6fde7",
   "metadata": {},
   "outputs": [],
   "source": [
    "# describe initial states (via bounds)\n",
    "bounds = [{'name': 'x_pos', 'type': 'continuous', 'domain': (-10000,10000)},\n",
    "          {'name': 'y_pos', 'type': 'continuous', 'domain': (-10000,10000)},\n",
    "          {'name': 'theta', 'type': 'continuous', 'domain': (-np.pi,np.pi)},\n",
    "          {'name': 'speed', 'type': 'continuous', 'domain': (0,0)}]\n",
    "\n",
    "# additional constraints to reduce the initial states\n",
    "constraints = [\n",
    "    # keep intruder initial position at least 7000 ft away\n",
    "    {'name': 'constr_1', 'constraint': '-((x[:, 1]**2 + x[:, 0]**2) - 7000**2)'},\n",
    "    # keep intruder \"pointed at\" ownship, plus/minus 90 degrees\n",
    "    # TODO: this doesn't look at all quadrants - debug?\n",
    "    #{'name': 'constr_2', 'constraint': 'np.abs((np.pi + x[:, 2]) - np.arctan2(x[:, 1], x[:, 0])) - np.pi/2'}\n",
    "]"
   ]
  },
  {
   "cell_type": "code",
   "execution_count": null,
   "id": "70bb1c21",
   "metadata": {},
   "outputs": [],
   "source": [
    "# get feasible region from initial states and constraints\n",
    "feasible_region = GPyOpt.Design_space(space = bounds, constraints = constraints)\n",
    "\n",
    "# generate initial designs\n",
    "initial_design = GPyOpt.experiment_design.initial_design('random', feasible_region, 10)\n",
    "# incorporate \"good guesses\"\n",
    "initial_design = np.vstack((\n",
    "    # \"good guess\" 1\n",
    "    #[0.0, 8000, np.pi, 0.0], \n",
    "    # \"good guess\" 2\n",
    "    [7000, 1000.0, -np.pi/2, -100.0], \n",
    "    initial_design))"
   ]
  },
  {
   "cell_type": "code",
   "execution_count": null,
   "id": "2125d067",
   "metadata": {},
   "outputs": [],
   "source": [
    "# get GPyOpt objective from function\n",
    "objective = GPyOpt.core.task.SingleObjective(objective_function_opt)"
   ]
  },
  {
   "cell_type": "code",
   "execution_count": null,
   "id": "75feb099",
   "metadata": {},
   "outputs": [],
   "source": [
    "# custom kernel!\n",
    "# we know that the relative heading angle is periodic, so we can set and fix it\n",
    "# we know that the lengthscales and periods will be different along each natural axis, so we turn on ARD\n",
    "# we know prior variance is low, so we can set low as well\n",
    "k = GPy.kern.StdPeriodic(4,  # dimension\n",
    "                         ARD1=True, ARD2=True, \n",
    "                         variance=1E-2,\n",
    "                         period=[1E10, 1E10, 2*np.pi, 1E8], \n",
    "                         lengthscale=[200.0/3, 200.0/3, 0.06/3, 4.0/3])\n",
    "k.period.fix()\n",
    "k.lengthscale.fix()\n",
    "#k.variance.fix()\n"
   ]
  },
  {
   "cell_type": "code",
   "execution_count": null,
   "id": "f8df6643",
   "metadata": {},
   "outputs": [],
   "source": [
    "def cost(x):\n",
    "    \"\"\"weakly penalize searching too far away (this is optional)\"\"\"\n",
    "    cost_f  = -np.atleast_2d(.001*x[:,0]**2 +.001*x[:,1]**2).T\n",
    "    cost_df = -np.array([0.002*x[:,0],0.002*x[:,1]]).T\n",
    "    return cost_f, cost_df"
   ]
  },
  {
   "cell_type": "code",
   "execution_count": null,
   "id": "b40326bb",
   "metadata": {},
   "outputs": [],
   "source": [
    "# get GPModel from the covariance (kernel)\n",
    "model = GPyOpt.models.GPModel(exact_feval=True,optimize_restarts=0,verbose=False,kernel=k)\n",
    "\n",
    "# get the GPOpt acquisition optimizer\n",
    "aquisition_optimizer = GPyOpt.optimization.AcquisitionOptimizer(feasible_region)\n",
    "\n",
    "# get the type of acquisition\n",
    "acquisition = GPyOpt.acquisitions.AcquisitionEI(model, feasible_region, optimizer=aquisition_optimizer)\n",
    "\n",
    "# get the collection method\n",
    "evaluator = GPyOpt.core.evaluators.Sequential(acquisition)\n",
    "\n",
    "# get a cost model from the cost func\n",
    "cost = GPyOpt.core.task.cost.CostModel(cost)"
   ]
  },
  {
   "cell_type": "markdown",
   "id": "e2b964fa",
   "metadata": {},
   "source": [
    "## Solve the Optimization Problem"
   ]
  },
  {
   "cell_type": "code",
   "execution_count": null,
   "id": "1cdd3149",
   "metadata": {},
   "outputs": [],
   "source": [
    "# build the modular Bayesian optimization model\n",
    "bo = GPyOpt.methods.ModularBayesianOptimization(model, \n",
    "                                                feasible_region, \n",
    "                                                objective, \n",
    "                                                acquisition, \n",
    "                                                evaluator, \n",
    "                                                initial_design, \n",
    "                                                cost=None)"
   ]
  },
  {
   "cell_type": "markdown",
   "id": "4c1fdc7a",
   "metadata": {},
   "source": [
    "## Visualize the Optimal Configuration"
   ]
  },
  {
   "cell_type": "code",
   "execution_count": null,
   "id": "6fe21d27",
   "metadata": {},
   "outputs": [],
   "source": [
    "#idx = idxs[8]\n",
    "#print(bo.X[idx])\n",
    "#x_pt = bo.X[idx]\n",
    "\n",
    "\n",
    "# collision\n",
    "#x_pt = np.array([-6.28136243e+03,\n",
    "#                 4.82438421e+03,\n",
    "#                 1.13059323e+00,\n",
    "#                 0.00000000e+00])\n",
    "\n",
    "# recovery collision\n",
    "#x_pt = np.array([-2.59438967e+03,  8.45941195e+03,  2.48404095e+00,  0.00000000e+00])\n",
    "\n",
    "# succession of both vehicles\n",
    "#x_pt = np.array([ 8.11003833e+03,  6.35794347e+03, -6.21766940e-01,  0.00000000e+00])\n",
    "\n",
    "# success\n",
    "#x_pt = np.array([-8.17529224e+03,\n",
    "#                 9.97838802e+03,\n",
    "#                 1.80759653e+00,\n",
    "#                 0.00000000e+00])\n",
    "\n",
    "# near collision\n",
    "#x_pt = np.array([-5.81146488e+03,\n",
    "#                 5.77646592e+03,\n",
    "#                 1.56159655e+00,\n",
    "#                 0.00000000e+00])\n",
    "\n",
    "# no collision\n",
    "x_pt = np.array([ 7.48737042e+03,\n",
    "                  7.22693875e+03, \n",
    "                  -1.27871855e+00,\n",
    "                  0.00000000e+00])\n",
    "\n",
    "\n",
    "scen, sys = get_system(x_pt) # relative airspeed\n",
    "trajs, p = sys.simulate_tspan((0.0, 20.0), return_passed=True, terminating_conditions_all=air_collision_condition)\n",
    "viewer = AcasScenarioViewer(trajs, scen)\n",
    "fig, ax = viewer.summary_plot()\n",
    "plt.show()"
   ]
  },
  {
   "cell_type": "code",
   "execution_count": null,
   "id": "3333a8b6",
   "metadata": {},
   "outputs": [],
   "source": [
    "# Find the point of closest contact\n",
    "ownship = trajs['plant']['states']\n",
    "intruder = trajs['intruder_plant']['states']\n",
    "\n",
    "d_min = np.inf\n",
    "d_idx = 0\n",
    "for idx in range(0,len(ownship)):\n",
    "    pn_o = ownship[idx][9]\n",
    "    pe_o = ownship[idx][10]\n",
    "    pn_i = intruder[idx][9]\n",
    "    pe_i = intruder[idx][10]\n",
    "    d = np.sqrt((pn_o -pn_i)**2 + (pe_o - pe_i)**2)\n",
    "    if d < d_min:\n",
    "        d_min = d\n",
    "        d_idx = idx\n",
    "\n",
    "pn_0 = ownship[d_idx][9]\n",
    "pe_0 = ownship[d_idx][10]\n",
    "print(f\"D_min={d_min}, idx={d_idx}, pn_0 = {pn_0},pe_0={pe_0}\")"
   ]
  },
  {
   "cell_type": "code",
   "execution_count": null,
   "id": "09fca6d5",
   "metadata": {},
   "outputs": [],
   "source": [
    "# Place camera\n",
    "import copy\n",
    "camera = copy.deepcopy(trajs['balloon'])\n",
    "for state in camera.states:\n",
    "    state[9] = pn_0\n",
    "    state[10] = pe_0\n",
    "trajs['camera'] = camera"
   ]
  },
  {
   "cell_type": "code",
   "execution_count": null,
   "id": "e133a3a1",
   "metadata": {},
   "outputs": [],
   "source": [
    "f16a = fgnetfdm.FGNetFDM(h0_m=1500)\n",
    "f16b = fgintruder.FGIntruder(callsign='F-16B', model_path='Aircraft/f16/Models/F-16.xml', fallback_model_index=516)\n",
    "balloon = fgintruder.FGIntruder(callsign='Balloon', model_path='Aircraft/Hot-Air-Balloon/Models/Hot-Air-Balloon.xml', fallback_model_index=702)\n",
    "camera = fgintruder.FGIntruder(callsign='Camera', model_path='Aircraft/ufo/Models/ufo.xml', fallback_model_index=712)"
   ]
  },
  {
   "cell_type": "code",
   "execution_count": null,
   "id": "e990c8d4",
   "metadata": {},
   "outputs": [],
   "source": [
    "f16a.start()\n",
    "f16b.start()\n",
    "balloon.start()\n",
    "camera.start()"
   ]
  },
  {
   "cell_type": "code",
   "execution_count": null,
   "id": "5e2149f1",
   "metadata": {},
   "outputs": [],
   "source": [
    "# Properly prepare the intruders\n",
    "f16a.set_trajs(trajs['plant'],trajs['llc'])\n",
    "f16b.set_trajs(trajs['intruder_plant'],trajs['intruder_llc'])\n",
    "# LLC for balloon doesn't matter\n",
    "balloon.set_trajs(trajs['balloon'],trajs['llc'])\n",
    "camera.set_trajs(trajs['camera'],trajs['llc'])"
   ]
  },
  {
   "cell_type": "code",
   "execution_count": null,
   "id": "5aa5f1d5",
   "metadata": {},
   "outputs": [],
   "source": [
    "f16a.reset()\n",
    "f16b.reset()\n",
    "balloon.reset()\n",
    "camera.reset()"
   ]
  },
  {
   "cell_type": "code",
   "execution_count": null,
   "id": "c99db4ab",
   "metadata": {},
   "outputs": [],
   "source": [
    "# Run the simulation\n",
    "f16a.simulate(delta_t=0.01,speed=0.9)\n",
    "f16b.simulate(delta_t=0.5,speed=0.9)\n",
    "balloon.simulate(delta_t=0.5,speed=0.9)\n",
    "camera.simulate(delta_t=0.5,speed=0.9)"
   ]
  },
  {
   "cell_type": "code",
   "execution_count": null,
   "id": "71a23598",
   "metadata": {},
   "outputs": [],
   "source": [
    "f16a.stop()\n",
    "f16b.stop()\n",
    "balloon.stop()\n",
    "camera.stop()"
   ]
  }
 ],
 "metadata": {
  "kernelspec": {
   "display_name": "Python 3 (ipykernel)",
   "language": "python",
   "name": "python3"
  },
  "language_info": {
   "codemirror_mode": {
    "name": "ipython",
    "version": 3
   },
   "file_extension": ".py",
   "mimetype": "text/x-python",
   "name": "python",
   "nbconvert_exporter": "python",
   "pygments_lexer": "ipython3",
   "version": "3.9.5"
  }
 },
 "nbformat": 4,
 "nbformat_minor": 5
}
