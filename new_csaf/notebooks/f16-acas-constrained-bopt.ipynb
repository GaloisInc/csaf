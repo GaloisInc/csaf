{
 "cells": [
  {
   "cell_type": "code",
   "execution_count": null,
   "id": "71268072",
   "metadata": {},
   "outputs": [],
   "source": [
    "import numpy as np\n",
    "\n",
    "import sys\n",
    "sys.path.append(\"..\")\n",
    "import csaf\n",
    "import matplotlib.pyplot as plt\n",
    "%matplotlib inline\n",
    "%config InlineBackend.figure_format='retina'"
   ]
  },
  {
   "cell_type": "markdown",
   "id": "622454b7",
   "metadata": {},
   "source": [
    "## Construct the F16 Scenario"
   ]
  },
  {
   "cell_type": "code",
   "execution_count": null,
   "id": "4f68d268",
   "metadata": {},
   "outputs": [],
   "source": [
    "# describe initial states (via bounds)\n",
    "bounds = [{'name': 'x_pos', 'type': 'continuous', 'domain': (-10000,10000)},\n",
    "          {'name': 'y_pos', 'type': 'continuous', 'domain': (-10000,10000)},\n",
    "          {'name': 'theta', 'type': 'continuous', 'domain': (-np.pi,np.pi)},\n",
    "          {'name': 'speed', 'type': 'continuous', 'domain': (-200,200)}]\n",
    "\n",
    "# additional constraints to reduce the initial states\n",
    "constraints = [\n",
    "    # keep intruder initial position at least 7000 ft away\n",
    "    {'name': 'constr_1', 'constraint': '-((x[:, 1]**2 + x[:, 0]**2) - 7000**2)'},\n",
    "    # keep intruder \"pointed at\" ownship, plus/minus 90 degrees\n",
    "    # TODO: this doesn't look at all quadrants - debug?\n",
    "    #{'name': 'constr_2', 'constraint': 'np.abs((np.pi + x[:, 2]) - np.arctan2(x[:, 1], x[:, 0])) - np.pi/2'}\n",
    "]\n",
    "\n",
    "def intruder_airspeed(t):\n",
    "    return min(550.0 + t * 10.0, 800.0)\n",
    "\n",
    "# Create scenario\n",
    "s = csaf.test.ScenarioAcas(bounds, constraints, intruder_airspeed)\n",
    "\n",
    "# Create optimizer\n",
    "o = csaf.test.GPOptimizer()\n",
    "\n",
    "# Create falsification goal\n",
    "g = csaf.test.FalsifyAcas(optimizer=o, scenario=s)"
   ]
  },
  {
   "cell_type": "markdown",
   "id": "e2b964fa",
   "metadata": {},
   "source": [
    "## Solve the Optimization Problem"
   ]
  },
  {
   "cell_type": "code",
   "execution_count": null,
   "id": "d3a33b9e",
   "metadata": {},
   "outputs": [],
   "source": [
    "# Run optimization with default values\n",
    "g.falsify()"
   ]
  },
  {
   "cell_type": "markdown",
   "id": "4c1fdc7a",
   "metadata": {},
   "source": [
    "## Visualize the Optimal Configuration"
   ]
  },
  {
   "cell_type": "code",
   "execution_count": null,
   "id": "c69a8bfc",
   "metadata": {},
   "outputs": [],
   "source": [
    "# TODO: add prettier accessors\n",
    "g.optimizer.bo.plot_convergence()"
   ]
  },
  {
   "cell_type": "code",
   "execution_count": null,
   "id": "85f39def",
   "metadata": {},
   "outputs": [],
   "source": [
    "# print optimal configuration and objective value\n",
    "print(g.optimizer.bo.x_opt)\n",
    "print(g.optimizer.bo.fx_opt)"
   ]
  },
  {
   "cell_type": "code",
   "execution_count": null,
   "id": "9d998625",
   "metadata": {},
   "outputs": [],
   "source": [
    "from f16lib.acas import AcasScenarioViewer\n",
    "scen, sys = s.get_system_under_test(g.optimizer.bo.x_opt) # relative airspeed\n",
    "trajs, p = sys.simulate_tspan((0.0, 30.0), return_passed=True, terminating_conditions_all=g.properties_func)\n",
    "viewer = AcasScenarioViewer(trajs, scen)\n",
    "fig, ax = viewer.summary_plot()\n",
    "plt.show()"
   ]
  },
  {
   "cell_type": "code",
   "execution_count": null,
   "id": "9f1b57d7",
   "metadata": {},
   "outputs": [],
   "source": [
    "idxs = np.argsort(g.optimizer.bo.Y.flatten())\n",
    "for idx in idxs[:10]:\n",
    "    scen, sys = s.get_system_under_test(g.optimizer.bo.X[idx]) # relative airspeed\n",
    "    trajs, p = sys.simulate_tspan((0.0, 30.0), return_passed=True, terminating_conditions_all=g.properties_func)\n",
    "    viewer = AcasScenarioViewer(trajs, scen)\n",
    "    fig, ax = viewer.summary_plot()\n",
    "    plt.show()"
   ]
  },
  {
   "cell_type": "code",
   "execution_count": null,
   "id": "7c35a094",
   "metadata": {},
   "outputs": [],
   "source": [
    "from IPython.display import HTML\n",
    "from matplotlib import animation\n",
    "anim = viewer.summary_video()\n",
    "#writervideo = animation.FFMpegWriter(fps=30) \n",
    "#anim.save(\"bopt_example.mp4\", writer=writervideo)\n",
    "HTML(anim.to_jshtml())"
   ]
  },
  {
   "cell_type": "code",
   "execution_count": null,
   "id": "53faab4e",
   "metadata": {},
   "outputs": [],
   "source": [
    "istates = np.array(trajs[\"intruder_plant\"].states)\n",
    "itimes = np.array(trajs[\"intruder_plant\"].times)\n",
    "\n",
    "plt.figure(figsize=(8, 6))\n",
    "plt.plot(itimes, istates[:, 0], zorder=200, label='Airspeed')\n",
    "plt.plot(itimes, [intruder_airspeed(t) for t in itimes], '--k', label='Setpoint')\n",
    "plt.grid()\n",
    "plt.legend()\n",
    "plt.xlabel(\"Time (s)\")\n",
    "plt.ylabel(\"Airspeed (ft/s)\")"
   ]
  },
  {
   "cell_type": "code",
   "execution_count": null,
   "id": "e133a3a1",
   "metadata": {},
   "outputs": [],
   "source": []
  }
 ],
 "metadata": {
  "kernelspec": {
   "display_name": "Python 3 (ipykernel)",
   "language": "python",
   "name": "python3"
  },
  "language_info": {
   "codemirror_mode": {
    "name": "ipython",
    "version": 3
   },
   "file_extension": ".py",
   "mimetype": "text/x-python",
   "name": "python",
   "nbconvert_exporter": "python",
   "pygments_lexer": "ipython3",
   "version": "3.9.5"
  }
 },
 "nbformat": 4,
 "nbformat_minor": 5
}
