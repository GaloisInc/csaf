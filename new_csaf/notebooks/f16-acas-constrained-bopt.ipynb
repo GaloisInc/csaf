{
 "cells": [
  {
   "cell_type": "code",
   "execution_count": null,
   "id": "c234c2e6",
   "metadata": {},
   "outputs": [],
   "source": [
    "import numpy as np\n",
    "\n",
    "import GPyOpt\n",
    "import GPy\n",
    "\n",
    "import sys\n",
    "sys.path.append(\"..\")\n",
    "\n",
    "from f16lib.acas import AcasScenario, AcasShieldScenario, AcasScenarioViewer\n",
    "\n",
    "\n",
    "import matplotlib.pyplot as plt\n",
    "%matplotlib inline\n",
    "%config InlineBackend.figure_format='retina'"
   ]
  },
  {
   "cell_type": "markdown",
   "id": "43851f69",
   "metadata": {},
   "source": [
    "## Construct the F16 Scenario"
   ]
  },
  {
   "cell_type": "code",
   "execution_count": null,
   "id": "1cd81046",
   "metadata": {},
   "outputs": [],
   "source": [
    "def get_system(states):\n",
    "    \"\"\"construct a scenario and system given the configuration coordinates (states)\"\"\"\n",
    "    # scenario\n",
    "    scen = AcasShieldScenario(\n",
    "        [-2000.0, 6000], # balloon position\n",
    "        750.0, # ownship airspeed\n",
    "        ((0.0, 21000.0, 1000.0),), # own waypoints\n",
    "        ((*states[:2], 1000.0),) # intruder waypoints -- none for now\n",
    "    )\n",
    "    # scenario, system\n",
    "    return scen, scen.create_system(\n",
    "        [*states[:2], # relative position\n",
    "         states[2], # relative heading\n",
    "         states[3]]) # relative airspeed\n",
    "\n",
    "\n",
    "def objective_function(states) -> float:\n",
    "    \"\"\"obj: configuration space -> real number\"\"\"\n",
    "    # run simulation\n",
    "    _, sys = get_system(states)\n",
    "    trajs, p = sys.simulate_tspan((0.0, 20.0), return_passed=True)\n",
    "    \n",
    "    # get distances between ownship and intruder\n",
    "    intruder_pos = np.array(trajs['intruder_plant'].states)[:, 9:11]\n",
    "    ownship_pos = np.array(trajs['plant'].states)[:, 9:11]\n",
    "    rel_pos = intruder_pos - ownship_pos\n",
    "    \n",
    "    # get distances between ownship and balloon\n",
    "    dists = np.linalg.norm(rel_pos, axis=1)\n",
    "    ballon_dists = ownship_pos - np.tile(np.array(trajs['balloon'].states)[-1, 9:11][:], (len(ownship_pos), 1))\n",
    "    bdists = np.linalg.norm(ballon_dists, axis=1)\n",
    "    \n",
    "    # get objective (min distance to obstacles)\n",
    "    print(\"OBJECTIVE (min distance): \", min(np.hstack((dists, bdists))))\n",
    "    return min(np.hstack((dists, bdists)))\n",
    "\n",
    "\n",
    "def objective_function_opt(x):\n",
    "    \"\"\"GPyOpt Objective\"\"\"\n",
    "    return np.array([objective_function(xi) for xi in x])"
   ]
  },
  {
   "cell_type": "markdown",
   "id": "4f3178ef",
   "metadata": {},
   "source": [
    "## Formulate the Optimization Problem"
   ]
  },
  {
   "cell_type": "code",
   "execution_count": null,
   "id": "c3e8a715",
   "metadata": {},
   "outputs": [],
   "source": [
    "# describe initial states (via bounds)\n",
    "bounds = [{'name': 'x_pos', 'type': 'continuous', 'domain': (-10000,10000)},\n",
    "          {'name': 'y_pos', 'type': 'continuous', 'domain': (-10000,10000)},\n",
    "          {'name': 'theta', 'type': 'continuous', 'domain': (-np.pi,np.pi)},\n",
    "          {'name': 'speed', 'type': 'continuous', 'domain': (-200,200)}]\n",
    "\n",
    "# additional constraints to reduce the initial states\n",
    "constraints = [\n",
    "    # keep intruder initial position at least 7000 ft away\n",
    "    {'name': 'constr_1', 'constraint': '-((x[:, 1]**2 + x[:, 0]**2) - 7000**2)'},\n",
    "    # keep intruder \"pointed at\" ownship, plus/minus 90 degrees\n",
    "    {'name': 'constr_2', 'constraint': 'np.abs((np.pi + x[:, 2]) - np.arctan2(x[:, 1], x[:, 0])) - np.pi/2'}\n",
    "]"
   ]
  },
  {
   "cell_type": "code",
   "execution_count": null,
   "id": "78ea2216",
   "metadata": {},
   "outputs": [],
   "source": [
    "# get feasible region from initial states and constraints\n",
    "feasible_region = GPyOpt.Design_space(space = bounds, constraints = constraints)\n",
    "\n",
    "# generate initial designs\n",
    "initial_design = GPyOpt.experiment_design.initial_design('random', feasible_region, 10)\n",
    "# incorporate \"good guesses\"\n",
    "#initial_design = np.vstack((\n",
    "#    # \"good guess\" 1\n",
    "#    [0.0, 5000, np.pi, 100.0], \n",
    "#    # \"good guess\" 2\n",
    "#    [7000, 1000.0, -np.pi/2, -100.0], \n",
    "#    initial_design))"
   ]
  },
  {
   "cell_type": "code",
   "execution_count": null,
   "id": "8452f165",
   "metadata": {},
   "outputs": [],
   "source": [
    "# get GPyOpt objective from function\n",
    "objective = GPyOpt.core.task.SingleObjective(objective_function_opt)"
   ]
  },
  {
   "cell_type": "code",
   "execution_count": null,
   "id": "edfbff2c",
   "metadata": {},
   "outputs": [],
   "source": [
    "# custom kernel!\n",
    "# we know that the relative heading angle is periodic, so we can set and fix it\n",
    "# we know that the lengthscales and periods will be different along each natural axis, so we turn on ARD\n",
    "# we know prior variance is low, so we can set low as well\n",
    "k = GPy.kern.StdPeriodic(4,  # dimension\n",
    "                         ARD1=True, ARD2=True, \n",
    "                         variance=1E-2,\n",
    "                         period=[1E10, 1E10, 2*np.pi, 1E8], \n",
    "                         lengthscale=[100.0, 100.0, 2.0, 20.0])\n",
    "k.period.fix()\n",
    "k.variance.fix()"
   ]
  },
  {
   "cell_type": "code",
   "execution_count": null,
   "id": "79f924fb",
   "metadata": {},
   "outputs": [],
   "source": [
    "def cost(x):\n",
    "    \"\"\"weakly penalize searching too far away (this is optional)\"\"\"\n",
    "    cost_f  = np.atleast_2d(.001*x[:,0]**2 +.001*x[:,1]**2).T\n",
    "    cost_df = np.array([0.002*x[:,0],0.002*x[:,1]]).T\n",
    "    return cost_f, cost_df"
   ]
  },
  {
   "cell_type": "code",
   "execution_count": null,
   "id": "737bc1b5",
   "metadata": {},
   "outputs": [],
   "source": [
    "# get GPModel from the covariance (kernel)\n",
    "model = GPyOpt.models.GPModel(exact_feval=True,optimize_restarts=3,verbose=False,kernel=k, ARD=True)\n",
    "\n",
    "# get the GPOpt acquisition optimizer\n",
    "aquisition_optimizer = GPyOpt.optimization.AcquisitionOptimizer(feasible_region)\n",
    "\n",
    "# get the type of acquisition\n",
    "acquisition = GPyOpt.acquisitions.AcquisitionEI(model, feasible_region, optimizer=aquisition_optimizer)\n",
    "\n",
    "# get the collection method\n",
    "evaluator = GPyOpt.core.evaluators.Sequential(acquisition)\n",
    "\n",
    "# get a cost model from the cost func\n",
    "cost = GPyOpt.core.task.cost.CostModel(cost)"
   ]
  },
  {
   "cell_type": "markdown",
   "id": "f6283910",
   "metadata": {},
   "source": [
    "## Solve the Optimization Problem"
   ]
  },
  {
   "cell_type": "code",
   "execution_count": null,
   "id": "90323871",
   "metadata": {},
   "outputs": [],
   "source": [
    "# build the modular Bayesian optimization model\n",
    "bo = GPyOpt.methods.ModularBayesianOptimization(model, \n",
    "                                                feasible_region, \n",
    "                                                objective, \n",
    "                                                acquisition, \n",
    "                                                evaluator, \n",
    "                                                initial_design, \n",
    "                                                cost=cost)"
   ]
  },
  {
   "cell_type": "code",
   "execution_count": null,
   "id": "7a4922cd",
   "metadata": {},
   "outputs": [],
   "source": [
    "# --- Stop conditions\n",
    "max_time  = 120.0  # spend two minutes on the problem \n",
    "max_iter  = 100\n",
    "tolerance = 10    # distance between two consecutive observations \n",
    "\n",
    "# Run the optimization                                                  \n",
    "bo.run_optimization(max_iter = max_iter, \n",
    "                    max_time = max_time, \n",
    "                    eps = tolerance, \n",
    "                    verbosity=False) \n",
    "\n",
    "bo.plot_convergence()"
   ]
  },
  {
   "cell_type": "markdown",
   "id": "04b8bcfe",
   "metadata": {},
   "source": [
    "## Visualize the Optimal Configuration"
   ]
  },
  {
   "cell_type": "code",
   "execution_count": null,
   "id": "24359613",
   "metadata": {},
   "outputs": [],
   "source": [
    "# print optimal configuration and objective value\n",
    "print(bo.x_opt)\n",
    "print(bo.fx_opt)"
   ]
  },
  {
   "cell_type": "code",
   "execution_count": null,
   "id": "41472cf3",
   "metadata": {
    "scrolled": true
   },
   "outputs": [],
   "source": [
    "# view the tuned kernel\n",
    "k.lengthscale"
   ]
  },
  {
   "cell_type": "code",
   "execution_count": null,
   "id": "08d56d60",
   "metadata": {},
   "outputs": [],
   "source": [
    "def air_collision_condition(ctraces):\n",
    "        \"\"\"ground collision premature termination condition\n",
    "        \"\"\"\n",
    "        # get the aircraft states\n",
    "        sa, sb, sc = ctraces['plant']['states'], ctraces['intruder_plant']['states'], ctraces['balloon']['states']\n",
    "        if sa and sb and sc:\n",
    "            # look at distance between last state\n",
    "            dab =  (np.linalg.norm(np.array(sa[-1][9:11]) - np.array(sb[-1][9:11]))) \n",
    "            dac = (np.linalg.norm(np.array(sa[-1][9:11]) - np.array(sc[-1][9:11]))) \n",
    "            return dab < 500.0 or dac < 500.0\n",
    "        \n",
    "\n",
    "scen, sys = get_system(bo.x_opt) # relative airspeed\n",
    "trajs, p = sys.simulate_tspan((0.0, 20.0), return_passed=True, terminating_conditions_all=air_collision_condition)\n",
    "viewer = AcasScenarioViewer(trajs, scen)\n",
    "fig, ax = viewer.summary_plot()\n",
    "plt.show()"
   ]
  },
  {
   "cell_type": "code",
   "execution_count": null,
   "id": "4f06907c",
   "metadata": {},
   "outputs": [],
   "source": [
    "from IPython.display import HTML\n",
    "from matplotlib import animation\n",
    "plt.axis(\"equal\")\n",
    "anim = viewer.summary_video()\n",
    "#writervideo = animation.FFMpegWriter(fps=30) \n",
    "#anim.save(\"bopt_example.mp4\", writer=writervideo)\n",
    "HTML(anim.to_jshtml())"
   ]
  },
  {
   "cell_type": "code",
   "execution_count": null,
   "id": "9097b778",
   "metadata": {},
   "outputs": [],
   "source": []
  }
 ],
 "metadata": {
  "kernelspec": {
   "display_name": "Python 3 (ipykernel)",
   "language": "python",
   "name": "python3"
  },
  "language_info": {
   "codemirror_mode": {
    "name": "ipython",
    "version": 3
   },
   "file_extension": ".py",
   "mimetype": "text/x-python",
   "name": "python",
   "nbconvert_exporter": "python",
   "pygments_lexer": "ipython3",
   "version": "3.9.6"
  }
 },
 "nbformat": 4,
 "nbformat_minor": 5
}
