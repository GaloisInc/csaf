{
 "cells": [
  {
   "cell_type": "code",
   "execution_count": null,
   "id": "71268072",
   "metadata": {},
   "outputs": [],
   "source": [
    "import numpy as np\n",
    "\n",
    "import sys\n",
    "sys.path.append(\"..\")\n",
    "import csaf\n",
    "import matplotlib.pyplot as plt\n",
    "\n",
    "from f16lib.goals import AcasSimpleFalsifyGoal\n",
    "%matplotlib inline\n",
    "%config InlineBackend.figure_format='retina'"
   ]
  },
  {
   "cell_type": "markdown",
   "id": "622454b7",
   "metadata": {},
   "source": [
    "## Construct the F16 Scenario"
   ]
  },
  {
   "cell_type": "code",
   "execution_count": null,
   "id": "4f68d268",
   "metadata": {},
   "outputs": [],
   "source": [
    "# Create falsification goal\n",
    "g = AcasSimpleFalsifyGoal()"
   ]
  },
  {
   "cell_type": "markdown",
   "id": "e2b964fa",
   "metadata": {},
   "source": [
    "## Solve the Optimization Problem"
   ]
  },
  {
   "cell_type": "code",
   "execution_count": null,
   "id": "d3a33b9e",
   "metadata": {},
   "outputs": [],
   "source": [
    "# Run optimization with default values\n",
    "g.test(max_time=10.0, max_iter=200)"
   ]
  },
  {
   "cell_type": "markdown",
   "id": "4c1fdc7a",
   "metadata": {},
   "source": [
    "## Visualize the Optimal Configuration"
   ]
  },
  {
   "cell_type": "code",
   "execution_count": null,
   "id": "c69a8bfc",
   "metadata": {},
   "outputs": [],
   "source": [
    "# TODO: add prettier accessors\n",
    "g.optimizer.plot_convergence()"
   ]
  },
  {
   "cell_type": "code",
   "execution_count": null,
   "id": "85f39def",
   "metadata": {},
   "outputs": [],
   "source": [
    "# print optimal configuration and objective value\n",
    "print(g.optimizer.x_opt)\n",
    "print(g.optimizer.fx_opt)"
   ]
  },
  {
   "cell_type": "code",
   "execution_count": null,
   "id": "9d998625",
   "metadata": {},
   "outputs": [],
   "source": [
    "from f16lib.acas import AcasScenarioViewer\n",
    "scen = g.scenario_type()\n",
    "trajs, p = g.run_sim(g.optimizer.x_opt)\n",
    "viewer = AcasScenarioViewer(trajs, scen)\n",
    "fig, ax = viewer.summary_plot()\n",
    "plt.show()"
   ]
  },
  {
   "cell_type": "code",
   "execution_count": null,
   "id": "9f1b57d7",
   "metadata": {},
   "outputs": [],
   "source": [
    "idxs = np.argsort(g.optimizer.Y.flatten())\n",
    "for idx in idxs[:10]:\n",
    "    scen = g.scenario_type()\n",
    "    trajs, p = g.run_sim(g.optimizer.X[idx])\n",
    "    viewer = AcasScenarioViewer(trajs, scen)\n",
    "    fig, ax = viewer.summary_plot()\n",
    "    plt.show()"
   ]
  },
  {
   "cell_type": "code",
   "execution_count": null,
   "id": "7c35a094",
   "metadata": {},
   "outputs": [],
   "source": [
    "from IPython.display import HTML\n",
    "from matplotlib import animation\n",
    "anim = viewer.summary_video()\n",
    "#writervideo = animation.FFMpegWriter(fps=30) \n",
    "#anim.save(\"bopt_example.mp4\", writer=writervideo)\n",
    "HTML(anim.to_jshtml())"
   ]
  },
  {
   "cell_type": "code",
   "execution_count": null,
   "id": "53faab4e",
   "metadata": {},
   "outputs": [],
   "source": [
    "if g.scenario_type().intruder_airspeed is not None:\n",
    "    istates = np.array(trajs[\"intruder_plant\"].states)\n",
    "    itimes = np.array(trajs[\"intruder_plant\"].times)\n",
    "\n",
    "    plt.figure(figsize=(8, 6))\n",
    "    plt.plot(itimes, istates[:, 0], zorder=200, label='Airspeed')\n",
    "    plt.plot(itimes, [g.scenario_type().intruder_airspeed(t) for t in itimes], '--k', label='Setpoint')\n",
    "    plt.grid()\n",
    "    plt.legend()\n",
    "    plt.xlabel(\"Time (s)\")\n",
    "    plt.ylabel(\"Airspeed (ft/s)\")"
   ]
  },
  {
   "cell_type": "code",
   "execution_count": null,
   "id": "35d5af78",
   "metadata": {},
   "outputs": [],
   "source": []
  }
 ],
 "metadata": {
  "kernelspec": {
   "display_name": "Python 3 (ipykernel)",
   "language": "python",
   "name": "python3"
  },
  "language_info": {
   "codemirror_mode": {
    "name": "ipython",
    "version": 3
   },
   "file_extension": ".py",
   "mimetype": "text/x-python",
   "name": "python",
   "nbconvert_exporter": "python",
   "pygments_lexer": "ipython3",
   "version": "3.9.6"
  }
 },
 "nbformat": 4,
 "nbformat_minor": 5
}
