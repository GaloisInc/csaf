{
 "cells": [
  {
   "cell_type": "code",
   "execution_count": null,
   "id": "6722221e",
   "metadata": {},
   "outputs": [],
   "source": [
    "import numpy as np\n",
    "\n",
    "import GPyOpt\n",
    "import GPy\n",
    "\n",
    "import sys\n",
    "sys.path.append(\"..\")\n",
    "\n",
    "from f16lib.acas import AcasShieldScenario, AcasScenario, AcasScenarioViewer\n",
    "\n",
    "import csaf.utils as csafutils\n",
    "\n",
    "\n",
    "import matplotlib.pyplot as plt\n",
    "%matplotlib inline\n",
    "%config InlineBackend.figure_format='retina'\n",
    "\n",
    "import f16lib.models.predictor as predictor"
   ]
  },
  {
   "cell_type": "code",
   "execution_count": null,
   "id": "18d57869",
   "metadata": {},
   "outputs": [],
   "source": [
    "AcasShieldScenario.system_type.components[\"predictor\"].flows[\"outputs\"] = predictor.model_output\n",
    "AcasShieldScenario.system_type.components[\"predictor\"].initialize = predictor.model_init"
   ]
  },
  {
   "cell_type": "code",
   "execution_count": null,
   "id": "9e06d5c9",
   "metadata": {},
   "outputs": [],
   "source": [
    "from f16lib.components import f16_xequil\n",
    "import f16lib.systems as f16sys\n",
    "import csaf\n",
    "import typing\n",
    "import numpy as np\n"
   ]
  },
  {
   "cell_type": "code",
   "execution_count": null,
   "id": "458e43b4",
   "metadata": {},
   "outputs": [],
   "source": [
    "def get_system(states, sys=AcasShieldScenario):\n",
    "    \"\"\"construct a scenario and system given the configuration coordinates (states)\"\"\"\n",
    "    # scenario\n",
    "    scen = sys(\n",
    "        [-2000.0, 6000], # balloon position\n",
    "        750.0, # ownship airspeed\n",
    "        ((0.0, 21000.0, 1000.0),), # own waypoints\n",
    "        ((*states[:2], 1000.0),) # intruder waypoints -- none for now\n",
    "    )\n",
    "    # scenario, system\n",
    "    return scen, scen.create_system(\n",
    "        [*states[:2], # relative position\n",
    "         states[2], # relative heading\n",
    "         states[3]]) # relative airspeed\n",
    "\n",
    "\n",
    "states = [ 7.81833992e+03,  \n",
    "        1.59743916e+03, \n",
    "        -3.66099248e-01, \n",
    "        -8.32456483e+01]\n",
    "\n",
    "scen, my_system = get_system(states)\n",
    "\n",
    "uscen, u_system = get_system(states, sys=AcasScenario)"
   ]
  },
  {
   "cell_type": "code",
   "execution_count": null,
   "id": "814fdd6f",
   "metadata": {},
   "outputs": [],
   "source": [
    "x, y, z = my_system.components[\"intruder_autopilot\"].default_parameters[\"waypoints\"][0]"
   ]
  },
  {
   "cell_type": "code",
   "execution_count": null,
   "id": "86d302f2",
   "metadata": {},
   "outputs": [],
   "source": [
    "my_system.set_component_param(\"predictor\", \n",
    "                              \"intruder_waypoints\",\n",
    "                             ((x, y, z),))\n",
    "my_system.set_component_param(\"predictor\", \n",
    "                              \"own_waypoints\",\n",
    "                             ((0.0, 22000.0, 1000.0),))"
   ]
  },
  {
   "cell_type": "code",
   "execution_count": null,
   "id": "676be721",
   "metadata": {},
   "outputs": [],
   "source": [
    "my_system.component_instances[\"predictor\"].parameters[\"own_waypoints\"]"
   ]
  },
  {
   "cell_type": "code",
   "execution_count": null,
   "id": "ed25c710",
   "metadata": {},
   "outputs": [],
   "source": [
    "# check the system\n",
    "my_system.check()\n",
    "\n",
    "# view the system\n",
    "csafutils.view_block_diagram(my_system, ipython_notebook=True)"
   ]
  },
  {
   "cell_type": "code",
   "execution_count": null,
   "id": "5e5d6555",
   "metadata": {},
   "outputs": [],
   "source": [
    "trajs = my_system.simulate_tspan((0.0, 20.0), show_status=True)"
   ]
  },
  {
   "cell_type": "code",
   "execution_count": null,
   "id": "2d44910b",
   "metadata": {},
   "outputs": [],
   "source": [
    "#plt.plot(np.array(trajs[\"acas_out\"].outputs)[:, 1])\n",
    "#plt.plot(np.array(trajs[\"acas_out\"].outputs)[:, 2])\n",
    "plt.plot(np.array(trajs[\"acas_out\"].times), np.array(trajs[\"acas_out\"].outputs)[:, -1], 'k')\n",
    "plt.plot(np.array(trajs[\"acas\"].times), np.array(trajs[\"acas\"].outputs)[:, -1], '--b', alpha=0.5)\n",
    "plt.plot(np.array(trajs[\"acas_recovery\"].times), np.array(trajs[\"acas_recovery\"].outputs)[:, -1], '--r', alpha=0.5)\n",
    "\n",
    "\n",
    "plt.plot(np.array(trajs[\"llc\"].times), np.array(trajs[\"llc\"].outputs)[:, -1])"
   ]
  },
  {
   "cell_type": "code",
   "execution_count": null,
   "id": "b30bd4fd",
   "metadata": {},
   "outputs": [],
   "source": [
    "viewer = AcasScenarioViewer(trajs, scen)\n",
    "fig, ax = viewer.summary_plot()\n",
    "plt.show()"
   ]
  },
  {
   "cell_type": "code",
   "execution_count": null,
   "id": "1a0d7600",
   "metadata": {},
   "outputs": [],
   "source": [
    "from IPython.display import HTML\n",
    "from matplotlib import animation\n",
    "anim = viewer.summary_video()\n",
    "writervideo = animation.FFMpegWriter(fps=30) \n",
    "anim.save(\"bopt_example.mp4\", writer=writervideo)\n",
    "#HTML(anim.to_jshtml())"
   ]
  },
  {
   "cell_type": "code",
   "execution_count": null,
   "id": "204886f0",
   "metadata": {},
   "outputs": [],
   "source": []
  }
 ],
 "metadata": {
  "kernelspec": {
   "display_name": "Python 3 (ipykernel)",
   "language": "python",
   "name": "python3"
  },
  "language_info": {
   "codemirror_mode": {
    "name": "ipython",
    "version": 3
   },
   "file_extension": ".py",
   "mimetype": "text/x-python",
   "name": "python",
   "nbconvert_exporter": "python",
   "pygments_lexer": "ipython3",
   "version": "3.9.6"
  }
 },
 "nbformat": 4,
 "nbformat_minor": 5
}
