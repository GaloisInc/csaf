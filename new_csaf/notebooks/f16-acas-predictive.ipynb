{
 "cells": [
  {
   "cell_type": "code",
   "execution_count": null,
   "id": "6722221e",
   "metadata": {},
   "outputs": [],
   "source": [
    "import numpy as np\n",
    "\n",
    "import GPyOpt\n",
    "import GPy\n",
    "\n",
    "import sys\n",
    "sys.path.append(\"..\")\n",
    "\n",
    "from f16lib.acas import AcasShieldScenario, AcasScenario, AcasScenarioViewer\n",
    "\n",
    "import csaf.utils as csafutils\n",
    "\n",
    "\n",
    "import matplotlib.pyplot as plt\n",
    "%matplotlib inline\n",
    "%config InlineBackend.figure_format='retina'\n",
    "\n",
    "import f16lib.models.predictor as predictor"
   ]
  },
  {
   "cell_type": "code",
   "execution_count": null,
   "id": "4626518c",
   "metadata": {},
   "outputs": [],
   "source": [
    "AcasShieldScenario.system_type.components[\"predictor\"].flows[\"outputs\"] = predictor.model_output\n",
    "AcasShieldScenario.system_type.components[\"predictor\"].initialize = predictor.model_init"
   ]
  },
  {
   "cell_type": "code",
   "execution_count": null,
   "id": "99a3ad61",
   "metadata": {},
   "outputs": [],
   "source": [
    "from f16lib.components import f16_xequil\n",
    "import f16lib.systems as f16sys\n",
    "import csaf\n",
    "import typing\n",
    "import numpy as np\n"
   ]
  },
  {
   "cell_type": "code",
   "execution_count": null,
   "id": "98019bb6",
   "metadata": {},
   "outputs": [],
   "source": [
    "def get_system(states, sys=AcasShieldScenario):\n",
    "    \"\"\"construct a scenario and system given the configuration coordinates (states)\"\"\"\n",
    "    # scenario\n",
    "    scen = sys(\n",
    "        [-2000.0, 6000], # balloon position\n",
    "        750.0, # ownship airspeed\n",
    "        ((0.0, 21000.0, 1000.0),), # own waypoints\n",
    "        ((*states[:2], 1000.0),) # intruder waypoints -- none for now\n",
    "    )\n",
    "    # scenario, system\n",
    "    return scen, scen.create_system(\n",
    "        [*states[:2], # relative position\n",
    "         states[2], # relative heading\n",
    "         states[3]]) # relative airspeed\n",
    "\n",
    "\n",
    "states = [ 7.81833992e+03,  \n",
    "        1.59743916e+03, \n",
    "        -3.66099248e-01, \n",
    "        -8.32456483e+01]\n",
    "\n",
    "#states = [-7.00317255e+02,\n",
    "#          7.33473945e+03,\n",
    "#          2.77626862e+00,\n",
    "#         -6.73843108e+01]\n",
    "\n",
    "#states = [ 8.86992784e+03,\n",
    "#          7.15349648e+03,\n",
    "#          -1.59055844e+00,\n",
    "#          -1.24863521e+02]\n",
    "\n",
    "\n",
    "scen, my_system = get_system(states)\n",
    "\n",
    "uscen, u_system = get_system(states, sys=AcasScenario)"
   ]
  },
  {
   "cell_type": "code",
   "execution_count": null,
   "id": "0bee97b8",
   "metadata": {},
   "outputs": [],
   "source": [
    "x, y, z = my_system.components[\"intruder_autopilot\"].default_parameters[\"waypoints\"][0]"
   ]
  },
  {
   "cell_type": "code",
   "execution_count": null,
   "id": "cabbd61e",
   "metadata": {},
   "outputs": [],
   "source": [
    "my_system.set_component_param(\"predictor\", \n",
    "                              \"intruder_waypoints\",\n",
    "                             ((x, y, z),))\n",
    "my_system.set_component_param(\"predictor\", \n",
    "                              \"own_waypoints\",\n",
    "                             ((0.0, 22000.0, 1000.0),))"
   ]
  },
  {
   "cell_type": "code",
   "execution_count": null,
   "id": "85da0798",
   "metadata": {},
   "outputs": [],
   "source": [
    "my_system.component_instances[\"predictor\"].parameters[\"own_waypoints\"]"
   ]
  },
  {
   "cell_type": "code",
   "execution_count": null,
   "id": "ed25c710",
   "metadata": {},
   "outputs": [],
   "source": [
    "# check the system\n",
    "my_system.check()\n",
    "\n",
    "# view the system\n",
    "csafutils.view_block_diagram(my_system, ipython_notebook=True)"
   ]
  },
  {
   "cell_type": "code",
   "execution_count": null,
   "id": "5e5d6555",
   "metadata": {},
   "outputs": [],
   "source": [
    "trajs = my_system.simulate_tspan((0.0, 20.0), show_status=True)"
   ]
  },
  {
   "cell_type": "code",
   "execution_count": null,
   "id": "09a586af",
   "metadata": {},
   "outputs": [],
   "source": [
    "def find_peaks_troughs(x):\n",
    "    def find_trough(idx, x):\n",
    "        idx += 1\n",
    "        s = x[idx]\n",
    "        while x[idx] == s:\n",
    "            idx += 1\n",
    "            if idx == len(x):\n",
    "                break\n",
    "        return idx - 1\n",
    "    peaks = [idx for idx in range(len(x)-1) if x[idx] == False and x[idx+1] == True]\n",
    "    if x[0]:\n",
    "        peaks += [0]\n",
    "    troughs = [find_trough(idx, x) for idx in peaks]\n",
    "    return peaks, troughs\n",
    "\n",
    "\n",
    "def highlight_axis(ax, x):\n",
    "    peaks, troughs = find_peaks_troughs(x)\n",
    "    for peak, trough in zip(peaks, troughs):\n",
    "        for a in ax:\n",
    "            a.axvspan(trajs[\"predictor\"].times[peak], trajs[\"predictor\"].times[trough], facecolor='red', alpha=.1)"
   ]
  },
  {
   "cell_type": "code",
   "execution_count": null,
   "id": "9fe69eb7",
   "metadata": {},
   "outputs": [],
   "source": [
    "fig, ax = plt.subplots(figsize=(12, 10), nrows=4, sharex=True)\n",
    "\n",
    "acas = trajs[\"acas\"]\n",
    "acas_recovery = trajs[\"acas_recovery\"]\n",
    "acas_out = trajs[\"acas_out\"]\n",
    "\n",
    "for idx, axi in enumerate(ax):\n",
    "    axi.plot(np.array(acas_out.times), np.array(acas_out.outputs)[:, idx], 'k', label='ACAS Policy')\n",
    "    axi.plot(np.array(acas.times), np.array(acas.outputs)[:, idx], '--b', alpha=0.5, label='ACAS Xu Autopilot')\n",
    "    axi.plot(np.array(acas_recovery.times), np.array(acas_recovery.outputs)[:, idx], '--r', alpha=0.5, label='Recovery Autopilot')\n",
    "\n",
    "ax[3].set_xlabel(\"Time (s)\")\n",
    "ax[0].set_title(\"Acas Autopilots\")\n",
    "ax[0].set_xlim(min(acas.times), max(acas.times))\n",
    "ax[0].legend()\n",
    "\n",
    "ax[0].set_ylabel(\"$\\delta$ Elevator\")\n",
    "ax[1].set_ylabel(\"$\\delta$ Aileron\")\n",
    "ax[2].set_ylabel(\"$\\delta$ Rudder\")\n",
    "ax[3].set_ylabel(\"Throttle\")\n",
    "\n",
    "x = np.array(trajs[\"predictor\"].outputs).flatten()\n",
    "highlight_axis(ax, x)\n",
    "        \n",
    "x = [(True if xi != \"clear\" else False) for xi in np.array(trajs[\"acas_out\"].outputs_state).flatten()]\n",
    "highlight_axis(ax, x)\n",
    "plt.tight_layout()\n",
    "plt.savefig(\"acas_policy.png\")"
   ]
  },
  {
   "cell_type": "code",
   "execution_count": null,
   "id": "b30bd4fd",
   "metadata": {},
   "outputs": [],
   "source": [
    "viewer = AcasScenarioViewer(trajs, scen)\n",
    "fig, ax = viewer.summary_plot()\n",
    "plt.show()"
   ]
  },
  {
   "cell_type": "code",
   "execution_count": null,
   "id": "ebdfef63",
   "metadata": {},
   "outputs": [],
   "source": [
    "from IPython.display import HTML\n",
    "from matplotlib import animation\n",
    "anim = viewer.summary_video()\n",
    "#writervideo = animation.FFMpegWriter(fps=30) \n",
    "#anim.save(\"bopt_example.mp4\", writer=writervideo)\n",
    "HTML(anim.to_jshtml())"
   ]
  },
  {
   "cell_type": "code",
   "execution_count": null,
   "id": "e78b4165",
   "metadata": {},
   "outputs": [],
   "source": [
    "fig, ax = plt.subplots(figsize=(10, 10), nrows=2, sharex=True)\n",
    "\n",
    "ostates = np.array(trajs[\"plant\"].states)\n",
    "otimes = np.array(trajs[\"plant\"].times)\n",
    "istates = np.array(trajs[\"intruder_plant\"].states)\n",
    "itimes = np.array(trajs[\"intruder_plant\"].times)\n",
    "\n",
    "dists = np.linalg.norm(istates[:, 9:12] - ostates[:, 9:12], axis=1)\n",
    "ax[0].plot(itimes, dists)\n",
    "ax[0].set_yscale('log')\n",
    "ax[0].grid('minor')\n",
    "ax[0].set_ylabel(\"Distance Between Vehicles (ft)\")\n",
    "\n",
    "plt.plot(otimes, ostates[:, 11], label=\"Ownship\")\n",
    "plt.plot(itimes, istates[:, 11], label=\"Intruder\")\n",
    "plt.grid()\n",
    "plt.legend()\n",
    "plt.xlabel(\"Time (s)\")\n",
    "plt.ylabel(\"Altitude (ft/s)\")\n",
    "plt.tight_layout()\n",
    "plt.savefig(\"altitude_recovery.png\")"
   ]
  },
  {
   "cell_type": "code",
   "execution_count": null,
   "id": "1d610ba9",
   "metadata": {},
   "outputs": [],
   "source": [
    "dists = np.linalg.norm(istates[:, 9:12] - ostates[:, 9:12], axis=1)"
   ]
  },
  {
   "cell_type": "code",
   "execution_count": null,
   "id": "007dffca",
   "metadata": {},
   "outputs": [],
   "source": []
  }
 ],
 "metadata": {
  "kernelspec": {
   "display_name": "Python 3 (ipykernel)",
   "language": "python",
   "name": "python3"
  },
  "language_info": {
   "codemirror_mode": {
    "name": "ipython",
    "version": 3
   },
   "file_extension": ".py",
   "mimetype": "text/x-python",
   "name": "python",
   "nbconvert_exporter": "python",
   "pygments_lexer": "ipython3",
   "version": "3.9.6"
  }
 },
 "nbformat": 4,
 "nbformat_minor": 5
}
