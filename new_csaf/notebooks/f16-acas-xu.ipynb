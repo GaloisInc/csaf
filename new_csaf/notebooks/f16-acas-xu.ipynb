{
 "cells": [
  {
   "cell_type": "code",
   "execution_count": null,
   "id": "899a5a82",
   "metadata": {},
   "outputs": [],
   "source": [
    "import sys\n",
    "sys.path.append(\"..\")\n",
    "from f16lib.systems import F16AcasShield, F16Shield\n",
    "import csaf\n",
    "\n",
    "\n",
    "import numpy as np\n",
    "import matplotlib as mpl\n",
    "import matplotlib.pyplot as plt\n",
    "%matplotlib inline\n",
    "%config InlineBackend.figure_format='retina'\n",
    "\n",
    "import random"
   ]
  },
  {
   "cell_type": "code",
   "execution_count": null,
   "id": "a3c10062",
   "metadata": {},
   "outputs": [],
   "source": [
    "from IPython.display import Image\n",
    "\n",
    "import pathlib\n",
    "\n",
    "plot_fname = f\"pub-sub-plot.png\"\n",
    "\n",
    "# plot configuration pub/sub diagram as a file -- proj specicies a dot executbale and -Gdpi is a valid dot\n",
    "# argument to change the image resolution\n",
    "my_conf = F16AcasShield()\n",
    "my_conf.check()\n",
    "my_conf.plot_config(fname=pathlib.Path(plot_fname).resolve(), prog=[\"dot\", \"-Gdpi=400\"])\n",
    "\n",
    "# display written file to notebook\n",
    "Image(plot_fname, height=600)"
   ]
  },
  {
   "cell_type": "code",
   "execution_count": null,
   "id": "8547864f",
   "metadata": {},
   "outputs": [],
   "source": [
    "own_state = (807, 0.0389, 0.0, 0.0, 0.0389, 3.141592653589793, 0.0, 0.0, \n",
    "                        0.0, 25000, 0.0, 1000.0, 9.0567)\n",
    "other_state = (807, 0.0389, 0.0, 0.0, 0.0389, 0.0, 0.0, 0.0, 0.0, \n",
    "                                 0, 0, 1000.0, 9.0567)\n",
    "\n",
    "\n",
    "class F16AcasShieldEnv(csaf.SystemEnv):\n",
    "    system_type = F16AcasShield\n",
    "    agents = [\"predictor\"]\n",
    "    \n",
    "    \n",
    "def initialize_env(sys, own_state, other_state):\n",
    "    # set the own and intruder state\n",
    "    sys.set_state('plant', other_state)\n",
    "    sys.set_state('intruder_plant', own_state)\n",
    "    \n",
    "    \n",
    "def get_random_states():\n",
    "    init = list(other_state)\n",
    "    rad = 5000\n",
    "    init[10] += random.random() * 2*rad - rad\n",
    "    y_rad = 200\n",
    "    init[9] += random.random() * 2*y_rad - y_rad\n",
    "    return tuple(init), own_state\n",
    "    "
   ]
  },
  {
   "cell_type": "code",
   "execution_count": null,
   "id": "7ac25953",
   "metadata": {},
   "outputs": [],
   "source": [
    "env = F16AcasShield()\n",
    "initialize_env(env, *get_random_states())"
   ]
  },
  {
   "cell_type": "code",
   "execution_count": null,
   "id": "900e6055",
   "metadata": {},
   "outputs": [],
   "source": [
    "#env = F16AcasShieldEnv()\n",
    "\n",
    "def task():\n",
    "    env = F16AcasShield()\n",
    "    initialize_env(env, *get_random_states())\n",
    "    return env.simulate_tspan((0.0, 20.0))"
   ]
  },
  {
   "cell_type": "code",
   "execution_count": null,
   "id": "35bf0965",
   "metadata": {},
   "outputs": [],
   "source": [
    "from joblib import Parallel, delayed\n",
    "results = Parallel(n_jobs=16)(delayed(task)() for _ in range(1000))"
   ]
  },
  {
   "cell_type": "code",
   "execution_count": null,
   "id": "7a9b7a13",
   "metadata": {},
   "outputs": [],
   "source": [
    "states = ['clear', 'weak-left', 'weak-right', 'strong-left', 'strong-right']#'strong-left', 'weak-left', 'clear', 'weak-right', 'strong-right']\n",
    "colors = ['grey', 'skyblue', 'lightcoral', 'deepskyblue', 'firebrick']\n",
    "\n",
    "figure = plt.figure(figsize=(8, 8))\n",
    "\n",
    "for r in results[0:100]:\n",
    "    s = np.array(r['autopilot'].states).flatten()\n",
    "    p = np.array(r['plant'].states)\n",
    "    p = p[:-10*20:10*20] \n",
    "    s = s[::20]\n",
    "    for si, ci in zip(states, colors):\n",
    "        transitions = s[1:] == si #[s1 == si for s0, s1 in zip(s[:-1], s[1:])]#[s0 != s1 and s1 == si for s0, s1 in zip(s[:-1], s[1:])]\n",
    "        y, x= p[:, 9:11].T\n",
    "        plt.scatter(x[transitions], y[transitions], marker='x', color=ci, s=20)\n",
    "        plt.scatter(x[0], y[0], marker='o', color=ci, s=20)\n",
    "        plt.scatter(x[-1], y[-1], marker='o', color='k', s=20)\n",
    "        \n",
    "plt.grid()\n",
    "plt.axis(\"equal\")\n",
    "plt.title(\"Decision Points\")\n",
    "plt.tight_layout()\n",
    "plt.xlabel(\"East / West Position (ft)\")\n",
    "plt.ylabel(\"North / South Position (ft)\")\n",
    "plt.savefig(\"decision_pts.pdf\")\n",
    "plt.show()\n"
   ]
  }
 ],
 "metadata": {
  "kernelspec": {
   "display_name": "Python 3",
   "language": "python",
   "name": "python3"
  },
  "language_info": {
   "codemirror_mode": {
    "name": "ipython",
    "version": 3
   },
   "file_extension": ".py",
   "mimetype": "text/x-python",
   "name": "python",
   "nbconvert_exporter": "python",
   "pygments_lexer": "ipython3",
   "version": "3.9.2"
  }
 },
 "nbformat": 4,
 "nbformat_minor": 5
}
