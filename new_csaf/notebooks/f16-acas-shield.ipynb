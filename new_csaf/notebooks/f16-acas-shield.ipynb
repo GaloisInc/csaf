{
 "cells": [
  {
   "cell_type": "code",
   "execution_count": null,
   "id": "15917e90",
   "metadata": {},
   "outputs": [],
   "source": [
    "import sys\n",
    "sys.path.append(\"..\")\n",
    "from f16lib.systems import F16Simple, F16AcasShield, F16Shield, F16AirspeedSimple\n",
    "\n",
    "\n",
    "import numpy as np\n",
    "import matplotlib as mpl\n",
    "import matplotlib.pyplot as plt\n",
    "%matplotlib inline\n",
    "%config InlineBackend.figure_format='retina'"
   ]
  },
  {
   "cell_type": "code",
   "execution_count": null,
   "id": "43e2687f",
   "metadata": {},
   "outputs": [],
   "source": [
    "from IPython.display import Image\n",
    "\n",
    "import pathlib\n",
    "\n",
    "plot_fname = f\"pub-sub-plot.png\"\n",
    "\n",
    "# plot configuration pub/sub diagram as a file -- proj specicies a dot executbale and -Gdpi is a valid dot\n",
    "# argument to change the image resolution\n",
    "my_conf = F16AcasShield()\n",
    "my_conf.plot_config(fname=pathlib.Path(plot_fname).resolve(), prog=[\"dot\", \"-Gdpi=400\"])\n",
    "\n",
    "# display written file to notebook\n",
    "Image(plot_fname, height=600)"
   ]
  },
  {
   "cell_type": "code",
   "execution_count": null,
   "id": "66656d13",
   "metadata": {},
   "outputs": [],
   "source": [
    "def air_collision_condition(ctraces):\n",
    "        \"\"\"ground collision premature termination condition\n",
    "        \"\"\"\n",
    "        # get the aircraft states\n",
    "        sa, sb = ctraces['plant']['states'], ctraces['plant_intruder']['states']\n",
    "        if sa and sb:\n",
    "            # look at distance between last state\n",
    "            return (np.linalg.norm(np.array(sa[-1][9:11]) - np.array(sb[-1][9:11]))) < 100"
   ]
  },
  {
   "cell_type": "code",
   "execution_count": null,
   "id": "eb9ea1e1",
   "metadata": {},
   "outputs": [],
   "source": [
    "# set the scenario states\n",
    "my_system = F16AcasShield()\n",
    "f16_xequil = [450.0,\n",
    "              0.03887505597600522,\n",
    "              0.0,\n",
    "              0.0,\n",
    "              0.03887505597600522,\n",
    "              0.0,\n",
    "              0.0,\n",
    "              0.0,\n",
    "              0.0,\n",
    "              0.0,\n",
    "              0.0,\n",
    "              1000.0,\n",
    "              9.05666543872074]\n",
    "my_system.set_state('plant', [800.0, 0.0389, 0.0, 0.0, 0.0389, 0.0, 0.0, 0.0, \\\n",
    "                        0.0, 0.0, 0.0, 1000.0, 9.0567])\n",
    "my_system.set_state('intruder_plant', [800.0, 0.0389, 0.0, 0.0, 0.0389, np.pi, 0.0, 0.0, \\\n",
    "                        0.0, 10000.0, 500.0, 1000.0, 9.0567])\n",
    "my_system.set_component_iv('autopilot', 'inputs_own', [800.0, 0.0389, 0.0, 0.0, 0.0389, 0.0, 0.0, 0.0, \\\n",
    "                        0.0, 0.0, 0.0, 1000.0, 9.0567])\n",
    "my_system.set_component_iv('autopilot', 'inputs_intruder0', [800.0, 0.0389, 0.0, 0.0, 0.0389, np.pi, 0.0, 0.0, \\\n",
    "                        0.0, 10000.0, 500.0, 1000.0, 9.0567])"
   ]
  },
  {
   "cell_type": "code",
   "execution_count": null,
   "id": "fb384fb1",
   "metadata": {},
   "outputs": [],
   "source": [
    "trajs = my_system.simulate_tspan((0, 35.0), show_status=False)"
   ]
  },
  {
   "cell_type": "code",
   "execution_count": null,
   "id": "e81850dd",
   "metadata": {},
   "outputs": [],
   "source": [
    "plt.plot(*np.array(trajs[\"plant\"].states)[:, 9:11].T)"
   ]
  },
  {
   "cell_type": "code",
   "execution_count": null,
   "id": "ee683295",
   "metadata": {},
   "outputs": [],
   "source": [
    "from joblib import Parallel, delayed"
   ]
  },
  {
   "cell_type": "code",
   "execution_count": null,
   "id": "db9784b9",
   "metadata": {},
   "outputs": [],
   "source": [
    "from time import perf_counter\n",
    "from contextlib import contextmanager\n",
    "import tqdm\n",
    "\n",
    "\n",
    "def benchmark_task(i):\n",
    "    my_system = F16AcasShield()\n",
    "    my_system.set_state('plant', [800.0, 0.0389, 0.0, 0.0, 0.0389, 0.0, 0.0, 0.0, \\\n",
    "                            0.0, 0.0, 0.0, 1000.0, 9.0567])\n",
    "    my_system.set_state('intruder_plant', [800.0, 0.0389, 0.0, 0.0, 0.0389, np.pi, 0.0, 0.0, \\\n",
    "                            0.0, 10000.0, -500.0+i*100, 1000.0, 9.0567])\n",
    "    trajs = my_system.simulate_tspan((0, 35.0), show_status=False)\n",
    "    return trajs\n",
    "\n",
    "\n",
    "@contextmanager\n",
    "def catchtime() -> float:\n",
    "    start = perf_counter()\n",
    "    yield lambda: perf_counter() - start"
   ]
  },
  {
   "cell_type": "code",
   "execution_count": null,
   "id": "ee061cc4",
   "metadata": {},
   "outputs": [],
   "source": [
    "with catchtime() as t:\n",
    "    trajs = [benchmark_task(i) for i in tqdm.tqdm(range(10))]\n",
    "print(f\"[for] Execution Time: {t():.4f} secs\")\n",
    "\n",
    "with catchtime() as t:\n",
    "    trajsp = Parallel(n_jobs=10)(delayed(benchmark_task)(i) for i in range(10))\n",
    "print(f\"[parallel for] Execution Time: {t():.4f} secs\")"
   ]
  },
  {
   "cell_type": "code",
   "execution_count": null,
   "id": "48a5da44",
   "metadata": {},
   "outputs": [],
   "source": [
    "for t in trajsp[8:]:\n",
    "    plt.plot(*np.array(t[\"plant\"].states)[:, 9:11].T)"
   ]
  },
  {
   "cell_type": "code",
   "execution_count": null,
   "id": "420e8acd",
   "metadata": {},
   "outputs": [],
   "source": []
  }
 ],
 "metadata": {
  "kernelspec": {
   "display_name": "Python 3 (ipykernel)",
   "language": "python",
   "name": "python3"
  },
  "language_info": {
   "codemirror_mode": {
    "name": "ipython",
    "version": 3
   },
   "file_extension": ".py",
   "mimetype": "text/x-python",
   "name": "python",
   "nbconvert_exporter": "python",
   "pygments_lexer": "ipython3",
   "version": "3.9.6"
  }
 },
 "nbformat": 4,
 "nbformat_minor": 5
}
