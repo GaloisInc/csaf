{
 "cells": [
  {
   "cell_type": "code",
   "execution_count": null,
   "id": "765a15b6",
   "metadata": {},
   "outputs": [],
   "source": [
    "from f16lib.systems import F16AcasShield\n",
    "from csaf import SystemEnv\n",
    "\n",
    "\n",
    "import numpy as np\n",
    "import matplotlib as mpl\n",
    "import matplotlib.pyplot as plt\n",
    "%matplotlib inline\n",
    "%config InlineBackend.figure_format='retina'"
   ]
  },
  {
   "cell_type": "code",
   "execution_count": null,
   "id": "f58f5201",
   "metadata": {},
   "outputs": [],
   "source": [
    "from IPython.display import Image\n",
    "\n",
    "import pathlib\n",
    "\n",
    "plot_fname = f\"pub-sub-plot.png\"\n",
    "\n",
    "# plot configuration pub/sub diagram as a file -- proj specicies a dot executbale and -Gdpi is a valid dot\n",
    "# argument to change the image resolution\n",
    "my_conf = F16AcasShield()\n",
    "my_conf.plot_config(fname=pathlib.Path(plot_fname).resolve(), prog=[\"dot\", \"-Gdpi=400\"])\n",
    "\n",
    "# display written file to notebook\n",
    "Image(plot_fname, height=600)"
   ]
  },
  {
   "cell_type": "code",
   "execution_count": null,
   "id": "7ba1ceae",
   "metadata": {},
   "outputs": [],
   "source": [
    "def air_collision_condition(ctraces):\n",
    "        \"\"\"ground collision premature termination condition\n",
    "        \"\"\"\n",
    "        # get the aircraft states\n",
    "        sa, sb = ctraces['plant']['states'], ctraces['intruder_plant']['states']\n",
    "        if sa and sb:\n",
    "            # look at distance between last state\n",
    "            return (np.linalg.norm(np.array(sa[-1][9:11]) - np.array(sb[-1][9:11]))) < 10"
   ]
  },
  {
   "cell_type": "code",
   "execution_count": null,
   "id": "897cf1f7",
   "metadata": {},
   "outputs": [],
   "source": []
  },
  {
   "cell_type": "code",
   "execution_count": null,
   "id": "da2a1e45",
   "metadata": {},
   "outputs": [],
   "source": [
    "# create pub/sub components out of the configuration\n",
    "my_system = F16AcasShield()\n",
    "my_system.check()\n",
    "\n",
    "# set the scenario states\n",
    "my_system.set_state('plant', [500.0, 0.0, 0.0, 0.0, 0.0, 0.0, 0.0, 0.0, 0.0, 0.0, 0.0, 6000.0, 9.0])\n",
    "my_system.set_state('intruder_plant', [500.0, 0.0, 0.0, 0.0, 0.0, np.pi, 0.0, 0.0, 0.0, 4000.0, 0.0, 6000.0, 9.0])"
   ]
  },
  {
   "cell_type": "code",
   "execution_count": null,
   "id": "e9a20b9f",
   "metadata": {},
   "outputs": [],
   "source": [
    "trajs = my_system.simulate_tspan((0, 35.0), show_status=True)"
   ]
  },
  {
   "cell_type": "code",
   "execution_count": null,
   "id": "ce6745a7",
   "metadata": {},
   "outputs": [],
   "source": [
    "plt.scatter(*np.array(trajs[\"plant\"].states)[:, 9:11].T)\n",
    "plt.scatter(*np.array(trajs[\"intruder_plant\"].states)[:, 9:11].T)"
   ]
  },
  {
   "cell_type": "code",
   "execution_count": null,
   "id": "1410ce18",
   "metadata": {},
   "outputs": [],
   "source": [
    "# create an environment from the system, allowing us to act as the controller\n",
    "class F16AcasShieldEnv(SystemEnv):\n",
    "    system_type = F16AcasShield\n",
    "    agents = [\"predictor\"]\n",
    "    \n",
    "my_env = F16AcasShieldEnv(terminating_conditions_all=air_collision_condition)\n",
    "# set the scenario states\n",
    "my_env.set_state('plant', [500.0, 0.0, 0.0, 0.0, 0.0, 0.0, 0.0, 0.0, 0.0, 0.0, 0.0, 6000.0, 9.0])\n",
    "my_env.set_state('intruder_plant', [500.0, 0.0, 0.0, 0.0, 0.0, np.pi, 0.0, 0.0, 0.0, 4000.0, 0.0, 6000.0, 9.0])"
   ]
  },
  {
   "cell_type": "code",
   "execution_count": null,
   "id": "09110ad4",
   "metadata": {},
   "outputs": [],
   "source": [
    "from collections import deque\n",
    "\n",
    "\n",
    "class PredictorBuffer:\n",
    "    # number of steps to take before re-running predictor\n",
    "    n_steps = 10\n",
    "    \n",
    "    def __init__(self, env: SystemEnv):\n",
    "        self.pstates = []\n",
    "        self.init_out = [0.,0.,0.,0.7]\n",
    "        self.env = env\n",
    "        self._finished = False\n",
    "        \n",
    "    def step(self, pred_out = False):\n",
    "        \"\"\"step through the simulation for n steps and collect a buffer for prediction\"\"\"\n",
    "        for _ in range(self.n_steps):\n",
    "            try:\n",
    "                # send the outputs, can collect the inputs\n",
    "                ctime, comp_input = self.env.step({\"outputs\": [pred_out]}) \n",
    "\n",
    "                # get the states and track them over time\n",
    "                self.pstates.append((comp_input))\n",
    "\n",
    "            # stop iteration occurs when the termination conditions are satisfied\n",
    "            except StopIteration as e:\n",
    "                self._finished = True\n",
    "                break\n",
    "\n",
    "            # other errors can occur -- maybe solver error\n",
    "            except Exception as e:\n",
    "                self._finished = True\n",
    "                raise e\n",
    "                break\n",
    "      \n",
    "    @property\n",
    "    def buffer(self) -> np.array:\n",
    "        \"\"\"get the buffer as a numpy array\"\"\"\n",
    "        return np.array(self.pstates)\n",
    "                \n",
    "    @property\n",
    "    def is_finished(self):\n",
    "        \"\"\"if simulation terminated\"\"\"\n",
    "        return self._finished\n",
    "    "
   ]
  },
  {
   "cell_type": "code",
   "execution_count": null,
   "id": "a0b97ac1",
   "metadata": {},
   "outputs": [],
   "source": [
    "# create a buffer for the predictor\n",
    "pb = PredictorBuffer(my_env)\n",
    "\n",
    "# fill it\n",
    "pb.step(False)\n",
    "\n",
    "# get buffer\n",
    "pstates = pb.buffer"
   ]
  },
  {
   "cell_type": "code",
   "execution_count": null,
   "id": "d442a76a",
   "metadata": {},
   "outputs": [],
   "source": [
    "plt.scatter(*pstates[:, 9:11].T)\n",
    "plt.scatter(*pstates[:, 9+13:11+13].T)"
   ]
  },
  {
   "cell_type": "code",
   "execution_count": null,
   "id": "fc98fcfc",
   "metadata": {},
   "outputs": [],
   "source": [
    "plt.plot(pstates[:, 0])"
   ]
  },
  {
   "cell_type": "code",
   "execution_count": null,
   "id": "0240ed77",
   "metadata": {},
   "outputs": [],
   "source": [
    "plt.scatter(*pstates[:, 9:11].T)"
   ]
  },
  {
   "cell_type": "code",
   "execution_count": null,
   "id": "06dbc80b",
   "metadata": {},
   "outputs": [],
   "source": [
    "!pip uninstall --yes numpy\n",
    "!pip install numpy==1.20.0 --no-cache-dir --no-binary :all:\n",
    "!pip install GPy #-U git+https://github.com/SheffieldML/GPy.git@devel\n",
    "\n",
    "import GPy\n"
   ]
  },
  {
   "cell_type": "code",
   "execution_count": null,
   "id": "0fdbe003",
   "metadata": {},
   "outputs": [],
   "source": [
    "import numpy as np"
   ]
  },
  {
   "cell_type": "code",
   "execution_count": null,
   "id": "77360051",
   "metadata": {},
   "outputs": [],
   "source": [
    "def prod_kernel():\n",
    "    kern0 = GPy.kern.RBF(1, lengthscale=40, variance=28)\n",
    "    kern1 = GPy.kern.Spline(1, c=20, variance=28)\n",
    "    kern0.lengthscale.fix()\n",
    "    kern = GPy.kern.Prod([kern0, kern1])\n",
    "    return kern\n",
    "\n",
    "\n",
    "\n",
    "def predict(tspan, pstates, idx=0):\n",
    "    tt = (np.arange(0, len(pstates), 1) / 10)[:, np.newaxis]\n",
    "    xt = (pstates[:, 9+13*idx])[:, np.newaxis]\n",
    "    yt = (pstates[:, 10+13*idx])[:, np.newaxis]\n",
    "    mx = GPy.models.GPRegression(tt, xt, prod_kernel(), normalizer=True)\n",
    "    my = GPy.models.GPRegression(tt, yt, prod_kernel(), normalizer=True)\n",
    "    mx.optimize()\n",
    "    my.optimize()\n",
    "    x, xv = mx.predict((np.array(tspan) + len(pstates)/10)[:, np.newaxis])\n",
    "    y, yv = my.predict((np.array(tspan) + len(pstates)/10)[:, np.newaxis])\n",
    "    return (tt.flatten(), xt.flatten(), yt.flatten()), (x.flatten(), xv.flatten()), (y.flatten(), yv.flatten())\n",
    "\n",
    "\n",
    "alt_conf = F16AcasShield() #cconf.SystemConfig.from_toml(\"/csaf-system/f16_acas_shield.toml\")\n",
    "#comps = alt_conf.config_dict['components']\n",
    "#for k, v in comps.items():\n",
    "#    comps[k]['pub'] = my_conf.config_dict['components'][k]['pub'] + 15\n",
    "\n",
    "\n",
    "def predict_ownship(tspan, pstates, idx=0):\n",
    "    tt = (np.arange(0, len(pstates), 1) / 10)[:, np.newaxis]\n",
    "    xt = (pstates[:, 9+idx*13])[:, np.newaxis]\n",
    "    yt = (pstates[:, 10+idx*13])[:, np.newaxis]\n",
    "    \n",
    "    tr = min(tspan), max(tspan)\n",
    "    \n",
    "    # create pub/sub components out of the configuration\n",
    "    alt_system = F16AcasShield()#csys.System.from_config(alt_conf)\n",
    "\n",
    "    # set the scenario states\n",
    "    alt_system.set_state('plant', pstates[-1, :13])\n",
    "    alt_system.set_state('intruder_plant', pstates[-1, 13:])\n",
    "    trajs = alt_system.simulate_tspan(tr, \n",
    "                                     show_status=False)\n",
    "    \n",
    "    x = np.array(trajs['plant'].states)[:, 9]\n",
    "    xv = np.zeros(x.shape)\n",
    "    y = np.array(trajs['plant'].states)[:, 10]\n",
    "    yv = np.zeros(y.shape)\n",
    "    \n",
    "    return (tt.flatten(), xt.flatten(), yt.flatten()), \\\n",
    "            (x.flatten(), xv.flatten()), \\\n",
    "            (y.flatten(), yv.flatten())"
   ]
  },
  {
   "cell_type": "code",
   "execution_count": null,
   "id": "83037ef8",
   "metadata": {},
   "outputs": [],
   "source": [
    "t = np.linspace(0, 5, 150)\n",
    "(tp, xp, yp), (x, xv), (y, yv) = predict_ownship(t, pstates)"
   ]
  },
  {
   "cell_type": "code",
   "execution_count": null,
   "id": "6a72661c",
   "metadata": {},
   "outputs": [],
   "source": [
    "def plot_results(ax, ret, color):\n",
    "    (tp, xp, yp), (x, xv), (y, yv) = ret\n",
    "    ax[0].plot(tp, xp, color)\n",
    "    ax[0].plot(t+tp[-1]+0.01, x, color)\n",
    "    ax[0].fill_between(t+tp[-1]+0.01, x+2*np.sqrt(xv), x-2*np.sqrt(xv), alpha=0.2, color=color)\n",
    "    \n",
    "    ax[1].plot(tp, yp, color)\n",
    "    ax[1].plot(t+tp[-1]+0.01, y, color)\n",
    "    ax[1].fill_between(t+tp[-1]+0.01, y+2*np.sqrt(yv), y-2*np.sqrt(yv), alpha=0.2, color=color)"
   ]
  },
  {
   "cell_type": "code",
   "execution_count": null,
   "id": "7c033f71",
   "metadata": {},
   "outputs": [],
   "source": [
    "pb.step(False)\n",
    "fig, ax = plt.subplots(figsize=(8, 10), nrows=2)\n",
    "plot_results(ax, predict_ownship(t, pb.buffer, 0), 'b')\n",
    "plot_results(ax, predict(t, pb.buffer, 1), 'r')\n",
    "\n",
    "\n",
    "pb.step(False)\n",
    "fig, ax = plt.subplots(figsize=(8, 10), nrows=2)\n",
    "plot_results(ax, predict_ownship(t, pb.buffer, 0), 'b')\n",
    "plot_results(ax, predict(t, pb.buffer, 1), 'r')\n",
    "\n",
    "\n",
    "pb.step(False)\n",
    "pb.step(False)\n",
    "pb.step(False)\n",
    "fig, ax = plt.subplots(figsize=(8, 10), nrows=2)\n",
    "plot_results(ax, predict_ownship(t, pb.buffer, 0), 'b')\n",
    "plot_results(ax, predict(t, pb.buffer, 1), 'r')"
   ]
  },
  {
   "cell_type": "code",
   "execution_count": null,
   "id": "2a711eee",
   "metadata": {},
   "outputs": [],
   "source": [
    "plt.scatter(*pb.buffer[:, 9:11].T, s=3)\n",
    "plt.scatter(*pb.buffer[:, 13+9:13+11].T, s=3)"
   ]
  },
  {
   "cell_type": "code",
   "execution_count": null,
   "id": "34dceb53",
   "metadata": {},
   "outputs": [],
   "source": []
  },
  {
   "cell_type": "code",
   "execution_count": null,
   "id": "64fa61b1",
   "metadata": {},
   "outputs": [],
   "source": []
  }
 ],
 "metadata": {
  "kernelspec": {
   "display_name": "Python 3",
   "language": "python",
   "name": "python3"
  },
  "language_info": {
   "codemirror_mode": {
    "name": "ipython",
    "version": 3
   },
   "file_extension": ".py",
   "mimetype": "text/x-python",
   "name": "python",
   "nbconvert_exporter": "python",
   "pygments_lexer": "ipython3",
   "version": "3.9.2"
  }
 },
 "nbformat": 4,
 "nbformat_minor": 5
}
