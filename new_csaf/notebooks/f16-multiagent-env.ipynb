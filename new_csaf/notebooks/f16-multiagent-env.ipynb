{
 "cells": [
  {
   "cell_type": "code",
   "execution_count": null,
   "id": "cf80e09e",
   "metadata": {},
   "outputs": [],
   "source": [
    "import sys\n",
    "sys.path.append(\"..\")\n",
    "\n",
    "import csaf\n",
    "from csaf import *\n",
    "import csaf.utils as csaf_utils\n",
    "from csaf_f16.systems import F16MultiAgentCentral\n",
    "from csaf_f16.acas import collision_condition\n",
    "\n",
    "\n",
    "import numpy as np\n",
    "import matplotlib as mpl\n",
    "import matplotlib.pyplot as plt\n",
    "%matplotlib inline\n",
    "%config InlineBackend.figure_format='retina'\n",
    "\n",
    "import random"
   ]
  },
  {
   "cell_type": "code",
   "execution_count": null,
   "id": "a2726451",
   "metadata": {},
   "outputs": [],
   "source": [
    "from IPython.display import Image\n",
    "\n",
    "import pathlib\n",
    "\n",
    "plot_fname = f\"pub-sub-plot.png\"\n",
    "\n",
    "# create the target system and check it\n",
    "my_conf = F16MultiAgentCentral()\n",
    "my_conf.check()\n",
    "\n",
    "# plot configuration pub/sub diagram as a file -- proj specicies a dot executbale and -Gdpi is a valid dot\n",
    "# argument to change the image resolution\n",
    "my_conf.plot_config(fname=pathlib.Path(plot_fname).resolve(), prog=[\"dot\", \"-Gdpi=400\"])\n",
    "\n",
    "# display written file to notebook\n",
    "Image(plot_fname, height=200)"
   ]
  },
  {
   "cell_type": "markdown",
   "id": "80f535a3",
   "metadata": {},
   "source": [
    "## System Environments"
   ]
  },
  {
   "cell_type": "code",
   "execution_count": null,
   "id": "ad926558",
   "metadata": {},
   "outputs": [],
   "source": [
    "def air_collision_condition(ctraces):\n",
    "        \"\"\"ground collision premature termination condition\n",
    "        \"\"\"\n",
    "        # get the aircraft states\n",
    "        sa, sb = ctraces['plant_a']['states'], ctraces['plant_b']['states']\n",
    "        if sa and sb:\n",
    "            # look at distance between last state\n",
    "            return (np.linalg.norm(np.array(sa[-1][9:11]) - np.array(sb[-1][9:11]))) < 100\n",
    "        \n",
    "\n",
    "class F16MultiAgentCentralEnv(csaf.SystemEnv):\n",
    "    \"\"\"System Environment Definition\"\"\"\n",
    "    system_type = F16MultiAgentCentral\n",
    "    agents = [\"autopilot\"]\n",
    "    \n",
    "\n",
    "# create an environment and check it\n",
    "my_env = F16MultiAgentCentralEnv(terminating_conditions_all=air_collision_condition)\n",
    "my_env.check()"
   ]
  },
  {
   "cell_type": "code",
   "execution_count": null,
   "id": "76068708",
   "metadata": {},
   "outputs": [],
   "source": [
    "# set the scenario states\n",
    "my_env.set_state('plant_a', [500.0, 0.0, 0.0, 0.0, 0.0, 0.0, 0.0, 0.0, 0.0, 0.0, 0.0, 6000.0, 9.0])\n",
    "my_env.set_state('plant_b', [500.0, 0.0, 0.0, 0.0, 0.0, np.pi, 0.0, 0.0, 0.0, 6000.0, 0.0, 6000.0, 9.0])"
   ]
  },
  {
   "cell_type": "code",
   "execution_count": null,
   "id": "40f997a9",
   "metadata": {},
   "outputs": [],
   "source": [
    "# collect aircraft states\n",
    "pstates = []\n",
    "\n",
    "# send signal of zeros - for this example, send only zeros except for throttle\n",
    "ctrl_signal = [0., 0.0, 0., 0.7]\n",
    "\n",
    "# step through simulation and collect f16 states\n",
    "# StopIteration is thrown when the terminating conditions are achieved\n",
    "do_sim = True\n",
    "ctime = 0.0\n",
    "while do_sim:\n",
    "    try:\n",
    "        # send the outputs, can collect the inputs\n",
    "        ctime, comp_input = my_env.step({\"outputs_0\": [0., \n",
    "                                                       np.cos(10 * ctime) * 2,  \n",
    "                                                       np.sin(10 * ctime) * 10, \n",
    "                                                       0.5], \n",
    "                                         \"outputs_1\": ctrl_signal}) \n",
    "        \n",
    "        # break if outside of time span\n",
    "        if ctime > 10.0:\n",
    "            break\n",
    "        \n",
    "        # get the states and track them over time\n",
    "        pstates.append((comp_input))\n",
    "    \n",
    "    # stop iteration occurs when the termination conditions are satisfied\n",
    "    except StopIteration as e:\n",
    "        do_sim = False\n",
    "        break\n",
    "        \n",
    "    # other errors can occur -- maybe solver error\n",
    "    except Exception as e:\n",
    "        print(e)\n",
    "        raise e\n",
    "        break\n",
    "        \n",
    "pstates = np.array(pstates)"
   ]
  },
  {
   "cell_type": "code",
   "execution_count": null,
   "id": "0d8155e9",
   "metadata": {},
   "outputs": [],
   "source": [
    "plt.figure(figsize=(8, 8))\n",
    "y, x = pstates[:, 9:11].T\n",
    "plt.plot(x, y, label='Plant A')\n",
    "y, x = pstates[:, 9+17:11+17].T\n",
    "plt.plot(x, y, label='Plant B')\n",
    "plt.axis('equal')\n",
    "plt.xlabel(\"East / West Position (ft)\")\n",
    "plt.ylabel(\"North / South Position (ft)\")\n",
    "plt.title(\"Plant Positions\")\n",
    "plt.grid()\n",
    "plt.legend()\n",
    "plt.show()"
   ]
  },
  {
   "cell_type": "markdown",
   "id": "75cce8f9",
   "metadata": {},
   "source": [
    "## Parallel Simulations"
   ]
  },
  {
   "cell_type": "code",
   "execution_count": null,
   "id": "d7eef357",
   "metadata": {},
   "outputs": [],
   "source": [
    "def task(show_status=False):\n",
    "    my_sys = F16MultiAgentCentral()\n",
    "    my_sys.set_state('plant_a', [500.0, 0.0, 0.0, 0.0, 0.0, 0.0, 0.0, 0.0, 0.0, 0.0, 0.0, 6000.0, 9.0])\n",
    "    my_sys.set_state('plant_b', [500.0, 0.0, 0.0, 0.0, 0.0, np.pi, 0.0, 0.0, 0.0, \n",
    "                                 random.random()*5000, random.random()*400-200, 6000.0, 9.0])\n",
    "    return my_sys.simulate_tspan((0.0, 20.0), \n",
    "                                 terminating_conditions_all=air_collision_condition, \n",
    "                                 show_status=show_status)"
   ]
  },
  {
   "cell_type": "code",
   "execution_count": null,
   "id": "eb74168a",
   "metadata": {},
   "outputs": [],
   "source": [
    "task(True)"
   ]
  },
  {
   "cell_type": "code",
   "execution_count": null,
   "id": "ac142a26",
   "metadata": {},
   "outputs": [],
   "source": [
    "from joblib import Parallel, delayed\n",
    "from time import perf_counter\n",
    "from contextlib import contextmanager\n",
    "\n",
    "\n",
    "@contextmanager\n",
    "def catchtime() -> float:\n",
    "    \"\"\"simple way to capture time via a context manager\"\"\"\n",
    "    start = perf_counter()\n",
    "    yield lambda: perf_counter() - start\n",
    "\n",
    "\n",
    "# simulate 100 samples using joblib\n",
    "with catchtime() as t:\n",
    "    trajsp = Parallel(n_jobs=16)(delayed(task)() for i in range(100))\n",
    "print(f\"[parallel for] Execution Time: {t():.4f} secs\")"
   ]
  },
  {
   "cell_type": "code",
   "execution_count": null,
   "id": "545bdbb0",
   "metadata": {},
   "outputs": [],
   "source": [
    "for t in trajsp:\n",
    "    plt.scatter(*t['plant_b'].states[0][9:11], marker='x', c='k')\n",
    "plt.axis('equal')\n",
    "plt.xlabel(\"East / West Position (ft)\")\n",
    "plt.ylabel(\"North / South Position (ft)\")\n",
    "plt.title(\"Plant B Initial Position\")\n",
    "plt.grid()\n",
    "plt.show()"
   ]
  },
  {
   "cell_type": "code",
   "execution_count": null,
   "id": "6c67ac38",
   "metadata": {},
   "outputs": [],
   "source": []
  }
 ],
 "metadata": {
  "kernelspec": {
   "display_name": "Python 3 (ipykernel)",
   "language": "python",
   "name": "python3"
  },
  "language_info": {
   "codemirror_mode": {
    "name": "ipython",
    "version": 3
   },
   "file_extension": ".py",
   "mimetype": "text/x-python",
   "name": "python",
   "nbconvert_exporter": "python",
   "pygments_lexer": "ipython3",
   "version": "3.9.6"
  }
 },
 "nbformat": 4,
 "nbformat_minor": 5
}
