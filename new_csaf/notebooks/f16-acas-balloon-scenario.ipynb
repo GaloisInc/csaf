{
 "cells": [
  {
   "cell_type": "code",
   "execution_count": null,
   "id": "8c36b28c",
   "metadata": {},
   "outputs": [],
   "source": [
    "import sys\n",
    "sys.path.append(\"..\")\n",
    "\n",
    "import csaf\n",
    "import csaf.utils as csafutils\n",
    "\n",
    "from f16lib.acas import AcasScenario, AcasShieldScenario, AcasScenarioViewer\n",
    "from f16lib.systems import F16AcasShieldIntruderBalloon\n",
    "\n",
    "from IPython.display import HTML\n",
    "\n",
    "import numpy as np\n",
    "import matplotlib as mpl\n",
    "import matplotlib.pyplot as plt\n",
    "%matplotlib inline\n",
    "%config InlineBackend.figure_format='retina'"
   ]
  },
  {
   "cell_type": "code",
   "execution_count": null,
   "id": "c7ec0c78",
   "metadata": {},
   "outputs": [],
   "source": [
    "# check the system\n",
    "AcasShieldScenario.system_type().check()\n",
    "\n",
    "# view the system\n",
    "csafutils.view_block_diagram(AcasShieldScenario.system_type, ipython_notebook=True)"
   ]
  },
  {
   "cell_type": "code",
   "execution_count": null,
   "id": "b4d0e2ce",
   "metadata": {},
   "outputs": [],
   "source": [
    "YOFF = 1700\n",
    "int_way = (-7000, 0.0+YOFF, 1000.0)\n",
    "\n",
    "# construct a scenario\n",
    "scen = AcasShieldScenario(\n",
    "    [-2000.0, 5000+YOFF], # balloon position\n",
    "    500.0, # ownship airspeed\n",
    "    ((0.0, 15000.0+YOFF, 1000.0),(0.0, 20000.0+YOFF, 1000.0)), #((0.0, 20000, 1000.0), (5000.0, 30000, 1000.0), (10000, 20000, 1000.0)), # own waypoints\n",
    "    (int_way,)\n",
    "    #((-0.0, 4000.0, 1000.0),(-4000.0, 2500.0, 1000.0), (-8000, 4000, 1000.0)) # intruder waypoints\n",
    ")"
   ]
  },
  {
   "cell_type": "code",
   "execution_count": null,
   "id": "efb88de7",
   "metadata": {},
   "outputs": [],
   "source": [
    "def air_collision_condition(ctraces):\n",
    "        \"\"\"ground collision premature termination condition\n",
    "        \"\"\"\n",
    "        # get the aircraft states\n",
    "        sa, sb, sc = ctraces['plant']['states'], ctraces['intruder_plant']['states'], ctraces['balloon']['states']\n",
    "        if sa and sb and sc:\n",
    "            # look at distance between last state\n",
    "            dab =  (np.linalg.norm(np.array(sa[-1][9:11]) - np.array(sb[-1][9:11]))) \n",
    "            dac = (np.linalg.norm(np.array(sa[-1][9:11]) - np.array(sc[-1][9:11]))) \n",
    "            return dab < 500.0 or dac < 500.0"
   ]
  },
  {
   "cell_type": "code",
   "execution_count": null,
   "id": "a2e75a49",
   "metadata": {},
   "outputs": [],
   "source": [
    "m = (8000+YOFF - int_way[1]) / (6000 - int_way[0])\n",
    "theta = np.arctan2((6000 - int_way[0]), (8000+YOFF - int_way[1]))\n",
    "#print(np.rad2deg(theta-3*np.pi/4))\n",
    "x = 9000\n",
    "\n",
    "sys = scen.create_system([x, (x-int_way[0])*m+int_way[1], # relative position\n",
    "                          (theta+np.pi), # relative heading\n",
    "                          -200.0]) # relative airspeed\n",
    "sys.check()"
   ]
  },
  {
   "cell_type": "code",
   "execution_count": null,
   "id": "443b4858",
   "metadata": {},
   "outputs": [],
   "source": [
    "trajs = sys.simulate_tspan((0.0, 60.0), show_status=True, terminating_conditions_all=air_collision_condition)"
   ]
  },
  {
   "cell_type": "code",
   "execution_count": null,
   "id": "c84192f8",
   "metadata": {},
   "outputs": [],
   "source": [
    "viewer = AcasScenarioViewer(trajs, scen)\n",
    "fig, ax = viewer.summary_plot()\n",
    "plt.show()"
   ]
  },
  {
   "cell_type": "code",
   "execution_count": null,
   "id": "c78df806",
   "metadata": {},
   "outputs": [],
   "source": [
    "anim = viewer.summary_video()\n",
    "HTML(anim.to_jshtml())"
   ]
  },
  {
   "cell_type": "code",
   "execution_count": null,
   "id": "5ec69215",
   "metadata": {},
   "outputs": [],
   "source": [
    "def task():\n",
    "    c = np.random.random(4)\n",
    "    c[0] *= 20000\n",
    "    c[0] -= 10000\n",
    "    c[1] *= 20000\n",
    "    c[1] -= 10000\n",
    "    c[2] *= np.pi * 2\n",
    "    c[2] -= np.pi\n",
    "    c[3] *= 0\n",
    "    c[3] += 0.0\n",
    "    sys = scen.create_system(c) \n",
    "    trajs, passed = sys.simulate_tspan((0.0, 20.0), \n",
    "                               show_status=False, \n",
    "                               terminating_conditions_all=air_collision_condition,\n",
    "                              return_passed = True)\n",
    "    if not passed:\n",
    "        return c, passed, trajs\n",
    "    else:\n",
    "        return c, passed, None"
   ]
  },
  {
   "cell_type": "code",
   "execution_count": null,
   "id": "dbac2e03",
   "metadata": {},
   "outputs": [],
   "source": [
    "task()"
   ]
  },
  {
   "cell_type": "code",
   "execution_count": null,
   "id": "76fc44f6",
   "metadata": {},
   "outputs": [],
   "source": [
    "from joblib import Parallel, delayed"
   ]
  },
  {
   "cell_type": "code",
   "execution_count": null,
   "id": "16d74e52",
   "metadata": {},
   "outputs": [],
   "source": [
    "results = Parallel(n_jobs=24)(delayed(task)() for i in range(10))"
   ]
  },
  {
   "cell_type": "code",
   "execution_count": null,
   "id": "838cf31f",
   "metadata": {},
   "outputs": [],
   "source": [
    "for c, p, t in results:\n",
    "    if not p:\n",
    "        viewer = AcasScenarioViewer(t, scen)\n",
    "        fig, ax = viewer.summary_plot()\n",
    "        plt.show()"
   ]
  },
  {
   "cell_type": "code",
   "execution_count": null,
   "id": "15ecdd01",
   "metadata": {},
   "outputs": [],
   "source": [
    "coords = np.array([c for c, _, _ in results])\n",
    "passes = np.array([p for _, p, _ in results])\n",
    "\n",
    "\n",
    "fig = plt.figure(figsize=(10, 10))\n",
    "ax = fig.add_subplot(projection='3d')\n",
    "x, y, z = coords[passes==True, 0], coords[passes==True, 1], coords[passes==True, 2]\n",
    "ax.scatter(x, y, z)\n",
    "x, y, z = coords[passes==False, 0], coords[passes==False, 1], coords[passes==False, 2]\n",
    "ax.scatter(x, y, z, alpha=0.8)"
   ]
  },
  {
   "cell_type": "code",
   "execution_count": null,
   "id": "5de04bd8",
   "metadata": {},
   "outputs": [],
   "source": [
    "#%matplotlib notebook\n",
    "fig = plt.figure(figsize=(10, 10))\n",
    "ax = fig.add_subplot(projection='3d')\n",
    "x, y, z = coords[passes==False, 0], coords[passes==False, 1], coords[passes==False, 2]\n",
    "ax.set_xlabel(\"North / South Position\")\n",
    "ax.set_ylabel(\"East / West Position\")\n",
    "ax.set_zlabel(\"Heading\")\n",
    "ax.set_title(\"ACAS Xu Collisions\")\n",
    "ax.scatter(x, y, np.rad2deg(z), alpha=0.8)\n",
    "plt.savefig(\"acas_falsifications_3d.pdf\")"
   ]
  },
  {
   "cell_type": "code",
   "execution_count": null,
   "id": "f0bd6db5",
   "metadata": {},
   "outputs": [],
   "source": [
    "fig, ax = plt.subplots(figsize=(10, 10), ncols=2, nrows=2)\n",
    "\n",
    "ax[0][0].set_title(\"ACAS Xu Collisions\")\n",
    "ax[0][0].scatter(x, y, s=20, alpha=0.5)\n",
    "ax[0][0].set_xlabel(\"North / South Position\")\n",
    "ax[0][0].set_ylabel(\"East / West Position\")\n",
    "ax[0][0].grid()\n",
    "\n",
    "ax[0][1].scatter(x, np.rad2deg(z), s=20, alpha=0.5)\n",
    "ax[0][1].set_xlabel(\"North / South Position\")\n",
    "ax[0][1].set_ylabel(\"Heading\")\n",
    "ax[0][1].grid()\n",
    "\n",
    "ax[1][0].scatter(y, np.rad2deg(z), s=20, alpha=0.5)\n",
    "ax[1][0].set_xlabel(\"East / West Position\")\n",
    "ax[1][0].set_ylabel(\"Heading\")\n",
    "ax[1][0].grid()\n",
    "\n",
    "ax[1][1].axis('off')\n",
    "\n",
    "plt.tight_layout()\n",
    "plt.savefig(\"acas_falsifications.pdf\")"
   ]
  },
  {
   "cell_type": "code",
   "execution_count": null,
   "id": "725634d1",
   "metadata": {},
   "outputs": [],
   "source": [
    "coordsp = np.array([c for c, _, _ in results])\n",
    "dist = [(np.linalg.norm(c[:2]) if not p else 0.0) for c, p in zip(coords, passes)]\n",
    "idx = np.argmax(dist)"
   ]
  },
  {
   "cell_type": "code",
   "execution_count": null,
   "id": "c222cbaf",
   "metadata": {},
   "outputs": [],
   "source": [
    "if results[idx][2] is not None:\n",
    "    viewer = AcasScenarioViewer(results[idx][2], scen)\n",
    "    anim = viewer.summary_video()\n",
    "    HTML(anim.to_jshtml())"
   ]
  },
  {
   "cell_type": "code",
   "execution_count": null,
   "id": "3adaf736",
   "metadata": {},
   "outputs": [],
   "source": []
  }
 ],
 "metadata": {
  "kernelspec": {
   "display_name": "Python 3 (ipykernel)",
   "language": "python",
   "name": "python3"
  },
  "language_info": {
   "codemirror_mode": {
    "name": "ipython",
    "version": 3
   },
   "file_extension": ".py",
   "mimetype": "text/x-python",
   "name": "python",
   "nbconvert_exporter": "python",
   "pygments_lexer": "ipython3",
   "version": "3.9.6"
  }
 },
 "nbformat": 4,
 "nbformat_minor": 5
}
