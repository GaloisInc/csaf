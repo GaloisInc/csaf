{
 "cells": [
  {
   "cell_type": "code",
   "execution_count": null,
   "id": "8c36b28c",
   "metadata": {},
   "outputs": [],
   "source": [
    "import sys\n",
    "sys.path.append(\"..\")\n",
    "\n",
    "import csaf\n",
    "import csaf.utils as csafutils\n",
    "\n",
    "from csaf_f16.goals import AcasSimpleScenario, AcasSimpleShieldScenario\n",
    "from csaf_f16.acas import AcasScenarioViewer, collision_condition\n",
    "from csaf_f16.systems import F16AcasShieldIntruderBalloon\n",
    "\n",
    "from IPython.display import HTML\n",
    "\n",
    "import numpy as np\n",
    "import matplotlib as mpl\n",
    "import matplotlib.pyplot as plt\n",
    "%matplotlib inline\n",
    "%config InlineBackend.figure_format='retina'"
   ]
  },
  {
   "cell_type": "code",
   "execution_count": null,
   "id": "c7ec0c78",
   "metadata": {},
   "outputs": [],
   "source": [
    "# check the system\n",
    "AcasSimpleScenario.system_type().check()\n",
    "\n",
    "# view the system\n",
    "csafutils.view_block_diagram(AcasSimpleScenario.system_type, ipython_notebook=True)"
   ]
  },
  {
   "cell_type": "code",
   "execution_count": null,
   "id": "b4d0e2ce",
   "metadata": {},
   "outputs": [],
   "source": [
    "YOFF = 1700\n",
    "int_way = (-7000, 0.0+YOFF, 1000.0)\n",
    "\n",
    "# construct a scenario\n",
    "scen = AcasSimpleScenario()"
   ]
  },
  {
   "cell_type": "code",
   "execution_count": null,
   "id": "a2e75a49",
   "metadata": {},
   "outputs": [],
   "source": [
    "m = (8000+YOFF - int_way[1]) / (6000 - int_way[0])\n",
    "theta = np.arctan2((6000 - int_way[0]), (8000+YOFF - int_way[1]))\n",
    "x = 9000\n",
    "\n",
    "sys = scen.generate_system([x, (x-int_way[0])*m+int_way[1], # relative position\n",
    "                          (theta+np.pi), # relative heading\n",
    "                          -200.0]) # relative airspeed\n",
    "sys.check()"
   ]
  },
  {
   "cell_type": "code",
   "execution_count": null,
   "id": "443b4858",
   "metadata": {},
   "outputs": [],
   "source": [
    "trajs = sys.simulate_tspan((0.0, 60.0), show_status=True, terminating_conditions_all=collision_condition)"
   ]
  },
  {
   "cell_type": "code",
   "execution_count": null,
   "id": "c84192f8",
   "metadata": {},
   "outputs": [],
   "source": [
    "viewer = AcasScenarioViewer(trajs, scen)\n",
    "fig, ax = viewer.summary_plot()\n",
    "plt.show()"
   ]
  },
  {
   "cell_type": "code",
   "execution_count": null,
   "id": "c78df806",
   "metadata": {},
   "outputs": [],
   "source": [
    "anim = viewer.summary_video()\n",
    "HTML(anim.to_jshtml())"
   ]
  },
  {
   "cell_type": "code",
   "execution_count": null,
   "id": "5ec69215",
   "metadata": {},
   "outputs": [],
   "source": [
    "def task():\n",
    "    c = np.random.random(4)\n",
    "    c[0] *= 20000\n",
    "    c[0] -= 10000\n",
    "    c[1] *= 20000\n",
    "    c[1] -= 10000\n",
    "    c[2] *= np.pi * 2\n",
    "    c[2] -= np.pi\n",
    "    c[3] *= 0\n",
    "    c[3] += 0.0\n",
    "    sys = scen.generate_system(c) \n",
    "    trajs, passed = sys.simulate_tspan((0.0, 20.0), \n",
    "                               show_status=False, \n",
    "                               terminating_conditions_all=collision_condition,\n",
    "                              return_passed = True)\n",
    "    if not passed:\n",
    "        return c, passed, trajs\n",
    "    else:\n",
    "        return c, passed, None"
   ]
  },
  {
   "cell_type": "code",
   "execution_count": null,
   "id": "dbac2e03",
   "metadata": {},
   "outputs": [],
   "source": [
    "task()"
   ]
  },
  {
   "cell_type": "code",
   "execution_count": null,
   "id": "76fc44f6",
   "metadata": {},
   "outputs": [],
   "source": [
    "from joblib import Parallel, delayed"
   ]
  },
  {
   "cell_type": "code",
   "execution_count": null,
   "id": "16d74e52",
   "metadata": {},
   "outputs": [],
   "source": [
    "results = Parallel(n_jobs=24)(delayed(task)() for i in range(100))"
   ]
  },
  {
   "cell_type": "code",
   "execution_count": null,
   "id": "838cf31f",
   "metadata": {},
   "outputs": [],
   "source": [
    "for c, p, t in results:\n",
    "    if not p:\n",
    "        viewer = AcasScenarioViewer(t, scen)\n",
    "        fig, ax = viewer.summary_plot()\n",
    "        plt.show()"
   ]
  },
  {
   "cell_type": "code",
   "execution_count": null,
   "id": "15ecdd01",
   "metadata": {},
   "outputs": [],
   "source": [
    "coords = np.array([c for c, _, _ in results])\n",
    "passes = np.array([p for _, p, _ in results])\n",
    "\n",
    "\n",
    "fig = plt.figure(figsize=(10, 10))\n",
    "ax = fig.add_subplot(projection='3d')\n",
    "x, y, z = coords[passes==True, 0], coords[passes==True, 1], coords[passes==True, 2]\n",
    "ax.scatter(x, y, z)\n",
    "x, y, z = coords[passes==False, 0], coords[passes==False, 1], coords[passes==False, 2]\n",
    "ax.scatter(x, y, z, alpha=0.8)"
   ]
  },
  {
   "cell_type": "code",
   "execution_count": null,
   "id": "beec9a07",
   "metadata": {},
   "outputs": [],
   "source": []
  }
 ],
 "metadata": {
  "kernelspec": {
   "display_name": "Python 3 (ipykernel)",
   "language": "python",
   "name": "python3"
  },
  "language_info": {
   "codemirror_mode": {
    "name": "ipython",
    "version": 3
   },
   "file_extension": ".py",
   "mimetype": "text/x-python",
   "name": "python",
   "nbconvert_exporter": "python",
   "pygments_lexer": "ipython3",
   "version": "3.9.2"
  }
 },
 "nbformat": 4,
 "nbformat_minor": 5
}
