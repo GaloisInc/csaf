{
 "cells": [
  {
   "cell_type": "code",
   "execution_count": null,
   "id": "c62ed1c8",
   "metadata": {},
   "outputs": [],
   "source": [
    "import sys\n",
    "sys.path.append(\"..\")\n",
    "\n",
    "import csaf\n",
    "import csaf.utils as csafutils\n",
    "\n",
    "from f16lib.acas import AcasScenario, AcasShieldScenario, AcasScenarioViewer\n",
    "from f16lib.systems import F16AcasShieldIntruderBalloon\n",
    "\n",
    "from IPython.display import HTML\n",
    "\n",
    "import numpy as np\n",
    "import matplotlib as mpl\n",
    "import matplotlib.pyplot as plt\n",
    "%matplotlib inline\n",
    "%config InlineBackend.figure_format='retina'"
   ]
  },
  {
   "cell_type": "code",
   "execution_count": null,
   "id": "698d1886",
   "metadata": {},
   "outputs": [],
   "source": [
    "# check the system\n",
    "AcasShieldScenario.system_type().check()\n",
    "\n",
    "# view the system\n",
    "csafutils.view_block_diagram(AcasShieldScenario.system_type, ipython_notebook=True)"
   ]
  },
  {
   "cell_type": "code",
   "execution_count": null,
   "id": "ec76d32d",
   "metadata": {},
   "outputs": [],
   "source": [
    "# construct a scenario\n",
    "scen = AcasShieldScenario(\n",
    "    [-1000, 5000], # balloon position\n",
    "    500.0, # ownship airspeed\n",
    "    ((-0.0, 4000.0, 1000.0),(-4000.0, 2500.0, 1000.0), (-8000, 4000, 1000.0)) # intruder waypoints\n",
    ")"
   ]
  },
  {
   "cell_type": "code",
   "execution_count": null,
   "id": "d6ee2f15",
   "metadata": {},
   "outputs": [],
   "source": [
    "sys = scen.create_system([6000, 8000, # relative position\n",
    "                          -3.14/2, # relative heading\n",
    "                          -200.0]) # relative airspeed\n",
    "sys.check()"
   ]
  },
  {
   "cell_type": "code",
   "execution_count": null,
   "id": "94ee4c99",
   "metadata": {},
   "outputs": [],
   "source": [
    "trajs = sys.simulate_tspan((0.0, 30.0), show_status=True)"
   ]
  },
  {
   "cell_type": "code",
   "execution_count": null,
   "id": "76d52405",
   "metadata": {},
   "outputs": [],
   "source": [
    "viewer = AcasScenarioViewer(trajs, scen)\n",
    "fig, ax = viewer.summary_plot()\n",
    "plt.show()"
   ]
  },
  {
   "cell_type": "code",
   "execution_count": null,
   "id": "71bcac27",
   "metadata": {},
   "outputs": [],
   "source": [
    "anim = viewer.summary_video()\n",
    "HTML(anim.to_jshtml())"
   ]
  },
  {
   "cell_type": "code",
   "execution_count": null,
   "id": "c5310ef4",
   "metadata": {},
   "outputs": [],
   "source": []
  }
 ],
 "metadata": {
  "kernelspec": {
   "display_name": "Python 3 (ipykernel)",
   "language": "python",
   "name": "python3"
  },
  "language_info": {
   "codemirror_mode": {
    "name": "ipython",
    "version": 3
   },
   "file_extension": ".py",
   "mimetype": "text/x-python",
   "name": "python",
   "nbconvert_exporter": "python",
   "pygments_lexer": "ipython3",
   "version": "3.9.6"
  }
 },
 "nbformat": 4,
 "nbformat_minor": 5
}
