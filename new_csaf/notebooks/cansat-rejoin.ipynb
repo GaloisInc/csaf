{
 "cells": [
  {
   "cell_type": "markdown",
   "id": "14b4d145",
   "metadata": {},
   "source": [
    "# CanSat Rejoin Example\n",
    "\n",
    "This Jupyter notebook demonstrates a multi-agent task scenario modeled with control system analysis framework (CSAF), where a group of satellites attempt to rejoin in formation while avoiding collision with one another.  The spacecraft model was taken from the [AerospaceRL repository on GitHub](https://github.com/act3-ace/aerospaceRL). The simple 2D model uses applied forces to move a satellite\n",
    "agent around on a plane. The coordinate system is relative to a \"chief\" satellite, where chaser satellites are attempting to\n",
    "approach the chief without crashing into it. To create a multi-agent example, four chaser satellites were instantiated around the chief, who attempt to\n",
    "approach the chief satellite without crashing into one another.\n",
    "\n",
    "The model has a 4D state space, $(x,y)$ position and $(\\dot x, \\dot y)$ velocities. The input space consists of two applied forces,\n",
    "$\\mathbf{F} = (F_x, F_y)^T$. The state evolution function can be written\n",
    "as\n",
    "\n",
    "$$\n",
    "\\dot{\\mathbf{x}} = \\begin{bmatrix} x_2 \\\\\n",
    " x_3 \\\\\n",
    "3 n^2 x_0 + 2 n x_3 + \\frac{1}{m_c} F_x\\\\\n",
    "-2 n x_2 + \\frac{1}{m_c} F_y \\end{bmatrix},\n",
    "$$\n",
    "\n",
    "where $\\mathbf{x}=(x, y, \\dot x, \\dot y)$, $n$ is the mean motion, and $m_c$ is the mass of the chaser. In linear state space form,\n",
    "\n",
    "$$\n",
    "\\dot{\\mathbf{x}} = \\begin{bmatrix} 0 && 0 && 1 && 0 \\\\\n",
    " 0 && 0 && 0 && 1 \\\\\n",
    "3 n^2 && 0 && 0 && 2 n \\\\\n",
    "0 && 0 && -2 n && 0 \\end{bmatrix} \\mathbf{x} +\n",
    "\\begin{bmatrix}\n",
    "0 && 0 \\\\\n",
    "0 && 0 \\\\\n",
    "\\frac{1}{m_c} && 0 \\\\\n",
    "0 && \\frac{1}{m_c} \\\\\n",
    "\\end{bmatrix} \\mathbf{F}.\n",
    "$$\n",
    "\n",
    "  \n",
    "  \n",
    "## Controller Design\n",
    "\n",
    "A controller policy is designed to achieve the multi-agent goal, responsible for supplying the forces to all satellites. While the original AerospaceRL benchmark scenario was meant for\n",
    "RL, a simple spring system approach is taken. The input force for each element can be accomplished in three steps:\n",
    "\n",
    "1.  Construct an undirected graph $\\mathcal G$ of satellites $\\mathcal S$ and connections $\\mathcal C$ to nearby satellites,\n",
    "$$\n",
    "\\mathcal G = (\\mathcal S, \\mathcal C).\n",
    "$$\n",
    "    Any satellite $s_i$ has a set of neighbors, $\\text{neighbors} \\subseteq \\mathcal S$, being all satellites with which $s_i$ has connections.\n",
    "2.  Construct a damped spring system by assigning a spring and damping constant to each connection.\n",
    "3.  Solve for the force applied to each node, and use that as a control policy for each satellite. For satellite $s_i$,\n",
    "    the force $F_i$ applied to the input would be a sum of the forces supplied by neighbors,  \n",
    "$$\n",
    "\\mathbf{F_i} = \\sum_{s_j \\in \\text{neighbors}} k_p (||\\mathbf r||_2 - r_l) + k_d || \\operatorname{proj}_{\\hat{\\mathbf r}} (\\mathbf v_r)||_2,\n",
    "$$\n",
    "    where $\\mathbf r = {\\mathbf x_{j,:2} -\\mathbf  x_{i,:2}}$, $\\mathbf v_r = {\\mathbf x_{j, 2:} - \\mathbf x_{i, 2:}}$, $r_l$ is the spring rest length,\n",
    "    $k_p$ is the spring constant, and $k_d$ is the damping factor. The rest length in this case defines the ideal final distances that\n",
    "    all satellites should have to one another.\n",
    "\n",
    "Also, this technique can be done in a centralized or distributed fashion. Notably, should all satellites be able to detect one another\n",
    "symmetrically, step (1) can be accomplished per satellite by $\\epsilon$-ball construction. If the satellites cannot agree who is a valid connection,\n",
    "the graph becomes directed, and the controller no longer represents a spring system.\n",
    "\n"
   ]
  },
  {
   "cell_type": "code",
   "execution_count": null,
   "id": "f2b765a3",
   "metadata": {},
   "outputs": [],
   "source": [
    "# if running locally\n",
    "import sys\n",
    "sys.path.append(\"..\")\n",
    "\n",
    "# import csaf and CanSat example model\n",
    "import csaf\n",
    "import csaf.utils as csafutils\n",
    "import csaf_examples.cansat as canm\n",
    "\n",
    "# other imports\n",
    "import numpy as np\n",
    "import matplotlib.pyplot as plt\n",
    "%matplotlib inline\n",
    "%config InlineBackend.figure_format='retina'\n",
    "from scipy.spatial.qhull import Delaunay"
   ]
  },
  {
   "cell_type": "markdown",
   "id": "8f4111c7",
   "metadata": {},
   "source": [
    "## Configuration\n",
    "\n",
    "The CanSat system can be created via the `generate_cansat_system` function by passing in a list of chasers' initial states. A controller is created dynamically to support the number of chasers specified with the states list. This system component topology can be viewed via the `view_block_diagram` utility function.\n"
   ]
  },
  {
   "cell_type": "code",
   "execution_count": null,
   "id": "dd5d45ea",
   "metadata": {},
   "outputs": [],
   "source": [
    "# chaser initial states (pos + vel)\n",
    "sat_states = [[10, -10, -2.0, 2.1], \n",
    "            [10, -7, 0.7, 0.0], \n",
    "            [-12, -7, -0.3, 1.0],\n",
    "            [10, 0, -0.2, .1]]\n",
    "\n",
    "system = canm.generate_cansat_system(sat_states)"
   ]
  },
  {
   "cell_type": "code",
   "execution_count": null,
   "id": "a5734f6b",
   "metadata": {},
   "outputs": [],
   "source": [
    "# view the system\n",
    "csafutils.view_block_diagram(system, ipython_notebook=True)"
   ]
  },
  {
   "cell_type": "markdown",
   "id": "eb260c95",
   "metadata": {},
   "source": [
    "## Simulation\n",
    "\n",
    "After configuration, the CSAF system is simulated via the method `System.simulate_tspan`. The returned traces `trajs` capture the trajectories of each agent as the controller applies the forces."
   ]
  },
  {
   "cell_type": "code",
   "execution_count": null,
   "id": "a555ecc5",
   "metadata": {},
   "outputs": [],
   "source": [
    "trajs = system.simulate_tspan((0.0, 25.0))"
   ]
  },
  {
   "cell_type": "code",
   "execution_count": null,
   "id": "84def569",
   "metadata": {},
   "outputs": [],
   "source": [
    "# pack states into convenient data structure\n",
    "states = [np.array(trajs['sat'+str(idx)].states) for idx in range(4)]"
   ]
  },
  {
   "cell_type": "code",
   "execution_count": null,
   "id": "b8a1a2e1",
   "metadata": {},
   "outputs": [],
   "source": [
    "# create a plot of initial and final state\n",
    "def plot_satellites(ax, sats, use_tri=True):\n",
    "    ax.set_xlim([-20, 20])\n",
    "    ax.set_ylim([-20, 20])\n",
    "    points = np.array([(0, 0)] + [s[:2] for s in sats])\n",
    "    for idx, p in enumerate(points):\n",
    "        ax.scatter(*p)\n",
    "        ax.text(p[0]-0.5, p[1]+0.5, f\"{'chief ' if idx == 0 else 'chaser '}{idx}\")\n",
    "    ax.set_xlabel(\"x (m)\")\n",
    "    ax.set_ylabel(\"y (m)\")\n",
    "    if use_tri:\n",
    "        tri = Delaunay(points)\n",
    "        ax.triplot(points[:,0], points[:,1], tri.simplices, '--')\n",
    "\n",
    "fig, ax = plt.subplots(figsize=(16, 8), ncols=2, sharey=True, sharex=True)\n",
    "plot_satellites(ax[0], [s[0, :] for s in states])\n",
    "plot_satellites(ax[1], [s[-1, :] for s in states])\n",
    "ax[0].set_title(\"Initial State\")\n",
    "ax[1].set_title(\"Final State\")\n",
    "plt.show()"
   ]
  },
  {
   "cell_type": "markdown",
   "id": "523a63bc",
   "metadata": {},
   "source": [
    "## Animation\n",
    "\n",
    "When running the Jupyter notebook, animation is available to view the trajectories as a movie. Uncomment the following code and run."
   ]
  },
  {
   "cell_type": "code",
   "execution_count": null,
   "id": "2fb16d7b",
   "metadata": {},
   "outputs": [],
   "source": [
    "# uncomment this to get an animation of the satellites\n",
    "\"\"\"\n",
    "%matplotlib notebook\n",
    "import sys\n",
    "sys.path.append('/csaf-system')\n",
    "\n",
    "ani = canm.plot_sats_anim(states)\n",
    "from IPython.display import HTML\n",
    "HTML(ani.to_jshtml())\n",
    "\"\"\""
   ]
  },
  {
   "cell_type": "code",
   "execution_count": null,
   "id": "393aa481",
   "metadata": {},
   "outputs": [],
   "source": []
  }
 ],
 "metadata": {
  "kernelspec": {
   "display_name": "Python [conda env:trust-ml] *",
   "language": "python",
   "name": "conda-env-trust-ml-py"
  },
  "language_info": {
   "codemirror_mode": {
    "name": "ipython",
    "version": 3
   },
   "file_extension": ".py",
   "mimetype": "text/x-python",
   "name": "python",
   "nbconvert_exporter": "python",
   "pygments_lexer": "ipython3",
   "version": "3.9.2"
  }
 },
 "nbformat": 4,
 "nbformat_minor": 5
}
