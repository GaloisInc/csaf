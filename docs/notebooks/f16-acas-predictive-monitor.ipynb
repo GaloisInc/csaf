{
 "cells": [
  {
   "cell_type": "code",
   "execution_count": null,
   "id": "87701906",
   "metadata": {},
   "outputs": [],
   "source": [
    "import csaf.config as cconf\n",
    "import csaf.system as csys\n",
    "\n",
    "import numpy as np\n",
    "import matplotlib as mpl\n",
    "import matplotlib.pyplot as plt\n",
    "%matplotlib inline\n",
    "%config InlineBackend.figure_format='retina'\n",
    "\n",
    "# create a csaf configuration out of toml\n",
    "my_conf = cconf.SystemConfig.from_toml(\"/csaf-system/f16_acas_shield.toml\")"
   ]
  },
  {
   "cell_type": "code",
   "execution_count": null,
   "id": "ca154b48",
   "metadata": {},
   "outputs": [],
   "source": [
    "from IPython.display import Image\n",
    "\n",
    "import pathlib\n",
    "\n",
    "plot_fname = f\"pub-sub-plot.png\"\n",
    "\n",
    "# plot configuration pub/sub diagram as a file -- proj specicies a dot executbale and -Gdpi is a valid dot\n",
    "# argument to change the image resolution\n",
    "my_conf.plot_config(fname=pathlib.Path(plot_fname).resolve(), prog=[\"dot\", \"-Gdpi=400\"])\n",
    "\n",
    "# display written file to notebook\n",
    "Image(plot_fname, height=600)"
   ]
  },
  {
   "cell_type": "code",
   "execution_count": null,
   "id": "9f699b7a",
   "metadata": {},
   "outputs": [],
   "source": [
    "def air_collision_condition(ctraces):\n",
    "        \"\"\"ground collision premature termination condition\n",
    "        \"\"\"\n",
    "        # get the aircraft states\n",
    "        sa, sb = ctraces['plant']['states'], ctraces['plant_intruder']['states']\n",
    "        if sa and sb:\n",
    "            # look at distance between last state\n",
    "            return (np.linalg.norm(np.array(sa[-1][9:11]) - np.array(sb[-1][9:11]))) < 10"
   ]
  },
  {
   "cell_type": "code",
   "execution_count": null,
   "id": "d0493932",
   "metadata": {},
   "outputs": [],
   "source": [
    "# create pub/sub components out of the configuration\n",
    "my_system = csys.System.from_config(my_conf)\n",
    "\n",
    "# set the scenario states\n",
    "my_system.set_state('plant', [500.0, 0.0, 0.0, 0.0, 0.0, 0.0, 0.0, 0.0, 0.0, 0.0, 0.0, 6000.0, 9.0])\n",
    "my_system.set_state('plant_intruder', [500.0, 0.0, 0.0, 0.0, 0.0, np.pi, 0.0, 0.0, 0.0, 2000.0, 0.0, 6000.0, 9.0])"
   ]
  },
  {
   "cell_type": "code",
   "execution_count": null,
   "id": "d154144a",
   "metadata": {},
   "outputs": [],
   "source": [
    "# create an environment from the system, allowing us to act as the controller\n",
    "my_env = csys.SystemEnv(\"predictor\", my_system, terminating_conditions_all=air_collision_condition)"
   ]
  },
  {
   "cell_type": "code",
   "execution_count": null,
   "id": "8429280a",
   "metadata": {},
   "outputs": [],
   "source": [
    "from collections import deque\n",
    "\n",
    "\n",
    "class PredictorBuffer:\n",
    "    # number of steps to take before re-running predictor\n",
    "    n_steps = 10\n",
    "    \n",
    "    def __init__(self, env: csys.SystemEnv):\n",
    "        self.pstates = []\n",
    "        self.init_out = [0.,0.,0.,0.7]\n",
    "        self.env = env\n",
    "        self._finished = False\n",
    "        \n",
    "    def step(self, pred_out = False):\n",
    "        \"\"\"step through the simulation for n steps and collect a buffer for prediction\"\"\"\n",
    "        for _ in range(self.n_steps):\n",
    "            try:\n",
    "                # send the outputs, can collect the inputs\n",
    "                comp_input = self.env.step({\"predictor-outputs\": [pred_out]}) \n",
    "\n",
    "                # get the states and track them over time\n",
    "                self.pstates.append((comp_input['plant-states'], comp_input['plant_intruder-states']))\n",
    "\n",
    "            # stop iteration occurs when the termination conditions are satisfied\n",
    "            except StopIteration as e:\n",
    "                self._finished = True\n",
    "                break\n",
    "\n",
    "            # other errors can occur -- maybe solver error\n",
    "            except Exception as e:\n",
    "                self._finished = True\n",
    "                raise e\n",
    "                break\n",
    "      \n",
    "    @property\n",
    "    def buffer(self) -> np.array:\n",
    "        \"\"\"get the buffer as a numpy array\"\"\"\n",
    "        return np.array(self.pstates)\n",
    "                \n",
    "    @property\n",
    "    def is_finished(self):\n",
    "        \"\"\"if simulation terminated\"\"\"\n",
    "        return self._finished\n",
    "    "
   ]
  },
  {
   "cell_type": "code",
   "execution_count": null,
   "id": "8f28c26b",
   "metadata": {},
   "outputs": [],
   "source": [
    "# create a buffer for the predictor\n",
    "pb = PredictorBuffer(my_env)\n",
    "\n",
    "# fill it\n",
    "pb.step(False)\n",
    "pb.step(False)\n",
    "pb.step(False)\n",
    "\n",
    "# get buffer\n",
    "pstates = pb.buffer"
   ]
  },
  {
   "cell_type": "code",
   "execution_count": null,
   "id": "d21837d4",
   "metadata": {},
   "outputs": [],
   "source": [
    "plt.scatter(*pstates[:, 1, 9:11].T)"
   ]
  },
  {
   "cell_type": "code",
   "execution_count": null,
   "id": "2cd6ec8c",
   "metadata": {},
   "outputs": [],
   "source": [
    "plt.plot(pstates[:, 1, 0])"
   ]
  },
  {
   "cell_type": "code",
   "execution_count": null,
   "id": "8b5c2a60",
   "metadata": {},
   "outputs": [],
   "source": [
    "plt.scatter(*pstates[:, 0, 9:11].T)"
   ]
  },
  {
   "cell_type": "code",
   "execution_count": null,
   "id": "6c51113e",
   "metadata": {},
   "outputs": [],
   "source": []
  }
 ],
 "metadata": {
  "kernelspec": {
   "display_name": "Python 3",
   "language": "python",
   "name": "python3"
  },
  "language_info": {
   "codemirror_mode": {
    "name": "ipython",
    "version": 3
   },
   "file_extension": ".py",
   "mimetype": "text/x-python",
   "name": "python",
   "nbconvert_exporter": "python",
   "pygments_lexer": "ipython3",
   "version": "3.6.9"
  }
 },
 "nbformat": 4,
 "nbformat_minor": 5
}
