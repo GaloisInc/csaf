{
 "cells": [
  {
   "cell_type": "markdown",
   "metadata": {},
   "source": [
    "# Dubin's 2D Aircraft\n",
    "\n",
    "Dubin's aircraft presents a dynamically simple 2D aircraft model. The state space is 3 dimensions, being two position coordinate $(x,y)$\n",
    "and a heading angle $\\theta$. The control action simply is to apply a heading angle $\\theta$ while maintaining constant velocity\n",
    "(no throttle). The update equation is\n",
    "\n",
    " \\begin{equation}\n",
    "  \\dot{\\mathbf x} = \\begin{bmatrix}\n",
    "v \\cos (x_2) \\\\\n",
    "v \\sin (x_2) \\\\\n",
    "u \\\\\n",
    "\\end{bmatrix}\n",
    "\\end{equation}\n",
    "\n",
    "where $v$ is some fixed airspeed parameter.\n",
    "\n",
    "\n",
    "## Controller Design\n",
    "\n",
    "A lateral rejoin task is specified: given **n** planes at different orientations, produce **n** maneuver sequences that allow them to be no further\n",
    "than some terminal length apart $r_l$ and at some terminal heading angle $\\theta_t$. Given that the only control surface that can be affected is angular\n",
    "rate, the following control scheme is formulated,\n",
    "\n",
    "1.  Construct an undirected graph of planes, like the can satellite design above. In this case, a simple $k$-neighbors was done,\n",
    "    with $k=1$. In this procedure, solve only for the nearest neighbor; this can be extended to different graph constructions, by\n",
    "    appropriately weighting the graph edges inversely to distances between nodes.\n",
    "2.  Solve for the angle that will cause a plane $s_i$ and its nearest neighbor $s_j$ to approach one another the fastest,\n",
    "    $$\\theta_{i}(s_i, s_j) = \\operatorname{atan2}(x_{j1} -x_{i1}, x_{j0} - x_{i0})$$\n",
    "3.  Linearly combine the angle $\\theta_i$ and the terminal heading angle \\(\\theta_t\\).\n",
    "    Apply some weight that is a function of the distance between the aircraft $r$, $w: \\bar{\\mathbb R^-}  \\rightarrow [0, 1]$,\n",
    "    $$\\theta_c(s_i) = w(r(s_i, s_j)) \\theta_t + (1-w(r(s_i, s_j))) \\theta_j$$\n",
    "    In this example,\n",
    "    $$w(r) = \\exp\\left( -\\frac{(r-r_l)^2}{\\tau} \\right)$$.\n",
    "4.  Control the position quantity via a proportional controller,\n",
    "    $$u = k_p (\\theta_c - \\theta)$$\n"
   ]
  },
  {
   "cell_type": "code",
   "execution_count": null,
   "metadata": {},
   "outputs": [],
   "source": [
    "import numpy as np\n",
    "import matplotlib.pyplot as plt"
   ]
  },
  {
   "cell_type": "code",
   "execution_count": null,
   "metadata": {},
   "outputs": [],
   "source": [
    "import csaf.config as cconf\n",
    "import csaf.system as csys\n",
    "\n",
    "# create a csaf configuration out of toml\n",
    "my_conf = cconf.SystemConfig.from_toml(\"/csaf-system/rejoin_config.toml\")"
   ]
  },
  {
   "cell_type": "code",
   "execution_count": null,
   "metadata": {},
   "outputs": [],
   "source": [
    "def set_dub_idx(conf, identifier, number):\n",
    "    conf.config_dict['components'][identifier+str(number)]['config']['parameters']['idx']=number\n",
    "    \n",
    "def set_dub_state(conf, identifier, number, state):\n",
    "    my_conf.config_dict['components'][identifier+str(number)]['config']['topics']['states']['initial'] = state"
   ]
  },
  {
   "cell_type": "code",
   "execution_count": null,
   "metadata": {},
   "outputs": [],
   "source": [
    "states = [[0, 0, np.deg2rad(45)],\n",
    "              [-5, -10, np.deg2rad(-30)],\n",
    "            [-3, -15, np.deg2rad(90)],\n",
    "            [0, -20, np.deg2rad(0)]]\n",
    "\n",
    "for idx, state in enumerate(states):\n",
    "    set_dub_idx(my_conf, 'jet', idx)\n",
    "    set_dub_state(my_conf, 'jet', idx, state)"
   ]
  },
  {
   "cell_type": "code",
   "execution_count": null,
   "metadata": {},
   "outputs": [],
   "source": [
    "from IPython.display import Image\n",
    "\n",
    "import pathlib\n",
    "\n",
    "plot_fname = f\"pub-sub-plot.png\"\n",
    "\n",
    "# plot configuration pub/sub diagram as a file -- proj specicies a dot executbale and -Gdpi is a valid dot\n",
    "# argument to change the image resolution\n",
    "my_conf.plot_config(fname=pathlib.Path(plot_fname).resolve(), prog=[\"dot\", \"-Gdpi=400\"])\n",
    "\n",
    "# display written file to notebook\n",
    "Image(plot_fname, height=600)"
   ]
  },
  {
   "cell_type": "code",
   "execution_count": null,
   "metadata": {},
   "outputs": [],
   "source": [
    "# create pub/sub components out of the configuration\n",
    "my_system = csys.System.from_config(my_conf)\n",
    "\n",
    "simulation_timespan = [0, 25.0]\n",
    "\n",
    "# simulate and collect time traces out of the components\n",
    "trajs = my_system.simulate_tspan(simulation_timespan, show_status=True)\n",
    "\n",
    "# destroy components and unbind all used sockets\n",
    "my_system.unbind() "
   ]
  },
  {
   "cell_type": "code",
   "execution_count": null,
   "metadata": {},
   "outputs": [],
   "source": [
    "states = [np.array(trajs[f\"jet{idx}\"].states) for idx in range(4)]"
   ]
  },
  {
   "cell_type": "code",
   "execution_count": null,
   "metadata": {},
   "outputs": [],
   "source": [
    "%matplotlib notebook\n",
    "import numpy as np\n",
    "import matplotlib.pyplot as plt\n",
    "import matplotlib.animation\n",
    "from matplotlib.colors import LinearSegmentedColormap\n",
    "\n",
    "fig, ax = plt.subplots(figsize=(8, 8))\n",
    "ax.set_xlabel('X (m)', size = 12)\n",
    "ax.set_ylabel('Y (m)', size = 12)\n",
    "ax.set_xlim([-200, 200])\n",
    "ax.set_ylim([-250, 100])\n",
    "ax.set_aspect('equal')\n",
    "#ax.axis([0,1,0,1])\n",
    "x_vals = []\n",
    "y_vals = []\n",
    "intensity = []\n",
    "iterations = 100\n",
    "\n",
    "t_vals = np.linspace(0,1, iterations)\n",
    "\n",
    "colors = [[0,0,1,0],[0,0,1,0.5],[0,0.2,0.4,1]]\n",
    "cmap = LinearSegmentedColormap.from_list(\"\", colors)\n",
    "scatter = ax.scatter(x_vals,y_vals, c=[], cmap=cmap, vmin=0,vmax=1, s=5, label=\"Chaser Satellites\")\n",
    "#ax.scatter(0, 0, c='r', label=\"Chief Satellite\")\n",
    "#a_circle = plt.Circle((0, 0), 3.0, color='k', fill=False)\n",
    "#ax.add_artist(a_circle)\n",
    "#ax.legend()\n",
    "\n",
    "def get_new_vals(i):\n",
    "    n = np.random.randint(1,5)\n",
    "    #x = np.random.rand(n)\n",
    "    #y = np.random.rand(n)\n",
    "    x = [s[i, 0]*10 for s in states]\n",
    "    y = [s[i, 1]*10 for s in states]\n",
    "    return list(x), list(y)\n",
    "\n",
    "def update(t):\n",
    "    global x_vals, y_vals, intensity\n",
    "    # Get intermediate points\n",
    "    new_xvals, new_yvals = get_new_vals(t)\n",
    "    x_vals.extend(new_xvals)\n",
    "    y_vals.extend(new_yvals)\n",
    "    \n",
    "    # Put new values in your plot\n",
    "    scatter.set_offsets(np.c_[x_vals,y_vals])\n",
    "\n",
    "    #calculate new color values\n",
    "    intensity = np.concatenate((np.array(intensity)*0.96, np.ones(len(new_xvals))))\n",
    "    scatter.set_array(intensity)\n",
    "    xb = [np.min(np.concatenate([s[t-100:, 0] for s in states])), \n",
    "                    np.max(np.concatenate([s[t-100:, 0] for s in states]))]\n",
    "    yb = [np.min(np.concatenate([s[t-100:, 1] for s in states])), \n",
    "                    np.max(np.concatenate([s[t-100:, 1] for s in states]))]\n",
    "    if t > 100:\n",
    "        ax.set_xlim(xb[0]*10 - 0.1 * np.abs(xb[0]*10), xb[1]*10 + 0.1 * np.abs(xb[1]*10))\n",
    "        ax.set_ylim(yb[0]*10 - 0.1 * np.abs(yb[0]*10), yb[1]*10 + 0.1 * np.abs(yb[1]*10))\n",
    "\n",
    "    # Set title\n",
    "    ax.set_title('Dubin\\'s 2D Plane Rejoin (Epoch: %d)' %t)\n",
    "\n",
    "ani = matplotlib.animation.FuncAnimation(fig, update, frames=300,interval=50)\n",
    "from IPython.display import HTML\n",
    "HTML(ani.to_jshtml())\n",
    "#plt.show()"
   ]
  },
  {
   "cell_type": "code",
   "execution_count": null,
   "metadata": {},
   "outputs": [],
   "source": []
  }
 ],
 "metadata": {
  "kernelspec": {
   "display_name": "Python 3",
   "language": "python",
   "name": "python3"
  },
  "language_info": {
   "codemirror_mode": {
    "name": "ipython",
    "version": 3
   },
   "file_extension": ".py",
   "mimetype": "text/x-python",
   "name": "python",
   "nbconvert_exporter": "python",
   "pygments_lexer": "ipython3",
   "version": "3.6.9"
  }
 },
 "nbformat": 4,
 "nbformat_minor": 4
}
