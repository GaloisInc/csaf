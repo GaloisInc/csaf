{
 "cells": [
  {
   "cell_type": "markdown",
   "metadata": {},
   "source": [
    "# Dubin's 2D Aircraft\n",
    "\n",
    "Dubin's aircraft presents a dynamically simple 2D aircraft model. The state space is 3 dimensions, being two position coordinate $(x,y)$\n",
    "and a heading angle $\\theta$. The control action simply is to apply a heading angle $\\theta$ while maintaining constant velocity\n",
    "(no throttle). The update equation is\n",
    "\n",
    " \\begin{equation}\n",
    "  \\dot{\\mathbf x} = \\begin{bmatrix}\n",
    "v \\cos (x_2) \\\\\n",
    "v \\sin (x_2) \\\\\n",
    "u \\\\\n",
    "\\end{bmatrix}\n",
    "\\end{equation}\n",
    "\n",
    "where $v$ is some fixed airspeed parameter.\n",
    "\n",
    "\n",
    "## Controller Design\n",
    "\n",
    "A lateral rejoin task is specified: given **n** planes at different orientations, produce **n** maneuver sequences that allow them to be no further\n",
    "than some terminal length apart $r_l$ and at some terminal heading angle $\\theta_t$. Given that the only control surface that can be affected is angular\n",
    "rate, the following control scheme is formulated,\n",
    "\n",
    "1.  Construct an undirected graph of planes, like the can satellite design above. In this case, a simple $k$-neighbors was done,\n",
    "    with $k=1$. In this procedure, solve only for the nearest neighbor; this can be extended to different graph constructions, by\n",
    "    appropriately weighting the graph edges inversely to distances between nodes.\n",
    "2.  Solve for the angle that will cause a plane $s_i$ and its nearest neighbor $s_j$ to approach one another the fastest,\n",
    "    $$\\theta_{i}(s_i, s_j) = \\operatorname{atan2}(x_{j1} -x_{i1}, x_{j0} - x_{i0})$$\n",
    "3.  Linearly combine the angle $\\theta_i$ and the terminal heading angle \\(\\theta_t\\).\n",
    "    Apply some weight that is a function of the distance between the aircraft $r$, $w: \\bar{\\mathbb R^-}  \\rightarrow [0, 1]$,\n",
    "    $$\\theta_c(s_i) = w(r(s_i, s_j)) \\theta_t + (1-w(r(s_i, s_j))) \\theta_j$$\n",
    "    In this example,\n",
    "    $$w(r) = \\exp\\left( -\\frac{(r-r_l)^2}{\\tau} \\right)$$.\n",
    "4.  Control the position quantity via a proportional controller,\n",
    "    $$u = k_p (\\theta_c - \\theta)$$\n"
   ]
  },
  {
   "cell_type": "code",
   "execution_count": null,
   "metadata": {},
   "outputs": [],
   "source": [
    "import numpy as np\n",
    "import matplotlib.pyplot as plt"
   ]
  },
  {
   "cell_type": "markdown",
   "metadata": {},
   "source": [
    "## Configuration"
   ]
  },
  {
   "cell_type": "code",
   "execution_count": null,
   "metadata": {},
   "outputs": [],
   "source": [
    "import csaf.config as cconf\n",
    "import csaf.system as csys\n",
    "\n",
    "# create a csaf configuration out of toml\n",
    "my_conf = cconf.SystemConfig.from_toml(\"/csaf-system/rejoin_config.toml\")"
   ]
  },
  {
   "cell_type": "code",
   "execution_count": null,
   "metadata": {},
   "outputs": [],
   "source": [
    "def set_dub_idx(conf, identifier, number):\n",
    "    conf.config_dict['components'][identifier+str(number)]['config']['parameters']['idx'] = number\n",
    "    \n",
    "def set_dub_state(conf, identifier, number, state):\n",
    "    my_conf.config_dict['components'][identifier+str(number)]['config']['topics']['states']['initial'] = state"
   ]
  },
  {
   "cell_type": "code",
   "execution_count": null,
   "metadata": {},
   "outputs": [],
   "source": [
    "states = [[0, 0, np.deg2rad(45)],\n",
    "              [-5, -10, np.deg2rad(-30)],\n",
    "            [-3, -15, np.deg2rad(90)],\n",
    "            [0, -20, np.deg2rad(0)]]\n",
    "\n",
    "for idx, state in enumerate(states):\n",
    "    set_dub_idx(my_conf, 'jet', idx)\n",
    "    set_dub_state(my_conf, 'jet', idx, state)"
   ]
  },
  {
   "cell_type": "code",
   "execution_count": null,
   "metadata": {},
   "outputs": [],
   "source": [
    "from IPython.display import Image\n",
    "\n",
    "import pathlib\n",
    "\n",
    "plot_fname = f\"pub-sub-plot.png\"\n",
    "\n",
    "# plot configuration pub/sub diagram as a file -- proj specicies a dot executbale and -Gdpi is a valid dot\n",
    "# argument to change the image resolution\n",
    "my_conf.plot_config(fname=pathlib.Path(plot_fname).resolve(), prog=[\"dot\", \"-Gdpi=400\"])\n",
    "\n",
    "# display written file to notebook\n",
    "Image(plot_fname, height=600)"
   ]
  },
  {
   "cell_type": "markdown",
   "metadata": {},
   "source": [
    "## Simulation"
   ]
  },
  {
   "cell_type": "code",
   "execution_count": null,
   "metadata": {},
   "outputs": [],
   "source": [
    "# create pub/sub components out of the configuration\n",
    "my_system = csys.System.from_config(my_conf)\n",
    "\n",
    "simulation_timespan = [0, 25.0]\n",
    "\n",
    "# simulate and collect time traces out of the components\n",
    "trajs = my_system.simulate_tspan(simulation_timespan, show_status=True)\n",
    "\n",
    "# destroy components and unbind all used sockets\n",
    "my_system.unbind() "
   ]
  },
  {
   "cell_type": "code",
   "execution_count": null,
   "metadata": {},
   "outputs": [],
   "source": [
    "states = [np.array(trajs[f\"jet{idx}\"].states) for idx in range(4)]"
   ]
  },
  {
   "cell_type": "code",
   "execution_count": null,
   "metadata": {},
   "outputs": [],
   "source": [
    "# show aircraft trajectories\n",
    "cs = ['g', 'r', 'b', 'k']\n",
    "fig, ax = plt.subplots(figsize=(15, 7))\n",
    "for idx in range(4):\n",
    "    plt.plot(*states[idx][:, :2].T*10, c=cs[idx])\n",
    "plt.title(\"Aircraft Trajectories\")\n",
    "plt.xlabel(\"X (m)\")\n",
    "plt.ylabel(\"Y (m)\")\n",
    "plt.show()"
   ]
  },
  {
   "cell_type": "markdown",
   "metadata": {},
   "source": [
    "## Animation"
   ]
  },
  {
   "cell_type": "code",
   "execution_count": null,
   "metadata": {},
   "outputs": [],
   "source": [
    "%matplotlib notebook\n",
    "import sys\n",
    "sys.path.append('/csaf-system')\n",
    "from rejoin_plot import plot_air\n",
    "\n",
    "ani = plot_air(states)\n",
    "from IPython.display import HTML\n",
    "HTML(ani.to_jshtml())"
   ]
  },
  {
   "cell_type": "code",
   "execution_count": null,
   "metadata": {},
   "outputs": [],
   "source": []
  }
 ],
 "metadata": {
  "kernelspec": {
   "display_name": "Python 3",
   "language": "python",
   "name": "python3"
  },
  "language_info": {
   "codemirror_mode": {
    "name": "ipython",
    "version": 3
   },
   "file_extension": ".py",
   "mimetype": "text/x-python",
   "name": "python",
   "nbconvert_exporter": "python",
   "pygments_lexer": "ipython3",
   "version": "3.6.9"
  }
 },
 "nbformat": 4,
 "nbformat_minor": 4
}
