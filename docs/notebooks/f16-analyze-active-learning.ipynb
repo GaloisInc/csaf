{
 "cells": [
  {
   "cell_type": "markdown",
   "metadata": {},
   "source": [
    "# Region Estimation Using Active Learning GPs\n",
    "\n",
    "This notebook demonstrates how CSAF can be used in a machine learning based analysis. Specifically, an active learning framework (modAL) uses CSAF as an oracle to sample the state space in a way that recovers a region as a Gaussian Process. \n",
    "\n",
    "**Task**: Estimate the region of initial system states where a condition holds true by sampling the state space. In this case, discover what initial conditions yield a successful ground collision avoidance maneuver for the F-16 aircraft.\n",
    "\n",
    "\n",
    "**Assumptions**: \n",
    "* Naive sampling policies like uniform sampling is too inefficient for the dimensionality of the state space.\n",
    "* The recovered region has a sufficiently low dimensional structure.\n",
    "* The recovered region’s boundary is a Gaussian process f(x) with a known covariance function k(x, x’).\n",
    "\n",
    "\\begin{equation}\n",
    "f(\\mathbf x) \\sim \\mathcal G \\mathcal P (m(\\mathbf x), k(\\mathbf x, \\mathbf x’)), \\quad \\sum_{i=1}^{m}\\sum_{j=i}^{m} \\alpha_i \\alpha_j k(\\mathcal x_i, \\mathcal x_j) \\ge 0.\n",
    "\\end{equation}"
   ]
  },
  {
   "cell_type": "code",
   "execution_count": null,
   "metadata": {},
   "outputs": [],
   "source": [
    "import sys\n",
    "\n",
    "import numpy as np\n",
    "import matplotlib.pyplot as plt\n",
    "\n",
    "import tqdm\n",
    "\n",
    "# CSAF Imports\n",
    "import csaf.config as cconf\n",
    "import csaf.system as csys\n",
    "import run_parallel as rp  # for now, batch simulations is not in CSAF package\n",
    "\n",
    "# ML Imports\n",
    "from modAL.models import ActiveLearner\n",
    "from sklearn.gaussian_process import GaussianProcessRegressor, GaussianProcessClassifier\n",
    "from sklearn.gaussian_process.kernels import RBF"
   ]
  },
  {
   "cell_type": "markdown",
   "metadata": {},
   "source": [
    "## CSAF System Creation"
   ]
  },
  {
   "cell_type": "code",
   "execution_count": null,
   "metadata": {},
   "outputs": [],
   "source": [
    "# create a csaf configuration out of toml\n",
    "my_conf = cconf.SystemConfig.from_toml(\"/csaf-system//f16_shield_config.toml\")"
   ]
  },
  {
   "cell_type": "code",
   "execution_count": null,
   "metadata": {},
   "outputs": [],
   "source": [
    "from IPython.display import Image\n",
    "\n",
    "import pathlib\n",
    "\n",
    "plot_fname = f\"pub-sub-{my_conf.name}-plot.png\"\n",
    "\n",
    "# plot configuration pub/sub diagram as a file -- proj specicies a dot executbale and -Gdpi is a valid dot\n",
    "# argument to change the image resolution\n",
    "my_conf.plot_config(fname=pathlib.Path(plot_fname).resolve(), prog=[\"dot\", \"-Gdpi=400\"])\n",
    "\n",
    "# display written file to notebook\n",
    "Image(plot_fname, height=600)"
   ]
  },
  {
   "cell_type": "markdown",
   "metadata": {},
   "source": [
    "## Analysis Parameters"
   ]
  },
  {
   "cell_type": "code",
   "execution_count": null,
   "metadata": {},
   "outputs": [],
   "source": [
    "## User Set Parameters\n",
    "\n",
    "# bounds to sample\n",
    "bounds = [(200, 1000), \n",
    "          (np.deg2rad(2.1215), np.deg2rad(2.1215)), \n",
    "          (0.0, 0.0), \n",
    "          ((np.pi/2)*0.5, (np.pi/2)*0.5), \n",
    "          (-np.pi, np.pi), \n",
    "          (-np.pi/4, np.pi/4 ),\n",
    "         (0.0, 0.0),\n",
    "         (-0.5, 0.5),\n",
    "         (0.0, 0.0),\n",
    "         (0.0, 0.0),\n",
    "         (0.0, 0.0),\n",
    "         (500, 8000),\n",
    "         (9, 9)]\n",
    "\n",
    "# length scales for RBF kernel used\n",
    "rbf_scales = (100, 1, 1, 1, 30, 1, 1, 1, 1, 1, 1, 1000, 1)\n",
    "\n",
    "\n",
    "# initial sampling count\n",
    "n_initial_sampling = 13**2 * 2"
   ]
  },
  {
   "cell_type": "code",
   "execution_count": null,
   "metadata": {},
   "outputs": [],
   "source": [
    "## Extracted Parameters\n",
    "\n",
    "# name of system configuration\n",
    "run_name = my_conf.name\n",
    "\n",
    "# center of plane to plot contours\n",
    "x_center = np.array([b[1]/2 + b[0]/2 for b in bounds])\n",
    "\n",
    "# name of state variables\n",
    "names = my_conf.get_msg_setting(\"plant\", \"states\", \"msg\").fields_no_header"
   ]
  },
  {
   "cell_type": "markdown",
   "metadata": {},
   "source": [
    "## Helper Functions"
   ]
  },
  {
   "cell_type": "code",
   "execution_count": null,
   "metadata": {},
   "outputs": [],
   "source": [
    "def gen_random_state(bounds):\n",
    "    \"\"\"create a uniformly distributed initial condition\"\"\"\n",
    "    sample = np.random.rand(len(bounds))\n",
    "    ranges = np.array([b[1] - b[0] for b in bounds])\n",
    "    offset = np.array([- b[0] for b in bounds])\n",
    "    return sample * ranges - offset\n",
    "\n",
    "def gpr_scalar_field(cx_train, cy_train, x_center, bounds, indices, rbf_scales = rbf_scales):\n",
    "    \"\"\"produce a matrix of GPR scalar field values against the plane centered at x_center and spanning the\n",
    "    natural basis vector indexed at indices\n",
    "    \"\"\"\n",
    "    x_min, x_max = bounds[indices[0]]\n",
    "    y_min, y_max = bounds[indices[1]]\n",
    "    xx, yy = np.meshgrid(np.linspace(x_min, x_max, 50),\n",
    "                             np.linspace(y_min, y_max, 50))\n",
    "\n",
    "    kernel = 100*RBF(rbf_scales)\n",
    "    clf = GaussianProcessClassifier(kernel=kernel)\n",
    "    clf.fit(cx_train, cy_train)\n",
    "\n",
    "    score = clf.score(cx_train, cy_train)\n",
    "    dec = np.zeros((len(xx.ravel()), 13))\n",
    "    for idx in range(0, 13):\n",
    "        dec[:, idx] = x_center[idx]\n",
    "    dec[:, indices[0]] = xx.ravel()\n",
    "    dec[:, indices[1]] = yy.ravel()\n",
    "    if hasattr(clf, \"decision_function\"):\n",
    "            Z = clf.decision_function(dec)\n",
    "    else:\n",
    "            Z = clf.predict_proba(dec)[:, 1]\n",
    "    Z = Z.reshape(xx.shape)\n",
    "    return xx, yy, Z\n",
    "\n",
    "## PLOTTING CODE\n",
    "\n",
    "def plot_sample_plane(ax, names, xx, yy, zz, x_train=None, y_train=None):\n",
    "    \"\"\"given the output of gpr_scalar_field, create a contour plot\"\"\"\n",
    "    cm = plt.cm.RdBu\n",
    "    ax.contourf(xx, yy, zz, cmap=cm, alpha=.8)\n",
    "    ax.set_xlabel(f\"{names[0]}\")\n",
    "    ax.set_ylabel(f\"{names[1]}\")\n",
    "    \n",
    "def gpr_plot_field(planes, names, bounds, x_all, y_all, x_center):\n",
    "    \"\"\"given an array of planes defined by indices, create a multi-axis plot of them\"\"\"\n",
    "    n_plots = len(planes)\n",
    "    n_rows = int(np.floor(n_plots**0.5))\n",
    "    n_cols =int(np.ceil(n_plots / n_rows))\n",
    "    fig, ax = plt.subplots(figsize=(n_cols * 5, n_rows * 5), ncols=n_cols, nrows=n_rows)\n",
    "    for idx, pl in enumerate(planes):\n",
    "        ridx = idx % n_cols\n",
    "        cidx = idx // n_cols\n",
    "        plot_sample_plane(ax[ridx][cidx], (names[pl[0]], names[pl[1]]),  \n",
    "                          *gpr_scalar_field(x_all, y_all, x_center, bounds, indices=pl))\n",
    "    plt.tight_layout()    \n",
    "    return fig, ax"
   ]
  },
  {
   "cell_type": "markdown",
   "metadata": {},
   "source": [
    "## Create the Active Learner Oracle"
   ]
  },
  {
   "cell_type": "code",
   "execution_count": null,
   "metadata": {},
   "outputs": [],
   "source": [
    "def ground_collision_condition(cname, outs):\n",
    "        \"\"\"ground collision premature termnation condition\"\"\"\n",
    "        return cname == \"plant\" and outs[\"states\"][11] <= 0.0\n",
    "    \n",
    "\n",
    "def validate_samples(x_samp, config, tspan=(0, 20.0)):\n",
    "    \"\"\"given an array of plant initial states, \n",
    "    run batches of simulations to see if they meet the termination criteria\"\"\"\n",
    "    # assign samples to the system plant\n",
    "    init_states = [{\"plant\": xi} for xi in x_samp]\n",
    "    n = len(init_states)\n",
    "    # send jobs to the CSAF simulation workgroup\n",
    "    res = rp.run_workgroup(n, config, init_states, tspan,\n",
    "                            terminating_conditions=ground_collision_condition)\n",
    "    passed = [x for x,_, _ in res]\n",
    "    x0 = [x['plant'] for _,_,x in res]\n",
    "    return tuple([passed, x0])\n"
   ]
  },
  {
   "cell_type": "markdown",
   "metadata": {},
   "source": [
    "## Uniform Sampling"
   ]
  },
  {
   "cell_type": "code",
   "execution_count": null,
   "metadata": {},
   "outputs": [],
   "source": [
    "x_init = [gen_random_state(bounds) for _ in range(n_initial_sampling)]\n",
    "y_train, x_train = validate_samples(x_init, my_conf)\n",
    "y_train, x_train = np.array(y_train), np.array(x_train)"
   ]
  },
  {
   "cell_type": "code",
   "execution_count": null,
   "metadata": {},
   "outputs": [],
   "source": [
    "fig, ax = gpr_plot_field(((0, 11), (0, 4), (4, 11), (4, 7)), names, bounds, x_train, y_train, x_center)\n",
    "ax[0][0].set_title(f\"F-16 ({run_name}) ROA Slices (initial sampling)\")\n",
    "plt.tight_layout()\n",
    "plt.show()"
   ]
  },
  {
   "cell_type": "markdown",
   "metadata": {},
   "source": [
    "## Active Learner Sampling"
   ]
  },
  {
   "cell_type": "code",
   "execution_count": null,
   "metadata": {},
   "outputs": [],
   "source": [
    "def GP_regression_std(regressor, X):\n",
    "    \"\"\"GPR batch sampling policy (modified for parallel simulations)\"\"\"\n",
    "    _, std = regressor.predict(X, return_std=True)\n",
    "    query_idxs = std.argsort()[-16:][::-1]\n",
    "    return query_idxs, X[query_idxs]\n",
    "\n",
    "# kernel to use for active GP classification\n",
    "kernel = RBF(rbf_scales)\n",
    "\n",
    "# active learner\n",
    "learner = ActiveLearner(\n",
    "    estimator=GaussianProcessRegressor(kernel=kernel),\n",
    "    query_strategy=GP_regression_std,\n",
    "    X_training=x_train, y_training=y_train\n",
    ")\n",
    "\n",
    "# define query pool of samples\n",
    "n_pool_samples = 1000\n",
    "x_pool = np.array([gen_random_state(bounds) for _ in range(n_pool_samples)])"
   ]
  },
  {
   "cell_type": "code",
   "execution_count": null,
   "metadata": {},
   "outputs": [],
   "source": [
    "xs_new = np.copy(x_train)\n",
    "ys_new = np.copy(y_train)\n",
    "\n",
    "for i in tqdm.tqdm(range(10)):\n",
    "    # query for labels\n",
    "    query_idxs, x_samp = learner.query(x_pool)\n",
    "    x_pool = np.delete(x_pool, tuple(query_idxs), 0)\n",
    "        \n",
    "    # process them in the oracle\n",
    "    y_train_i, x_train_i = validate_samples(x_samp, my_conf)\n",
    "    y_train_i, x_train_i = np.array(y_train_i), np.array(x_train_i)\n",
    "    xs_new = np.vstack((xs_new, x_train_i))\n",
    "    ys_new = np.hstack((ys_new, y_train_i))\n",
    "    \n",
    "    # teach the active learner\n",
    "    for xi, yi in zip(x_train_i, y_train_i):\n",
    "        learner.teach(xi[np.newaxis, :], [yi])"
   ]
  },
  {
   "cell_type": "code",
   "execution_count": null,
   "metadata": {},
   "outputs": [],
   "source": [
    "fig, ax = gpr_plot_field([(0, 11), (0, 4), (4, 11), (4, 7)], names, bounds, xs_new[:240], ys_new[:240], x_center)\n",
    "ax[0][0].set_title(f\"F-16 ({run_name}) ROA Slices\")\n",
    "plt.tight_layout()\n",
    "plt.show()"
   ]
  }
 ],
 "metadata": {
  "kernelspec": {
   "display_name": "Python 3",
   "language": "python",
   "name": "python3"
  },
  "language_info": {
   "codemirror_mode": {
    "name": "ipython",
    "version": 3
   },
   "file_extension": ".py",
   "mimetype": "text/x-python",
   "name": "python",
   "nbconvert_exporter": "python",
   "pygments_lexer": "ipython3",
   "version": "3.6.9"
  }
 },
 "nbformat": 4,
 "nbformat_minor": 4
}
