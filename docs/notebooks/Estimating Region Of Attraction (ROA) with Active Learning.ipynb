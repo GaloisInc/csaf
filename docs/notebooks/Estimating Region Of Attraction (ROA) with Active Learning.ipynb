{
 "cells": [
  {
   "cell_type": "code",
   "execution_count": null,
   "metadata": {},
   "outputs": [],
   "source": [
    "import numpy as np\n",
    "import matplotlib.pyplot as plt\n",
    "\n",
    "from sklearn.gaussian_process import GaussianProcessClassifier\n",
    "from sklearn.gaussian_process.kernels import RBF\n",
    "\n",
    "from modAL.models import ActiveLearner\n",
    "from sklearn.gaussian_process import GaussianProcessRegressor\n",
    "from sklearn.ensemble import RandomForestClassifier\n",
    "\n",
    "\n",
    "\n",
    "import tqdm"
   ]
  },
  {
   "cell_type": "code",
   "execution_count": null,
   "metadata": {},
   "outputs": [],
   "source": [
    "import sys\n",
    "\n",
    "import csaf.config as cconf\n",
    "import csaf.system as csys\n",
    "\n",
    "# create a csaf configuration out of toml\n",
    "my_conf = cconf.SystemConfig.from_toml(\"/csaf-system/f16_shield_config.toml\")"
   ]
  },
  {
   "cell_type": "code",
   "execution_count": null,
   "metadata": {},
   "outputs": [],
   "source": [
    "from IPython.display import Image\n",
    "\n",
    "import pathlib\n",
    "\n",
    "plot_fname = f\"pub-sub-plot.png\"\n",
    "\n",
    "# plot configuration pub/sub diagram as a file -- proj specicies a dot executbale and -Gdpi is a valid dot\n",
    "# argument to change the image resolution\n",
    "my_conf.plot_config(fname=pathlib.Path(plot_fname).resolve(), prog=[\"dot\", \"-Gdpi=400\"])\n",
    "\n",
    "# display written file to notebook\n",
    "Image(plot_fname, height=600)"
   ]
  },
  {
   "cell_type": "code",
   "execution_count": null,
   "metadata": {},
   "outputs": [],
   "source": [
    "bounds = [(504, 504), \n",
    "          (np.deg2rad(2.1215), np.deg2rad(2.1215)), \n",
    "          (0.0, 0.0), \n",
    "          ((np.pi/2)*0.5, (np.pi/2)*0.5), \n",
    "          (-np.pi, np.pi), \n",
    "          (-np.pi/4, np.pi/4 ),\n",
    "         (0.0, 0.0),\n",
    "         (0.0, 0.0),\n",
    "         (0.0, 0.0),\n",
    "         (0.0, 0.0),\n",
    "         (0.0, 0.0),\n",
    "         (500, 5000),\n",
    "         (9, 9)]\n",
    "\n",
    "run_name = \"classical\"\n",
    "\n",
    "rbf_scales = (100, 1, 1, 1, 30, 1, 1, 1, 1, 1, 1, 1000, 1)\n",
    "\n",
    "n_initial_sampling = 13**2 * 2"
   ]
  },
  {
   "cell_type": "code",
   "execution_count": null,
   "metadata": {},
   "outputs": [],
   "source": [
    "x_center = np.array([b[1]/2 + b[0]/2 for b in bounds])\n",
    "names = my_conf.get_msg_setting(\"plant\", \"states\", \"msg\").fields_no_header"
   ]
  },
  {
   "cell_type": "code",
   "execution_count": null,
   "metadata": {},
   "outputs": [],
   "source": [
    "def gen_random_state(bounds):\n",
    "    sample = np.random.rand(len(bounds))\n",
    "    ranges = np.array([b[1] - b[0] for b in bounds])\n",
    "    offset = np.array([- b[0] for b in bounds])\n",
    "    return sample * ranges - offset\n",
    "\n",
    "def gpr_scalar_field(cx_train, cy_train, x_center, bounds, indices, rbf_scales = rbf_scales):\n",
    "    x_min, x_max = bounds[indices[0]]\n",
    "    y_min, y_max = bounds[indices[1]]\n",
    "    print(x_min, x_max, y_min, y_max)\n",
    "    xx, yy = np.meshgrid(np.linspace(x_min, x_max, 50),\n",
    "                             np.linspace(y_min, y_max, 50))\n",
    "\n",
    "    kernel = 100*RBF(rbf_scales)\n",
    "    clf = GaussianProcessClassifier(kernel=kernel)\n",
    "    clf.fit(cx_train, cy_train)\n",
    "\n",
    "    score = clf.score(cx_train, cy_train)\n",
    "    dec = np.zeros((len(xx.ravel()), 13))\n",
    "    for idx in range(0, 13):\n",
    "        dec[:, idx] = x_center[idx]\n",
    "    dec[:, indices[0]] = xx.ravel()\n",
    "    dec[:, indices[1]] = yy.ravel()\n",
    "    if hasattr(clf, \"decision_function\"):\n",
    "            Z = clf.decision_function(dec)\n",
    "    else:\n",
    "            Z = clf.predict_proba(dec)[:, 1]\n",
    "    Z = Z.reshape(xx.shape)\n",
    "    return xx, yy, Z\n",
    "\n",
    "def plot_sample_plane(ax, names, xx, yy, zz, x_train=None, y_train=None):\n",
    "    cm = plt.cm.RdBu\n",
    "    ax.contourf(xx, yy, zz, cmap=cm, alpha=.8)\n",
    "    #if x_train is not None and y_train is not None:\n",
    "    #    ax.scatter(np.rad2deg(x_train[y_train==True, affected_axes[0]]), x_train[y_train==True, affected_axes[1]], marker='o', c='k', s=12)\n",
    "    #    ax.scatter(np.rad2deg(x_train[y_train==False, affected_axes[0]]), x_train[y_train==False, affected_axes[1]], marker='x', c='k', s=30)\n",
    "    ax.set_xlabel(f\"{names[0]}\")\n",
    "    ax.set_ylabel(f\"{names[1]}\")\n",
    "    #ax.scatter(np.rad2deg(xsa_new[ysa_new==True, affected_axes[0]]), xsa_new[ysa_new==True, affected_axes[1]], marker='o', c='k', s=12)\n",
    "    #ax.scatter(np.rad2deg(xsa_new[ysa_new==False, affected_axes[0]]), xsa_new[ysa_new==False, affected_axes[1]], marker='x', c='k', s=30)\n",
    "    #ax.set_title('F16 Successful Recovery')\n",
    "    \n",
    "def gpr_plot_field(planes, names, bounds, x_all, y_all, x_center):\n",
    "    n_plots = len(planes)\n",
    "    n_rows = int(np.floor(n_plots**0.5))\n",
    "    n_cols =int(np.ceil(n_plots / n_rows))\n",
    "    fig, ax = plt.subplots(figsize=(n_cols * 5, n_rows * 5), ncols=n_cols, nrows=n_rows)\n",
    "    for idx, pl in enumerate(planes):\n",
    "        ridx = idx % n_cols\n",
    "        cidx = idx // n_cols\n",
    "        plot_sample_plane(ax[ridx][cidx], (names[pl[0]], names[pl[1]]),  \n",
    "                          *gpr_scalar_field(x_all, y_all, x_center, bounds, indices=pl))\n",
    "    plt.tight_layout()    \n",
    "    return fig, ax"
   ]
  },
  {
   "cell_type": "code",
   "execution_count": null,
   "metadata": {},
   "outputs": [],
   "source": [
    "import run_parallel as rp\n",
    "\n",
    "\n",
    "def term_condition(cname, outs):\n",
    "        \"\"\"ground collision\"\"\"\n",
    "        return cname == \"plant\" and outs[\"states\"][11] <= 0.0\n",
    "    \n",
    "\n",
    "def validate_samples(x_samp, config, tspan=(0, 20.0)):\n",
    "    init_states = [{\"plant\": xi} for xi in x_samp]\n",
    "    n = len(init_states)\n",
    "    ret = rp.run_workgroup(n, config, init_states, tspan, fname=\"validate_tspan\", terminating_conditions=term_condition)\n",
    "    return tuple(zip(*(x for x in zip(ret, x_samp) if not isinstance(x[0], Exception))))\n",
    "    \n",
    "x_init = [gen_random_state(bounds) for _ in range(n_initial_sampling)]"
   ]
  },
  {
   "cell_type": "markdown",
   "metadata": {},
   "source": [
    "## Uniform Sampling"
   ]
  },
  {
   "cell_type": "code",
   "execution_count": null,
   "metadata": {},
   "outputs": [],
   "source": [
    "y_train, x_train = validate_samples(x_init[:100], my_conf)\n",
    "y_train, x_train = np.array(y_train), np.array(x_train)"
   ]
  },
  {
   "cell_type": "code",
   "execution_count": null,
   "metadata": {},
   "outputs": [],
   "source": [
    "fig, ax = gpr_plot_field([(4, 11), (4, 11), (4, 11), (4, 11)], names, bounds, x_train, y_train, x_center)\n",
    "ax[0][0].set_title(f\"F-16 ({run_name}) ROA Slices (initial sampling)\")\n",
    "ax[0][0].scatter((x_train)[(y_train)==False, 4], (x_train)[(y_train)==False, 11], marker='x', c='k')\n",
    "#plt.savefig(f\"f16_roa_slices_a_priori_{run_name}.pdf\")\n",
    "plt.tight_layout()\n",
    "plt.show()"
   ]
  },
  {
   "cell_type": "markdown",
   "metadata": {},
   "source": [
    "## Active Learning Classification"
   ]
  },
  {
   "cell_type": "code",
   "execution_count": null,
   "metadata": {},
   "outputs": [],
   "source": [
    "from modAL.uncertainty import entropy_sampling"
   ]
  },
  {
   "cell_type": "code",
   "execution_count": null,
   "metadata": {},
   "outputs": [],
   "source": [
    "def GP_regression_std(regressor, X):\n",
    "    \"\"\"sampling policy\"\"\"\n",
    "    _, std = regressor.predict(X, return_std=True)\n",
    "    query_idx = np.argmax(std)\n",
    "    return query_idx, X[query_idx]\n",
    "\n",
    "# kernel to use for active GP classification\n",
    "kernel = RBF(rbf_scales)\n",
    "\n",
    "# active learner\n",
    "regressor = ActiveLearner(\n",
    "    estimator=GaussianProcessRegressor(kernel=kernel),\n",
    "    query_strategy=GP_regression_std,\n",
    "    X_training=x_train, y_training=y_train\n",
    ")\n",
    "\n",
    "# define query pool of samples\n",
    "n_pool_samples = 10000\n",
    "x_pool = np.array([gen_random_state(bounds) for _ in range(n_pool_samples)])\n",
    "print(x_train.shape, y_train.shape, x_pool.shape)"
   ]
  },
  {
   "cell_type": "code",
   "execution_count": null,
   "metadata": {},
   "outputs": [],
   "source": [
    "xs_new = np.copy(x_train)\n",
    "ys_new = np.copy(y_train)\n",
    "\n",
    "for i in tqdm.tqdm(range(5)):\n",
    "    # query for labels\n",
    "    x_samp = []\n",
    "    for i in range(16):\n",
    "        query_idx, query_inst = learner.query(x_pool)\n",
    "        x_samp.append(x_pool[query_idx[0]])\n",
    "        x_pool = np.delete(x_pool, query_idx, axis=1)\n",
    "        \n",
    "    # process them in the oracle\n",
    "    y_train_i, x_train_i = validate_samples(x_samp, my_conf)\n",
    "    y_train_i, x_train_i = np.array(y_train_i), np.array(x_train_i)\n",
    "    xs_new = np.vstack((xs_new, x_train_i))\n",
    "    ys_new = np.hstack((ys_new, y_train_i))\n",
    "    \n",
    "    # teach the active learner\n",
    "    for xi, yi in zip(x_train_i, y_train_i):\n",
    "        learner.teach(xi[np.newaxis, :], [yi])"
   ]
  },
  {
   "cell_type": "code",
   "execution_count": null,
   "metadata": {},
   "outputs": [],
   "source": [
    "print(xs_new.shape)\n",
    "print(ys_new.shape)"
   ]
  },
  {
   "cell_type": "code",
   "execution_count": null,
   "metadata": {},
   "outputs": [],
   "source": [
    "fig, ax = gpr_plot_field([(4, 11), (4, 11), (4, 11), (4, 11)], names, bounds, xs_new[:], ys_new[:], x_center)\n",
    "ax[0][0].set_title(f\"F-16 ({run_name}) ROA Slices\")\n",
    "ax[0][0].scatter((xs_new)[(ys_new)==False, 4], (xs_new)[(ys_new)==False, 11], marker='x', c='k')\n",
    "#plt.savefig(f\"f16_roa_slices_{run_name}.pdf\")\n",
    "plt.tight_layout()\n",
    "plt.show()"
   ]
  },
  {
   "cell_type": "code",
   "execution_count": null,
   "metadata": {},
   "outputs": [],
   "source": []
  }
 ],
 "metadata": {
  "kernelspec": {
   "display_name": "Python 3",
   "language": "python",
   "name": "python3"
  },
  "language_info": {
   "codemirror_mode": {
    "name": "ipython",
    "version": 3
   },
   "file_extension": ".py",
   "mimetype": "text/x-python",
   "name": "python",
   "nbconvert_exporter": "python",
   "pygments_lexer": "ipython3",
   "version": "3.6.9"
  }
 },
 "nbformat": 4,
 "nbformat_minor": 4
}
