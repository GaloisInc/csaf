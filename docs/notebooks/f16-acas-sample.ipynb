{
 "cells": [
  {
   "cell_type": "code",
   "execution_count": null,
   "id": "bcf78589",
   "metadata": {},
   "outputs": [],
   "source": [
    "# CSAF Imports\n",
    "import csaf.config as cconf\n",
    "import csaf.system as csys\n",
    "\n",
    "# F16 System Imports\n",
    "import sys\n",
    "sys.path.append('/csaf-system')\n",
    "sys.path.append('/csaf-system/components/helpers')\n",
    "import acas_sample as acas\n",
    "import variables as f16v\n",
    "\n",
    "# Common Imports\n",
    "import numpy as np\n",
    "import matplotlib.pyplot as plt\n",
    "%matplotlib inline\n",
    "%config InlineBackend.figure_format='retina'\n",
    "\n",
    "import tqdm"
   ]
  },
  {
   "cell_type": "markdown",
   "id": "e06e591d",
   "metadata": {},
   "source": [
    "# System Configuration"
   ]
  },
  {
   "cell_type": "code",
   "execution_count": null,
   "id": "fc6ee782",
   "metadata": {},
   "outputs": [],
   "source": [
    "# create a csaf configuration out of toml\n",
    "my_conf = cconf.SystemConfig.from_toml(\"/csaf-system/f16_multiagent_config.toml\")"
   ]
  },
  {
   "cell_type": "markdown",
   "id": "f3b0a9af",
   "metadata": {},
   "source": [
    "# Coordinate Specification"
   ]
  },
  {
   "cell_type": "code",
   "execution_count": null,
   "id": "dcb0967d",
   "metadata": {},
   "outputs": [],
   "source": [
    "# create a scenario \"center\", what variables not specified in the reduced state decsription ignore\n",
    "xcenter = ([500.0, 0.0, 0.0, 0.0, 0.0, 0.0, 0.0, 0.0, 0.0, 0.0, 0.0, 6000.0, 9.0],)*2\n",
    "\n",
    "# specify reduced states\n",
    "reduced_vars = [f16v.State.psi, f16v.State.pn, f16v.State.pe]\n",
    "reduced_idxs = [sv.value for sv in reduced_vars]"
   ]
  },
  {
   "cell_type": "markdown",
   "id": "05ed7f4a",
   "metadata": {},
   "source": [
    "# Initial Value Creation"
   ]
  },
  {
   "cell_type": "code",
   "execution_count": null,
   "id": "b52d8bb7",
   "metadata": {},
   "outputs": [],
   "source": [
    "# set the scenario states\n",
    "x_samp = []\n",
    "xa = (0, 0, 0)\n",
    "for _ in range(32):\n",
    "    xe, xn = np.random.uniform(200, 5000), np.random.uniform(200, 5000)\n",
    "    heading = np.random.uniform(-np.pi, np.pi)\n",
    "    xb = (heading, xn, xe)\n",
    "    x_samp.append((xa, xb))"
   ]
  },
  {
   "cell_type": "markdown",
   "id": "c3a257c1",
   "metadata": {},
   "source": [
    "# ACAS Sampling"
   ]
  },
  {
   "cell_type": "code",
   "execution_count": null,
   "id": "8e982b19",
   "metadata": {},
   "outputs": [],
   "source": [
    "asr = acas.AcasSamplerReduced(my_conf, xcenter, reduced_idxs)"
   ]
  },
  {
   "cell_type": "code",
   "execution_count": null,
   "id": "57be7e62",
   "metadata": {},
   "outputs": [],
   "source": [
    "avoided = asr.predict(x_samp)"
   ]
  },
  {
   "cell_type": "code",
   "execution_count": null,
   "id": "8bf8e5ec",
   "metadata": {},
   "outputs": [],
   "source": []
  }
 ],
 "metadata": {
  "kernelspec": {
   "display_name": "Python 3",
   "language": "python",
   "name": "python3"
  },
  "language_info": {
   "codemirror_mode": {
    "name": "ipython",
    "version": 3
   },
   "file_extension": ".py",
   "mimetype": "text/x-python",
   "name": "python",
   "nbconvert_exporter": "python",
   "pygments_lexer": "ipython3",
   "version": "3.6.9"
  }
 },
 "nbformat": 4,
 "nbformat_minor": 5
}
