{
 "cells": [
  {
   "cell_type": "code",
   "execution_count": null,
   "id": "ef696186",
   "metadata": {},
   "outputs": [],
   "source": [
    "import csaf.config as cconf\n",
    "import csaf.system as csys\n",
    "\n",
    "# create a csaf configuration out of toml\n",
    "my_conf = cconf.SystemConfig.from_toml(\"/csaf-system/f16_shield_config.toml\")"
   ]
  },
  {
   "cell_type": "code",
   "execution_count": null,
   "id": "0ed24539",
   "metadata": {},
   "outputs": [],
   "source": [
    "# create pub/sub components out of the configuration\n",
    "my_system = csys.System.from_config(my_conf)\n",
    "\n",
    "simulation_timespan = [0, 35.0]\n",
    "\n",
    "# simulate and collect time traces out of the components\n",
    "trajs = my_system.simulate_tspan(simulation_timespan, show_status=True)\n",
    "\n",
    "# destroy components and unbind all used sockets\n",
    "my_system.unbind() "
   ]
  },
  {
   "cell_type": "code",
   "execution_count": null,
   "id": "32ebe46f",
   "metadata": {},
   "outputs": [],
   "source": [
    "import sys\n",
    "sys.path.append(\"/csaf-system/components\")\n",
    "\n",
    "import acas.kernel as akern\n",
    "import acas.trajectory as atraj\n",
    "import numpy as np\n",
    "import matplotlib.pyplot as plt\n",
    "%matplotlib inline\n",
    "%config InlineBackend.figure_format='retina'"
   ]
  },
  {
   "cell_type": "code",
   "execution_count": null,
   "id": "beb6c9e1",
   "metadata": {},
   "outputs": [],
   "source": [
    "x, y = np.array(trajs['plant'].states)[:, 9], np.array(trajs['plant'].states)[:, 10]\n",
    "z = np.array(trajs['plant'].states)[:, 11]\n",
    "t = trajs['plant'].times"
   ]
  },
  {
   "cell_type": "code",
   "execution_count": null,
   "id": "b3ccc2f3",
   "metadata": {},
   "outputs": [],
   "source": [
    "nsl = 800\n",
    "st = 20\n",
    "\n",
    "# intent points\n",
    "waypoints = [[20, 1100, 20.0], [35, 1400, 0.0]]\n",
    "# uncertainty around intent\n",
    "sigmas = [[400, 10], [300, 1]]\n",
    "\n",
    "# training data\n",
    "tt, xt, yt, zt = t[:nsl:st], x[:nsl:st], y[:nsl:st], z[:nsl:st]\n",
    "zd = np.diff(zt)/np.diff(tt)\n",
    "zd = np.hstack((zd[0], zd))\n",
    "\n",
    "# append intent to training data\n",
    "for ti, zi, zdi in waypoints:\n",
    "    tt = np.hstack((tt, ti))\n",
    "    zt = np.hstack((zt, zi))\n",
    "    zd = np.hstack((zd, zdi))"
   ]
  },
  {
   "cell_type": "code",
   "execution_count": null,
   "id": "1df40d74",
   "metadata": {},
   "outputs": [],
   "source": [
    "\n",
    "te = atraj.CubicSplineTrajectoryEstimator(11.0, 50.0, 50.0)"
   ]
  },
  {
   "cell_type": "code",
   "execution_count": null,
   "id": "4c3783b6",
   "metadata": {},
   "outputs": [],
   "source": [
    "sigma = np.ones(len(tt))*0.01\n",
    "sigmap = np.ones(len(tt))*0.01\n",
    "\n",
    "for idx, (sigi, sigpi) in enumerate(sigmas[::-1]):\n",
    "    sigma[-idx-1] = sigi\n",
    "    sigmap[-idx-1] = sigpi\n",
    "\n",
    "te.fit(tt, np.vstack((zt, zd)).T, sigma=sigma, sigmap=sigmap)"
   ]
  },
  {
   "cell_type": "code",
   "execution_count": null,
   "id": "c8276bf6",
   "metadata": {},
   "outputs": [],
   "source": [
    "N = 4000\n",
    "mu = [te.mu(ti) for ti in t[:N]]\n",
    "va = [te.covariance(ti, ti) for ti in t[:N]]"
   ]
  },
  {
   "cell_type": "code",
   "execution_count": null,
   "id": "505e1c93",
   "metadata": {},
   "outputs": [],
   "source": [
    "def saturate(ina):\n",
    "    return [(0.0 if inai <= 0.0 else inai) for inai in ina]\n",
    "\n",
    "plt.figure(figsize=(8, 6))\n",
    "plt.plot(t[:N], z[:N], label='Actual GCAS Trajectory')\n",
    "plt.plot(t[:N], (mu), 'k', label='Expected GCAS Trajectory')\n",
    "plt.plot(t[:N], (mu + 2*np.sqrt(va)), '--k', label='2$\\sigma$ Interval')\n",
    "plt.plot(t[:N], saturate(mu - 2*np.sqrt(va)), '--k')\n",
    "\n",
    "plt.xlabel(\"Time [s]\")\n",
    "plt.ylabel(\"Altitude [ft]\")\n",
    "plt.title(\"GCAS Maneuver Trajectories\")\n",
    "plt.legend()\n",
    "plt.grid()\n"
   ]
  },
  {
   "cell_type": "code",
   "execution_count": null,
   "id": "965684e5",
   "metadata": {},
   "outputs": [],
   "source": [
    "plt.figure(figsize=(8, 6))\n",
    "nt = t[:N:100]\n",
    "cov = akern.build_kernel_matrix(te.covariance, nt, nt)\n",
    "vn = [te.mu(ti) for ti in t[:N:100]]\n",
    "plt_vals = []\n",
    "for i in range(0, 60):\n",
    "    ys = np.random.multivariate_normal(vn, cov)\n",
    "    #if (ys > 0.0).all():\n",
    "    plt_vals.extend([nt, ys, \"k\"])\n",
    "plt.grid()\n",
    "plt.plot(*plt_vals, alpha=0.1)\n",
    "plt.plot(nt, vn, '-.r', LineWidth=2.0)\n",
    "plt.plot(nt, vn, '-.r', LineWidth=2.0, label='Posterior Mean')\n",
    "#plot_data(ax[1], ptsn, velsn, dt=0.05)\n",
    "plt.legend()\n",
    "#plt.set_ylabel('x')\n",
    "#plt.set_ylim(-1.5, 0.6)\n",
    "plt.title('Posterior GCAS Realized Trajectories')\n",
    "plt.xlabel(\"Time [s]\")\n",
    "plt.ylabel(\"Altitude [ft]\")"
   ]
  },
  {
   "cell_type": "code",
   "execution_count": null,
   "id": "286b72ab",
   "metadata": {},
   "outputs": [],
   "source": [
    "tes = [atraj.CubicSplineTrajectoryEstimator(11.0, 50.0, 50.0), \n",
    "       atraj.CubicSplineTrajectoryEstimator(11.0, 50.0, 50.0)]"
   ]
  },
  {
   "cell_type": "code",
   "execution_count": null,
   "id": "88768a23",
   "metadata": {},
   "outputs": [],
   "source": [
    "tt, xt, yt, zt = t[:nsl:st], x[:nsl:st], y[:nsl:st], z[:nsl:st]\n",
    "\n",
    "# intent points\n",
    "waypointsx = [[35,  1e+04, -400.0]]\n",
    "waypointsy = [[35, 0.43e+04, 200]]\n",
    "\n",
    "# uncertainty around intent\n",
    "sigmas = [[50, 20]]\n",
    "\n",
    "# training data\n",
    "xd = np.diff(xt)/np.diff(tt)\n",
    "yd = np.diff(yt)/np.diff(tt)\n",
    "\n",
    "xd = np.hstack((xd[0], xd))\n",
    "yd = np.hstack((yd[0], yd))\n",
    "\n",
    "# append intent to training data\n",
    "for (ti, xi, xdi), (ti, yi, ydi) in zip(waypointsx, waypointsy):\n",
    "    tt = np.hstack((tt, ti))\n",
    "    \n",
    "    xt = np.hstack((xt, xi))\n",
    "    xd = np.hstack((xd, xdi))\n",
    "    \n",
    "    yt = np.hstack((yt, yi))\n",
    "    yd = np.hstack((yd, ydi))\n"
   ]
  },
  {
   "cell_type": "code",
   "execution_count": null,
   "id": "e0f724be",
   "metadata": {},
   "outputs": [],
   "source": [
    "sigma = np.ones(len(tt))*0.01\n",
    "sigmap = np.ones(len(tt))*0.01\n",
    "\n",
    "for idx, (sigi, sigpi) in enumerate(sigmas[::-1]):\n",
    "    sigma[-idx-1] = sigi\n",
    "    sigmap[-idx-1] = sigpi\n",
    "\n",
    "tes[0].fit(tt, np.vstack((xt, xd)).T, sigma=sigma, sigmap=sigmap)\n",
    "tes[1].fit(tt, np.vstack((yt, yd)).T, sigma=sigma, sigmap=sigmap)"
   ]
  },
  {
   "cell_type": "code",
   "execution_count": null,
   "id": "b05a1d74",
   "metadata": {},
   "outputs": [],
   "source": [
    "mux = [tes[0].mu(ti) for ti in t[:N]]\n",
    "vax = [tes[0].covariance(ti, ti) for ti in t[:N]]"
   ]
  },
  {
   "cell_type": "code",
   "execution_count": null,
   "id": "890ab370",
   "metadata": {},
   "outputs": [],
   "source": [
    "muy = [tes[1].mu(ti) for ti in t[:N]]\n",
    "vay = [tes[1].covariance(ti, ti) for ti in t[:N]]"
   ]
  },
  {
   "cell_type": "code",
   "execution_count": null,
   "id": "c89fcd4a",
   "metadata": {},
   "outputs": [],
   "source": [
    "plt.figure(figsize=(8, 6))\n",
    "cm = plt.cm.get_cmap('rainbow')\n",
    "\n",
    "\n",
    "muxr, muyr = mux[::1], muy[::1]\n",
    "vaxr, vayr = vax[::1], vay[::1]\n",
    "colors = np.linspace(0, 35, len(muxr))\n",
    "sc = plt.scatter(muxr, muyr, s = np.array(np.sqrt(vaxr+vayr))*2, vmin=0, vmax=35, c=colors, cmap=cm, zorder=200)\n",
    "#clb=plt.colorbar()\n",
    "#sc.colorbar.set_label('Time [s]', rotation=270)\n",
    "\n",
    "plt.axis(\"equal\")\n",
    "#plt.xlim(0, 12.e3)\n",
    "#plt.ylim(-6e3, 6.e3)\n",
    "#plt.ylim(-7e3, 7e3)\n",
    "plt.grid()\n",
    "plt.title(\"Waypoint Trajectory Distribution\")\n",
    "plt.xlabel(\"x [ft]\")\n",
    "plt.ylabel(\"y [ft]\")\n",
    "plt.colorbar(sc)\n",
    "sc.colorbar.set_label('Time [s]', rotation=270)\n",
    "plt.tight_layout()\n",
    "plt.scatter([1e+04], [0.42972133e+04], c='k', marker='x', s=100, zorder=1000, label=\"Waypoint\")\n",
    "plt.scatter(xt[:-1], yt[:-1], c='k', s=20, zorder=1000, label=\"Current Path\")\n",
    "plt.legend()"
   ]
  },
  {
   "cell_type": "code",
   "execution_count": null,
   "id": "60b2d622",
   "metadata": {},
   "outputs": [],
   "source": [
    "plt.plot(mux)\n",
    "plt.plot(mux+np.sqrt(vax))\n",
    "plt.plot(mux-np.sqrt(vax))"
   ]
  },
  {
   "cell_type": "code",
   "execution_count": null,
   "id": "321dc9d1",
   "metadata": {},
   "outputs": [],
   "source": []
  }
 ],
 "metadata": {
  "kernelspec": {
   "display_name": "Python 3",
   "language": "python",
   "name": "python3"
  },
  "language_info": {
   "codemirror_mode": {
    "name": "ipython",
    "version": 3
   },
   "file_extension": ".py",
   "mimetype": "text/x-python",
   "name": "python",
   "nbconvert_exporter": "python",
   "pygments_lexer": "ipython3",
   "version": "3.7.6"
  }
 },
 "nbformat": 4,
 "nbformat_minor": 5
}
