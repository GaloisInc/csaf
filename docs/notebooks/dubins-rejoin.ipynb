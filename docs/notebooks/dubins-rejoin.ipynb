{
 "cells": [
  {
   "cell_type": "markdown",
   "metadata": {},
   "source": [
    "# Dubins 2D Aircraft Rejoin Example\n",
    "\n",
    "This Jupyter notebook demonstrates a multi-agent task scenario with control system analysis framework (CSAF), where a group of Dubins aircraft attempt to rejoin in formation and collectively fly at a specific heading angle. Dubins aircraft presents a dynamically simple 2D aircraft model, taken from the [AerospaceRL repository on GitHub](https://github.com/act3-ace/aerospaceRL). The state space is 3D, being two position coordinates $(x,y)$\n",
    "and a heading angle $\\theta$. The control action simply is to apply a heading angular rate $\\dot \\theta$ while maintaining constant velocity\n",
    "(no throttle). The update equation is\n",
    "\n",
    " \\begin{equation}\n",
    "  \\dot{\\mathbf x} = \\begin{bmatrix}\n",
    "v \\cos (x_2) \\\\\n",
    "v \\sin (x_2) \\\\\n",
    "u \\\\\n",
    "\\end{bmatrix},\n",
    "\\end{equation}\n",
    "\n",
    "where $\\mathbf{x} = (x, y, \\theta)$, and $v$ is some fixed airspeed parameter.\n",
    "\n",
    "\n",
    "## Controller Design\n",
    "\n",
    "A lateral rejoin task is specified: given **n** planes at different orientations, produce **n** maneuver sequences that allow them to be no further\n",
    "than some terminal length apart $r_l$ and at some terminal heading angle $\\theta_t$. Given that the only control surface that can be affected is angular\n",
    "rate, the following control scheme is formulated,\n",
    "\n",
    "1.  Associate each plane with neighbors that should be considered in collision avoidance; construct a graph $\\mathcal G = (\\mathcal P, \\mathcal C)$ with vertices of planes $\\mathcal P$ and edges of neighbors $\\mathcal C$. In this case, a simple $k$-neighbors was done,\n",
    "    with $k=1$; solve only for the nearest neighbor. This method can be extended to different graph constructions, by\n",
    "    appropriately weighting the graph edges inversely to the distances between nodes via a weighted adjacency matrix.\n",
    "2.  Solve for the angle that will cause a plane $s_i$ and its nearest neighbor $s_j$ to approach one another the fastest,\n",
    "     \\begin{equation}\n",
    "     \\theta_{i}(s_i, s_j) = \\operatorname{atan2}(x_{j1} -x_{i1}, x_{j0} - x_{i0}).\n",
    "     \\end{equation}\n",
    "3.  Linearly combine the angle $\\theta_i$ and the terminal heading angle $\\theta_t$.\n",
    "    Apply some weight that is a function of the distance between the aircraft $r$, $w: \\overline{\\mathbb R^-}  \\rightarrow [0, 1]$,\n",
    "    \\begin{equation}\n",
    "    \\theta_c(s_i) = w(r(s_i, s_j)) \\theta_t + (1-w(r(s_i, s_j))) \\theta_j.\n",
    "    \\end{equation}\n",
    "    In this example,\n",
    "    \\begin{equation}\n",
    "    w(r) = \\exp\\left( -\\frac{(r-r_l)^2}{\\tau} \\right),\n",
    "    \\end{equation}\n",
    "    where $r_l$ is the desired final distance between aircraft, and $\\tau$ is a hyperparameter characterizing how soon to apply the collision avoidance correction.\n",
    "4.  This solves for the desired heading angle of the aircraft. As the heading angular rate is the input, control the position quantity via a proportional controller,\n",
    "    \\begin{equation}\n",
    "    u = k_p (\\theta_c - \\theta).\n",
    "    \\end{equation}\n",
    "    \n",
    "    <div>\n",
    "<img src=\"img/dubins_rejoin_diag.png\" width=\"500\"/>\n",
    "</div>\n"
   ]
  },
  {
   "cell_type": "code",
   "execution_count": null,
   "metadata": {},
   "outputs": [],
   "source": [
    "import numpy as np\n",
    "import matplotlib.pyplot as plt"
   ]
  },
  {
   "cell_type": "markdown",
   "metadata": {},
   "source": [
    "## Configuration\n",
    "\n",
    "To model the multi-agent scenario with CSAF, each aircraft agent is modeled as a single component. Each agent is parameterized with the following component configuration:"
   ]
  },
  {
   "cell_type": "code",
   "execution_count": null,
   "metadata": {},
   "outputs": [],
   "source": [
    "!cat /csaf-system/components/dubinplant.toml"
   ]
  },
  {
   "cell_type": "markdown",
   "metadata": {},
   "source": [
    "Each agent is assigned an identity index `idx` in addition to the parameters mentioned in the linear model; the controller uses this index to assign each agent its angular rate. This index value, as well as the initial state, is changed inside the configuration object before system creation. "
   ]
  },
  {
   "cell_type": "code",
   "execution_count": null,
   "metadata": {},
   "outputs": [],
   "source": [
    "import csaf.config as cconf\n",
    "import csaf.system as csys\n",
    "\n",
    "# create a csaf configuration out of toml\n",
    "my_conf = cconf.SystemConfig.from_toml(\"/csaf-system/rejoin_config.toml\")"
   ]
  },
  {
   "cell_type": "code",
   "execution_count": null,
   "metadata": {},
   "outputs": [],
   "source": [
    "def set_dub_idx(conf, identifier, number):\n",
    "    conf.config_dict['components'][identifier+str(number)]\\\n",
    "    ['config']['parameters']['idx'] = number\n",
    "    \n",
    "def set_dub_state(conf, identifier, number, state):\n",
    "    my_conf.config_dict['components'][identifier+str(number)]\\\n",
    "    ['config']['topics']['states']['initial'] = state"
   ]
  },
  {
   "cell_type": "code",
   "execution_count": null,
   "metadata": {},
   "outputs": [],
   "source": [
    "states = [[0, 0, np.deg2rad(45)],\n",
    "              [-5, -10, np.deg2rad(-30)],\n",
    "            [-3, -15, np.deg2rad(90)],\n",
    "            [0, -20, np.deg2rad(0)]]\n",
    "\n",
    "for idx, state in enumerate(states):\n",
    "    set_dub_idx(my_conf, 'jet', idx)\n",
    "    set_dub_state(my_conf, 'jet', idx, state)"
   ]
  },
  {
   "cell_type": "code",
   "execution_count": null,
   "metadata": {},
   "outputs": [],
   "source": [
    "from IPython.display import Image\n",
    "\n",
    "import pathlib\n",
    "\n",
    "plot_fname = f\"pub-sub-plot.png\"\n",
    "\n",
    "# plot configuration pub/sub diagram as a file -- proj specicies a dot executbale and -Gdpi is a valid dot\n",
    "# argument to change the image resolution\n",
    "my_conf.plot_config(fname=pathlib.Path(plot_fname).resolve(), prog=[\"dot\", \"-Gdpi=400\"])\n",
    "\n",
    "# display written file to notebook\n",
    "Image(plot_fname, height=600)"
   ]
  },
  {
   "cell_type": "markdown",
   "metadata": {},
   "source": [
    "## Simulation\n",
    "\n",
    "After configuration, the CSAF system is simulated via the method `System.simulate_tspan`. The returned traces `trajs` capture the trajectories of each agent as the controller applies the angular rate."
   ]
  },
  {
   "cell_type": "code",
   "execution_count": null,
   "metadata": {},
   "outputs": [],
   "source": [
    "# create pub/sub components out of the configuration\n",
    "my_system = csys.System.from_config(my_conf)\n",
    "\n",
    "simulation_timespan = [0, 25.0]\n",
    "\n",
    "# simulate and collect time traces out of the components\n",
    "trajs = my_system.simulate_tspan(simulation_timespan, show_status=True)\n",
    "\n",
    "# destroy components and unbind all used sockets\n",
    "my_system.unbind() "
   ]
  },
  {
   "cell_type": "code",
   "execution_count": null,
   "metadata": {},
   "outputs": [],
   "source": [
    "states = [np.array(trajs[f\"jet{idx}\"].states) for idx in range(4)]"
   ]
  },
  {
   "cell_type": "code",
   "execution_count": null,
   "metadata": {},
   "outputs": [],
   "source": [
    "# show aircraft trajectories\n",
    "cs = ['g', 'r', 'b', 'k']\n",
    "fig, ax = plt.subplots(figsize=(15, 7))\n",
    "for idx in range(4):\n",
    "    plt.plot(*states[idx][:, :2].T*10, c=cs[idx])\n",
    "plt.title(\"Aircraft Trajectories\")\n",
    "plt.xlabel(\"X (m)\")\n",
    "plt.ylabel(\"Y (m)\")\n",
    "plt.show()"
   ]
  },
  {
   "cell_type": "markdown",
   "metadata": {},
   "source": [
    "## Animation\n",
    "\n",
    "When running the Jupyter notebook, animation is available to view the trajectories as a movie. Uncomment the following code and run."
   ]
  },
  {
   "cell_type": "code",
   "execution_count": null,
   "metadata": {},
   "outputs": [],
   "source": [
    "#%matplotlib notebook\n",
    "#import sys\n",
    "#sys.path.append('/csaf-system')\n",
    "#from rejoin_plot import plot_air\n",
    "\n",
    "#ani = plot_air(states)\n",
    "#from IPython.display import HTML\n",
    "#HTML(ani.to_jshtml())"
   ]
  },
  {
   "cell_type": "code",
   "execution_count": null,
   "metadata": {},
   "outputs": [],
   "source": []
  }
 ],
 "metadata": {
  "kernelspec": {
   "display_name": "Python 3",
   "language": "python",
   "name": "python3"
  },
  "language_info": {
   "codemirror_mode": {
    "name": "ipython",
    "version": 3
   },
   "file_extension": ".py",
   "mimetype": "text/x-python",
   "name": "python",
   "nbconvert_exporter": "python",
   "pygments_lexer": "ipython3",
   "version": "3.6.9"
  }
 },
 "nbformat": 4,
 "nbformat_minor": 4
}
