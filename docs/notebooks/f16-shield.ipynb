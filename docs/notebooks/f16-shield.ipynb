{
 "cells": [
  {
   "cell_type": "markdown",
   "metadata": {},
   "source": [
    "# CSAF F16 Example\n",
    "\n",
    "This notebook illustrates how to run CSAF on a model of the F16. Each system in CSAF is comprised of a set of components that communicate with each other by sending messages defined in the ROS format (http://wiki.ros.org/Messages)."
   ]
  },
  {
   "cell_type": "markdown",
   "metadata": {},
   "source": [
    "### Creating messages\n",
    "\n",
    "Before we can create components, we need to define the message formats that a component uses to communicate over. In this example, we'll look at the messages used by the F16 low-level controller (LLC). It receives state from the F16 plant and outputs a set of control signals. The cell below loads the state output message from the F16 plant. The `version_major`, `version_minor`, `topic` and `time` fields are required for all CSAF messages. The remainder of the values are state variables in the aircraft model. For example, `vt` is the air speed, `theta` is the pitch and `psi` is the yaw."
   ]
  },
  {
   "cell_type": "code",
   "execution_count": 2,
   "metadata": {},
   "outputs": [
    {
     "name": "stdout",
     "output_type": "stream",
     "text": [
      "uint32 version_major\r\n",
      "uint32 version_minor\r\n",
      "\r\n",
      "string topic\r\n",
      "\r\n",
      "float64 time\r\n",
      "\r\n",
      "float64 vt\r\n",
      "float64 alpha\r\n",
      "float64 beta\r\n",
      "float64 phi\r\n",
      "float64 theta\r\n",
      "float64 psi\r\n",
      "float64 p\r\n",
      "float64 q\r\n",
      "float64 r\r\n",
      "float64 pn\r\n",
      "float64 pe\r\n",
      "float64 h\r\n",
      "float64 pow"
     ]
    }
   ],
   "source": [
    "!cat /csaf-system/components/msg/f16plant_state.msg"
   ]
  },
  {
   "cell_type": "markdown",
   "metadata": {},
   "source": [
    "Now let's look at the message used to capture control signals from the low-level controller. In addition to the standard fields, the message defines `delta_e` for the elevator, `delta_a` for the ailerons, `delta_r` for the rudder and `throttle`. \n"
   ]
  },
  {
   "cell_type": "code",
   "execution_count": 3,
   "metadata": {},
   "outputs": [
    {
     "name": "stdout",
     "output_type": "stream",
     "text": [
      "uint32 version_major\r\n",
      "uint32 version_minor\r\n",
      "\r\n",
      "string topic\r\n",
      "\r\n",
      "float64 time\r\n",
      "\r\n",
      "float64 delta_e\r\n",
      "float64 delta_a\r\n",
      "float64 delta_r\r\n",
      "float64 throttle\r\n"
     ]
    }
   ],
   "source": [
    "!cat /csaf-system/components/msg/f16llc_output.msg"
   ]
  },
  {
   "cell_type": "markdown",
   "metadata": {},
   "source": [
    "### Creating components\n",
    "\n",
    "A component in CSAF is defined by a TOML configuration file and a model file. The configuration file defines the messages a component consumes, the messages it produces and the parameters of the model. Below is the configuration file for the F16 low-level controller."
   ]
  },
  {
   "cell_type": "code",
   "execution_count": 4,
   "metadata": {},
   "outputs": [
    {
     "name": "stdout",
     "output_type": "stream",
     "text": [
      "system_name = \"F16 Low Level Controller\"\r\n",
      "system_representation = \"black box\"\r\n",
      "system_solver = \"Euler\"\r\n",
      "\r\n",
      "sampling_frequency = 100\r\n",
      "\r\n",
      "is_discrete = false\r\n",
      "is_hybrid = false\r\n",
      "\r\n",
      "[parameters]\r\n",
      "  lqr_name = \"lqr_original\"\r\n",
      "  throttle_max = 1\r\n",
      "  throttle_min = 0\r\n",
      "  elevator_max = 25\r\n",
      "  elevator_min = -25\r\n",
      "  aileron_max = 21.5\r\n",
      "  aileron_min = -21.5\r\n",
      "  rudder_max = 30.0\r\n",
      "  rudder_min = -30.0\r\n",
      "\r\n",
      "[inputs]\r\n",
      "  msgs = [ \"f16plant_state.msg\", \"f16plant_output.msg\", \"autopilot_output.msg\" ]\r\n",
      "\r\n",
      "[topics]\r\n",
      "\r\n",
      "  [topics.outputs]\r\n",
      "    msg = \"f16llc_output.msg\"\r\n",
      "\r\n",
      "  [topics.states]\r\n",
      "    msg = \"f16llc_state.msg\"\r\n",
      "    initial = [ 0.0, 0.0, 0.0 ]\r\n"
     ]
    }
   ],
   "source": [
    "!cat /csaf-system/components/f16llc.toml"
   ]
  },
  {
   "cell_type": "markdown",
   "metadata": {},
   "source": [
    "Next we need to define the actual implementation of the low-level controller component. CSAF provides a very concise mechanism for doing so. All of the logic needed to generate, serialize and transport ROS messages is handled by the framework itself. This allows component implementations to focus on the core control logic by defining one of more of the following methods `model_output`, `model_state_update`, `model_info` and `model_update`. The full implementation for LLC is below. "
   ]
  },
  {
   "cell_type": "code",
   "execution_count": 5,
   "metadata": {},
   "outputs": [
    {
     "name": "stdout",
     "output_type": "stream",
     "text": [
      "import numpy as np\r\n",
      "from helpers import lqr\r\n",
      "\r\n",
      "\r\n",
      "def model_output(model, time_t, state_controller, input_all):\r\n",
      "    \"\"\" get the reference commands for the control surfaces \"\"\"\r\n",
      "    compute_fcn, *trim_points = getattr(lqr, model.lqr_name)()\r\n",
      "\r\n",
      "    assert len(input_all) == 21\r\n",
      "    #TODO: hard coded indices!\r\n",
      "    x_f16, _y, u_ref = input_all[:13], input_all[13:17], input_all[17:]\r\n",
      "    x_ctrl = get_x_ctrl(trim_points, np.concatenate([x_f16, state_controller]))\r\n",
      "\r\n",
      "    # Initialize control vectors\r\n",
      "    u_deg = np.zeros((4,))  # throt, ele, ail, rud\r\n",
      "    u_deg[1:4] = compute_fcn(x_ctrl)\r\n",
      "\r\n",
      "    # Set throttle as directed from output of getOuterLoopCtrl(...)\r\n",
      "    u_deg[0] = u_ref[3]\r\n",
      "\r\n",
      "    # Add in equilibrium control\r\n",
      "    u_deg[0:4] += trim_points[1]\r\n",
      "    u_deg = clip_u(model, u_deg)\r\n",
      "\r\n",
      "    return u_deg\r\n",
      "\r\n",
      "\r\n",
      "def model_state_update(model, time_t, state_controller, input_all):\r\n",
      "    \"\"\" get the derivatives of the integrators in the low-level controller \"\"\"\r\n",
      "    _compute_fcn, *trim_points = getattr(lqr, model.lqr_name)()\r\n",
      "    x_f16, y, u_ref = input_all[:13], input_all[13:17], input_all[17:]\r\n",
      "    Nz, Ny, _az, _ay = y\r\n",
      "    x_ctrl = get_x_ctrl(trim_points, np.concatenate([x_f16, state_controller]))\r\n",
      "\r\n",
      "    # Nonlinear (Actual): ps = p * cos(alpha) + r * sin(alpha)\r\n",
      "    ps = x_ctrl[4] * np.cos(x_ctrl[0]) + x_ctrl[5] * np.sin(x_ctrl[0])\r\n",
      "\r\n",
      "    # Calculate (side force + yaw rate) term\r\n",
      "    Ny_r = Ny + x_ctrl[5]\r\n",
      "\r\n",
      "    return [Nz - u_ref[0], ps - u_ref[1], Ny_r - u_ref[2]]\r\n",
      "\r\n",
      "\r\n",
      "def get_x_ctrl(trim_points, state_f16):\r\n",
      "    \"\"\" transform f16_state to control input (slice array and apply setpoint)\r\n",
      "    :param state_f16: f16 plant state + controller state\r\n",
      "    :param parameters: parameters containing equilibrium state (xequil)\r\n",
      "    :return: x_ctrl vector\r\n",
      "    \"\"\"\r\n",
      "    xequil, _ = trim_points\r\n",
      "\r\n",
      "    # Calculate perturbation from trim state\r\n",
      "    x_delta = state_f16.copy()\r\n",
      "    x_delta[:len(xequil)] -= xequil\r\n",
      "\r\n",
      "    ## Implement Feedback Control\r\n",
      "    # Reorder states to match controller:\r\n",
      "    # [alpha, q, int_e_Nz, beta, p, r, int_e_ps, int_e_Ny_r]\r\n",
      "    return np.array([x_delta[i] for i in [1, 7, 13, 2, 6, 8, 14, 15]])\r\n",
      "\r\n",
      "\r\n",
      "def clip_u(model, u_deg):\r\n",
      "    \"\"\" helper to clip controller output within defined control limits\r\n",
      "    :param u_deg: controller output\r\n",
      "    :param parameters: containing equilibrium state (uequil) and control limits (\r\n",
      "    :return: saturated control output\r\n",
      "    \"\"\"\r\n",
      "    parameters = model.parameters\r\n",
      "    ThrottleMin, ThrottleMax = parameters[\"throttle_min\"], parameters[\"throttle_max\"]\r\n",
      "    ElevatorMinDeg, ElevatorMaxDeg = parameters[\"elevator_min\"], parameters[\"elevator_max\"]\r\n",
      "    AileronMinDeg, AileronMaxDeg = parameters[\"aileron_min\"], parameters[\"aileron_max\"]\r\n",
      "    RudderMinDeg, RudderMaxDeg = parameters[\"rudder_min\"], parameters[\"rudder_max\"]\r\n",
      "\r\n",
      "    # Limit throttle from 0 to 1\r\n",
      "    u_deg[0] = max(min(u_deg[0], ThrottleMax), ThrottleMin)\r\n",
      "\r\n",
      "    # Limit elevator from -25 to 25 deg\r\n",
      "    u_deg[1] = max(min(u_deg[1], ElevatorMaxDeg), ElevatorMinDeg)\r\n",
      "\r\n",
      "    # Limit aileron from -21.5 to 21.5 deg\r\n",
      "    u_deg[2] = max(min(u_deg[2], AileronMaxDeg), AileronMinDeg)\r\n",
      "\r\n",
      "    # Limit rudder from -30 to 30 deg\r\n",
      "    u_deg[3] = max(min(u_deg[3], RudderMaxDeg), RudderMinDeg)\r\n",
      "    return u_deg\r\n",
      "\r\n"
     ]
    }
   ],
   "source": [
    "!cat /csaf-system/components/f16llc.py"
   ]
  },
  {
   "cell_type": "markdown",
   "metadata": {
    "scrolled": true
   },
   "source": [
    "### Creating a control system\n",
    "\n",
    "From collection of components, we can build a full control system. The control system is again defined by a simple TOML configuration that describes the interconnections between components. "
   ]
  },
  {
   "cell_type": "code",
   "execution_count": null,
   "metadata": {},
   "outputs": [],
   "source": [
    "!cat /csaf-system/f16_shield_config.toml"
   ]
  },
  {
   "cell_type": "markdown",
   "metadata": {},
   "source": [
    "### Loading the configuration"
   ]
  },
  {
   "cell_type": "code",
   "execution_count": 6,
   "metadata": {
    "scrolled": false
   },
   "outputs": [
    {
     "ename": "ModuleNotFoundError",
     "evalue": "No module named 'csaf'",
     "output_type": "error",
     "traceback": [
      "\u001b[0;31m---------------------------------------------------------------------------\u001b[0m",
      "\u001b[0;31mModuleNotFoundError\u001b[0m                       Traceback (most recent call last)",
      "\u001b[0;32m<ipython-input-6-a3633747354c>\u001b[0m in \u001b[0;36m<module>\u001b[0;34m\u001b[0m\n\u001b[0;32m----> 1\u001b[0;31m \u001b[0;32mimport\u001b[0m \u001b[0mcsaf\u001b[0m\u001b[0;34m.\u001b[0m\u001b[0mconfig\u001b[0m \u001b[0;32mas\u001b[0m \u001b[0mcconf\u001b[0m\u001b[0;34m\u001b[0m\u001b[0;34m\u001b[0m\u001b[0m\n\u001b[0m\u001b[1;32m      2\u001b[0m \u001b[0;32mimport\u001b[0m \u001b[0mcsaf\u001b[0m\u001b[0;34m.\u001b[0m\u001b[0msystem\u001b[0m \u001b[0;32mas\u001b[0m \u001b[0mcsys\u001b[0m\u001b[0;34m\u001b[0m\u001b[0;34m\u001b[0m\u001b[0m\n\u001b[1;32m      3\u001b[0m \u001b[0;34m\u001b[0m\u001b[0m\n\u001b[1;32m      4\u001b[0m \u001b[0;31m# create a csaf configuration out of toml\u001b[0m\u001b[0;34m\u001b[0m\u001b[0;34m\u001b[0m\u001b[0;34m\u001b[0m\u001b[0m\n\u001b[1;32m      5\u001b[0m \u001b[0mmy_conf\u001b[0m \u001b[0;34m=\u001b[0m \u001b[0mcconf\u001b[0m\u001b[0;34m.\u001b[0m\u001b[0mSystemConfig\u001b[0m\u001b[0;34m.\u001b[0m\u001b[0mfrom_toml\u001b[0m\u001b[0;34m(\u001b[0m\u001b[0;34m\"/csaf-system/f16_shield_config.toml\"\u001b[0m\u001b[0;34m)\u001b[0m\u001b[0;34m\u001b[0m\u001b[0;34m\u001b[0m\u001b[0m\n",
      "\u001b[0;31mModuleNotFoundError\u001b[0m: No module named 'csaf'"
     ]
    }
   ],
   "source": [
    "import csaf.config as cconf\n",
    "import csaf.system as csys\n",
    "\n",
    "# create a csaf configuration out of toml\n",
    "my_conf = cconf.SystemConfig.from_toml(\"/csaf-system/f16_shield_config.toml\")"
   ]
  },
  {
   "cell_type": "markdown",
   "metadata": {},
   "source": [
    "### Display the system topology"
   ]
  },
  {
   "cell_type": "code",
   "execution_count": null,
   "metadata": {
    "scrolled": true
   },
   "outputs": [],
   "source": [
    "from IPython.display import Image\n",
    "\n",
    "import pathlib\n",
    "\n",
    "plot_fname = f\"pub-sub-plot.png\"\n",
    "\n",
    "# plot configuration pub/sub diagram as a file -- proj specicies a dot executbale and -Gdpi is a valid dot\n",
    "# argument to change the image resolution\n",
    "my_conf.plot_config(fname=pathlib.Path(plot_fname).resolve(), prog=[\"dot\", \"-Gdpi=400\"])\n",
    "\n",
    "# display written file to notebook\n",
    "Image(plot_fname, height=600)"
   ]
  },
  {
   "cell_type": "markdown",
   "metadata": {},
   "source": [
    "### Simulating the system"
   ]
  },
  {
   "cell_type": "code",
   "execution_count": null,
   "metadata": {},
   "outputs": [],
   "source": [
    "# create pub/sub components out of the configuration\n",
    "my_system = csys.System.from_config(my_conf)\n",
    "\n",
    "simulation_timespan = [0, 35.0]\n",
    "\n",
    "# simulate and collect time traces out of the components\n",
    "trajs = my_system.simulate_tspan(simulation_timespan, show_status=True)\n",
    "\n",
    "# destroy components and unbind all used sockets\n",
    "my_system.unbind() "
   ]
  },
  {
   "cell_type": "markdown",
   "metadata": {},
   "source": [
    "### F16 flight animation"
   ]
  },
  {
   "cell_type": "code",
   "execution_count": null,
   "metadata": {},
   "outputs": [],
   "source": [
    "# if you want to use the notebook engine needed to play animations in the notebook\n",
    "# uncomment the line below:\n",
    "# %matplotlib notebook\n",
    "import sys\n",
    "sys.path.append('/csaf-system')\n",
    "from f16_plot import plot3d_anim\n",
    "video = plot3d_anim(trajs[\"plant\"])    "
   ]
  },
  {
   "cell_type": "code",
   "execution_count": null,
   "metadata": {},
   "outputs": [],
   "source": [
    "# if the animation doesn't play well--translate the animation\n",
    "# object to a JS/HTML video and display it\n",
    "from IPython.display import HTML\n",
    "HTML(video.to_jshtml())"
   ]
  },
  {
   "cell_type": "markdown",
   "metadata": {},
   "source": [
    "### 2D plot of the F16 model"
   ]
  },
  {
   "cell_type": "code",
   "execution_count": null,
   "metadata": {},
   "outputs": [],
   "source": [
    "from f16_plot import plot_simple\n",
    "plot_simple(trajs)"
   ]
  },
  {
   "cell_type": "markdown",
   "metadata": {},
   "source": [
    "### Plot the state variables"
   ]
  },
  {
   "cell_type": "code",
   "execution_count": 1,
   "metadata": {},
   "outputs": [
    {
     "ename": "NameError",
     "evalue": "name 'trajs' is not defined",
     "output_type": "error",
     "traceback": [
      "\u001b[0;31m---------------------------------------------------------------------------\u001b[0m",
      "\u001b[0;31mNameError\u001b[0m                                 Traceback (most recent call last)",
      "\u001b[0;32m<ipython-input-1-cce5bab0a7a7>\u001b[0m in \u001b[0;36m<module>\u001b[0;34m\u001b[0m\n\u001b[1;32m      8\u001b[0m \u001b[0mtopic_name\u001b[0m \u001b[0;34m=\u001b[0m \u001b[0;34m\"states\"\u001b[0m\u001b[0;34m\u001b[0m\u001b[0;34m\u001b[0m\u001b[0m\n\u001b[1;32m      9\u001b[0m \u001b[0;34m\u001b[0m\u001b[0m\n\u001b[0;32m---> 10\u001b[0;31m \u001b[0;32mif\u001b[0m \u001b[0mcomponent_name\u001b[0m \u001b[0;32min\u001b[0m \u001b[0mtrajs\u001b[0m\u001b[0;34m:\u001b[0m\u001b[0;34m\u001b[0m\u001b[0;34m\u001b[0m\u001b[0m\n\u001b[0m\u001b[1;32m     11\u001b[0m     \u001b[0;31m# time trace of component\u001b[0m\u001b[0;34m\u001b[0m\u001b[0;34m\u001b[0m\u001b[0;34m\u001b[0m\u001b[0m\n\u001b[1;32m     12\u001b[0m     \u001b[0mttrace\u001b[0m \u001b[0;34m=\u001b[0m \u001b[0mtrajs\u001b[0m\u001b[0;34m[\u001b[0m\u001b[0mcomponent_name\u001b[0m\u001b[0;34m]\u001b[0m\u001b[0;34m\u001b[0m\u001b[0;34m\u001b[0m\u001b[0m\n",
      "\u001b[0;31mNameError\u001b[0m: name 'trajs' is not defined"
     ]
    }
   ],
   "source": [
    "import matplotlib.pyplot as plt \n",
    "import numpy as np\n",
    "\n",
    "# select component to plot\n",
    "component_name = \"plant\"\n",
    "\n",
    "# select topic of component to plot\n",
    "topic_name = \"states\"\n",
    "\n",
    "if component_name in trajs:\n",
    "    # time trace of component\n",
    "    ttrace = trajs[component_name]\n",
    "    \n",
    "    if not hasattr(ttrace, topic_name):\n",
    "        raise RuntimeError(f\"ERROR! Invalid topic name {topic_name} for component {component_name}\")\n",
    "    \n",
    "    # collect time and data to plot\n",
    "    t, data = ttrace.times, np.array(getattr(ttrace, topic_name))\n",
    "    \n",
    "    # number of dimensions -> number of plots\n",
    "    n_dim = data.shape[1]\n",
    "    \n",
    "    # get full component name\n",
    "    component_vname = my_conf.get_component_settings(component_name)[\"config\"][\"system_name\"]\n",
    "    \n",
    "    # get names of topic from ROSmsg -- skip boilerplate\n",
    "    names = my_conf.get_msg_setting(component_name, topic_name, \"msg\").fields_no_header\n",
    "    \n",
    "    # create matplotlib axes and plot\n",
    "    fig, axs = plt.subplots(figsize=(12/2, n_dim*4/2),nrows=n_dim, sharex=True)\n",
    "    for idx, ax in enumerate(axs):\n",
    "        # plot formatting\n",
    "        ax.plot(t, data[:, idx], LineWidth=2)\n",
    "        ax.set_ylabel(names[idx])\n",
    "        ax.set_xlim(min(t), max(t))\n",
    "        ax.grid()\n",
    "        \n",
    "    # set figure title\n",
    "    axs[0].set_title(f\"{component_vname} - Topic \\\"{topic_name.title()}\\\"\")\n",
    "    \n",
    "    # on last axis, set the time label\n",
    "    axs[-1].set_xlabel(\"time (s)\")\n",
    "else:\n",
    "    raise RuntimeError(f\"ERROR! Invalid component name {component_name}\")"
   ]
  },
  {
   "cell_type": "markdown",
   "metadata": {},
   "source": [
    "### Replay simulation in FlightGear\n",
    "\n",
    "If you have [FlightGear installed](file://../../examples/f16/flightgear/FLIGHTGEAR.md), start it on your host with `examples/f16/flightgear/launch_fg.sh`\n",
    "Once FlightGear fully loads, we can replay the simulation in real-time."
   ]
  },
  {
   "cell_type": "code",
   "execution_count": null,
   "metadata": {},
   "outputs": [],
   "source": [
    "# uncomment to run\n",
    "#from f16_plot import render_in_flightgear\n",
    "#render_in_flightgear(trajs)"
   ]
  },
  {
   "cell_type": "markdown",
   "metadata": {},
   "source": [
    "## Get Component Signals\n",
    "\n",
    "This shows how to get the input and signals associated with a component identified by a component name. The function `get_component_io` is implemented, get the input topics of the controller, then calculating what the input buffer of the component is at each time step."
   ]
  },
  {
   "cell_type": "code",
   "execution_count": null,
   "metadata": {},
   "outputs": [],
   "source": [
    "import numpy as np\n",
    "import matplotlib.pyplot as plt\n",
    "import pandas as pd\n",
    "import csaf.trace as ctr\n",
    "\n",
    "# get io of controller\n",
    "cio = ctr.get_component_io(\"controller\", trajs, my_conf)\n",
    "\n",
    "# transform f16 state for controller input\n",
    "xequil = np.array([502.0, 0.03887505597600522, 0.0, 0.0, 0.03887505597600522, 0.0, 0.0, 0.0, 0.0, 0.0, 0.0, 1000.0, 9.05666543872074])\n",
    "uequil = np.array([0.13946204864060271, -0.7495784725828754, 0.0, 0.0])\n",
    "x_delta = np.array(np.hstack((trajs[\"plant\"].states.copy(), trajs[\"controller\"].states.copy())))\n",
    "x_delta[:, :len(xequil)] -= np.tile(xequil, (len(trajs[\"plant\"].states), 1))\n",
    "\n",
    "# llc f16 inputs/ outputs\n",
    "outs = np.array(cio[\"outputs\"])[:, 1:4]\n",
    "ins = x_delta[:, (1, 7, 13, 2, 6, 8, 14, 15)]\n",
    "\n",
    "# uncomment to save to txt files\n",
    "#np.savetxt(\"output_csaf.txt\", outs)\n",
    "#np.savetxt(\"input_csaf.txt\", ins)"
   ]
  },
  {
   "cell_type": "code",
   "execution_count": null,
   "metadata": {
    "scrolled": true
   },
   "outputs": [],
   "source": [
    "plt.title(\"Controller Input Signals for Autopilot\")\n",
    "plt.plot(outs[:, :1])\n",
    "plt.grid()\n",
    "plt.show()"
   ]
  },
  {
   "cell_type": "code",
   "execution_count": null,
   "metadata": {},
   "outputs": [],
   "source": [
    "# put in dataframe\n",
    "input_fields = [(p, t) for p, t in my_conf._config[\"components\"][\"controller\"][\"sub\"]]\n",
    "in_fields = np.concatenate([[f\"input-{p}-{f}\" for f in my_conf.get_msg_setting(p, t, \"msg\").fields_no_header] for p, t in input_fields])\n",
    "out_fields = [f\"output-controller-{f}\" for f in my_conf.get_msg_setting(\"controller\", \"outputs\", \"msg\").fields_no_header]\n",
    "columns = np.concatenate([[\"times\"], in_fields, out_fields])\n",
    "df = pd.DataFrame(columns=columns, data=np.hstack((cio[\"times\"][:, np.newaxis], cio[\"inputs\"], cio[\"outputs\"])))\n",
    "#df.to_csv(\"controller-llc-traces.csv\", index=False)"
   ]
  },
  {
   "cell_type": "code",
   "execution_count": null,
   "metadata": {},
   "outputs": [],
   "source": []
  }
 ],
 "metadata": {
  "kernelspec": {
   "display_name": "Python 3",
   "language": "python",
   "name": "python3"
  },
  "language_info": {
   "codemirror_mode": {
    "name": "ipython",
    "version": 3
   },
   "file_extension": ".py",
   "mimetype": "text/x-python",
   "name": "python",
   "nbconvert_exporter": "python",
   "pygments_lexer": "ipython3",
   "version": "3.6.9"
  }
 },
 "nbformat": 4,
 "nbformat_minor": 4
}
