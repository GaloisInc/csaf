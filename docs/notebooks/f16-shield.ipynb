{
 "cells": [
  {
   "cell_type": "markdown",
   "metadata": {},
   "source": [
    "# CSAF F16 Example\n",
    "\n",
    "This notebook illustrates how to run CSAF on a model of the F16. Each system in CSAF is comprised of a set of components that communicate with each other by sending messages defined in the ROS format (http://wiki.ros.org/Messages)."
   ]
  },
  {
   "cell_type": "markdown",
   "metadata": {},
   "source": [
    "### Creating messages\n",
    "\n",
    "Before we can create components, we need to define the message formats that a component uses to communicate over. In this example, we'll look at the messages used by the F16 low-level controller (LLC). It receives state from the F16 plant and outputs a set of control signals. The cell below loads the state output message from the F16 plant. The `version_major`, `version_minor`, `topic` and `time` fields are required for all CSAF messages. The remainder of the values are state variables in the aircraft model. For example, `vt` is the air speed, `theta` is the pitch and `psi` is the yaw."
   ]
  },
  {
   "cell_type": "code",
   "execution_count": null,
   "metadata": {},
   "outputs": [],
   "source": [
    "!cat /csaf-system/components/msg/f16plant_state.msg"
   ]
  },
  {
   "cell_type": "markdown",
   "metadata": {},
   "source": [
    "Now let's look at the message used to capture control signals from the low-level controller. In addition to the standard fields, the message defines `delta_e` for the elevator, `delta_a` for the ailerons, `delta_r` for the rudder and `throttle`. \n"
   ]
  },
  {
   "cell_type": "code",
   "execution_count": null,
   "metadata": {},
   "outputs": [],
   "source": [
    "!cat /csaf-system/components/msg/f16llc_output.msg"
   ]
  },
  {
   "cell_type": "markdown",
   "metadata": {},
   "source": [
    "### Creating components\n",
    "\n",
    "A component in CSAF is defined by a TOML configuration file and a model file. The configuration file defines the messages a component consumes, the messages it produces and the parameters of the model. Below is the configuration file for the F16 low-level controller."
   ]
  },
  {
   "cell_type": "code",
   "execution_count": null,
   "metadata": {},
   "outputs": [],
   "source": [
    "!cat /csaf-system/components/f16llc.toml"
   ]
  },
  {
   "cell_type": "markdown",
   "metadata": {},
   "source": [
    "Next we need to define the actual implementation of the low-level controller component. CSAF provides a very concise mechanism for doing so. All of the logic needed to generate, serialize and transport ROS messages is handled by the framework itself. This allows component implementations to focus on the core control logic by defining one of more of the following methods `model_output`, `model_state_update`, `model_info` and `model_update`. The full implementation for LLC is below. "
   ]
  },
  {
   "cell_type": "code",
   "execution_count": null,
   "metadata": {},
   "outputs": [],
   "source": [
    "!cat /csaf-system/components/f16llc.py"
   ]
  },
  {
   "cell_type": "markdown",
   "metadata": {
    "scrolled": true
   },
   "source": [
    "### Creating a control system\n",
    "\n",
    "From collection of components, we can build a full control system. The control system is again defined by a simple TOML configuration that describes the interconnections between components. "
   ]
  },
  {
   "cell_type": "code",
   "execution_count": null,
   "metadata": {},
   "outputs": [],
   "source": [
    "!cat /csaf-system/f16_shield_config.toml"
   ]
  },
  {
   "cell_type": "markdown",
   "metadata": {},
   "source": [
    "### Loading the configuration"
   ]
  },
  {
   "cell_type": "code",
   "execution_count": null,
   "metadata": {
    "scrolled": false
   },
   "outputs": [],
   "source": [
    "import csaf.config as cconf\n",
    "import csaf.system as csys\n",
    "\n",
    "# create a csaf configuration out of toml\n",
    "my_conf = cconf.SystemConfig.from_toml(\"/csaf-system/f16_shield_config.toml\")"
   ]
  },
  {
   "cell_type": "markdown",
   "metadata": {},
   "source": [
    "### Display the system topology"
   ]
  },
  {
   "cell_type": "code",
   "execution_count": null,
   "metadata": {
    "scrolled": true
   },
   "outputs": [],
   "source": [
    "from IPython.display import Image\n",
    "\n",
    "import pathlib\n",
    "\n",
    "plot_fname = f\"pub-sub-plot.png\"\n",
    "\n",
    "# plot configuration pub/sub diagram as a file -- proj specicies a dot executbale and -Gdpi is a valid dot\n",
    "# argument to change the image resolution\n",
    "my_conf.plot_config(fname=pathlib.Path(plot_fname).resolve(), prog=[\"dot\", \"-Gdpi=400\"])\n",
    "\n",
    "# display written file to notebook\n",
    "Image(plot_fname, height=600)"
   ]
  },
  {
   "cell_type": "markdown",
   "metadata": {},
   "source": [
    "### Simulating the system"
   ]
  },
  {
   "cell_type": "code",
   "execution_count": null,
   "metadata": {},
   "outputs": [],
   "source": [
    "# create pub/sub components out of the configuration\n",
    "my_system = csys.System.from_config(my_conf)\n",
    "\n",
    "simulation_timespan = [0, 35.0]\n",
    "\n",
    "# simulate and collect time traces out of the components\n",
    "trajs = my_system.simulate_tspan(simulation_timespan, show_status=True)\n",
    "\n",
    "# destroy components and unbind all used sockets\n",
    "my_system.unbind() "
   ]
  },
  {
   "cell_type": "markdown",
   "metadata": {},
   "source": [
    "## Get Component Signals\n",
    "\n",
    "This shows how to get the input and signals associated with a component identified by a component name. The function `get_component_io` is implemented, get the input topics of the controller, then calculating what the input buffer of the component is at each time step."
   ]
  },
  {
   "cell_type": "code",
   "execution_count": null,
   "metadata": {},
   "outputs": [],
   "source": [
    "import numpy as np\n",
    "import matplotlib.pyplot as plt"
   ]
  },
  {
   "cell_type": "code",
   "execution_count": null,
   "metadata": {},
   "outputs": [],
   "source": [
    "def get_component_io(component_name: str, trajs: dict, conf: cconf.SystemConfig):\n",
    "    \"\"\"get input and output signals for a given component_name\n",
    "    :param component_name: component identifier\n",
    "    :param trajs: CSAF simulation output\n",
    "    :param conf: CSAF system configuration object\n",
    "    :returns dict: {times: <array>, inputs: <ndarray>, outputs: <ndarray>}\n",
    "    \"\"\"\n",
    "    def get_most_recent(t, key, topic):\n",
    "        \"\"\"get ZOH in inputs buffer\"\"\"\n",
    "        ttrace = trajs[key]\n",
    "        tidx = np.where(np.array(ttrace.times) <= t)[0]\n",
    "        tidx = 0 if len(tidx) == 0 else tidx[-1]\n",
    "        return getattr(ttrace, topic)[tidx]\n",
    "    # get the input components and topics\n",
    "    input_fields = [(p, t) for p, t in conf._config[\"components\"][component_name][\"sub\"]]\n",
    "    # store inputs, outputs and times\n",
    "    times = np.array(trajs[component_name].times)\n",
    "    outputs = np.array(trajs[component_name].outputs)\n",
    "    inputs = []\n",
    "    # step through and get inputs (ZOH)\n",
    "    for t in times:\n",
    "        inputs.append(np.concatenate([get_most_recent(t, key, topic) for key, topic in input_fields]))\n",
    "    return {\"times\": np.array(times), \"inputs\": np.array(inputs), \"outputs\": np.array(outputs)}\n",
    "        "
   ]
  },
  {
   "cell_type": "code",
   "execution_count": null,
   "metadata": {},
   "outputs": [],
   "source": [
    "# get io of controller\n",
    "cio = get_component_io(\"controller\", trajs, my_conf)"
   ]
  },
  {
   "cell_type": "code",
   "execution_count": null,
   "metadata": {},
   "outputs": [],
   "source": [
    "plt.title(\"Controller Input Signals for Autopilot\")\n",
    "plt.plot(cio[\"times\"], cio[\"inputs\"][:, -4])\n",
    "plt.plot(cio[\"times\"], cio[\"inputs\"][:, -3])\n",
    "plt.plot(cio[\"times\"], cio[\"inputs\"][:, -2])\n",
    "plt.plot(cio[\"times\"], cio[\"inputs\"][:, -1])\n",
    "plt.grid()"
   ]
  },
  {
   "cell_type": "code",
   "execution_count": null,
   "metadata": {},
   "outputs": [],
   "source": [
    "import pandas as pd\n",
    "input_fields = [(p, t) for p, t in my_conf._config[\"components\"][\"controller\"][\"sub\"]]\n",
    "in_fields = np.concatenate([[f\"input-{p}-{f}\" for f in my_conf.get_msg_setting(p, t, \"msg\").fields_no_header] for p, t in input_fields])\n",
    "out_fields = [f\"output-controller-{f}\" for f in my_conf.get_msg_setting(\"controller\", \"outputs\", \"msg\").fields_no_header]\n",
    "columns = np.concatenate([[\"times\"], in_fields, out_fields])\n",
    "df = pd.DataFrame(columns=columns, data=np.hstack((cio[\"times\"][:, np.newaxis], cio[\"inputs\"], cio[\"outputs\"])))\n",
    "df.to_csv(\"controller-llc-traces.csv\", index=False)"
   ]
  },
  {
   "cell_type": "markdown",
   "metadata": {},
   "source": [
    "### F16 flight animation"
   ]
  },
  {
   "cell_type": "code",
   "execution_count": null,
   "metadata": {},
   "outputs": [],
   "source": [
    "# notebook engine needed to play animations in the notebook\n",
    "%matplotlib notebook\n",
    "import sys\n",
    "sys.path.append('/csaf-system')\n",
    "from f16_plot import plot3d_anim\n",
    "video = plot3d_anim(trajs[\"plant\"])    "
   ]
  },
  {
   "cell_type": "code",
   "execution_count": null,
   "metadata": {},
   "outputs": [],
   "source": [
    "# if the animation doesn't play well--translate the animation\n",
    "# object to a JS/HTML video and display it\n",
    "from IPython.display import HTML\n",
    "HTML(video.to_jshtml())"
   ]
  },
  {
   "cell_type": "markdown",
   "metadata": {},
   "source": [
    "### 2D plot of the F16 model"
   ]
  },
  {
   "cell_type": "code",
   "execution_count": null,
   "metadata": {},
   "outputs": [],
   "source": [
    "from f16_plot import plot_simple\n",
    "plot_simple(trajs)"
   ]
  },
  {
   "cell_type": "markdown",
   "metadata": {},
   "source": [
    "### Plot the state variables"
   ]
  },
  {
   "cell_type": "code",
   "execution_count": null,
   "metadata": {},
   "outputs": [],
   "source": [
    "import matplotlib.pyplot as plt \n",
    "import numpy as np\n",
    "\n",
    "# select component to plot\n",
    "component_name = \"plant\"\n",
    "\n",
    "# select topic of component to plot\n",
    "topic_name = \"states\"\n",
    "\n",
    "if component_name in trajs:\n",
    "    # time trace of component\n",
    "    ttrace = trajs[component_name]\n",
    "    \n",
    "    if not hasattr(ttrace, topic_name):\n",
    "        raise RuntimeError(f\"ERROR! Invalid topic name {topic_name} for component {component_name}\")\n",
    "    \n",
    "    # collect time and data to plot\n",
    "    t, data = ttrace.times, np.array(getattr(ttrace, topic_name))\n",
    "    \n",
    "    # number of dimensions -> number of plots\n",
    "    n_dim = data.shape[1]\n",
    "    \n",
    "    # get full component name\n",
    "    component_vname = my_conf.get_component_settings(component_name)[\"config\"][\"system_name\"]\n",
    "    \n",
    "    # get names of topic from ROSmsg -- skip boilerplate\n",
    "    names = my_conf.get_msg_setting(component_name, topic_name, \"msg\").fields_no_header\n",
    "    \n",
    "    # create matplotlib axes and plot\n",
    "    fig, axs = plt.subplots(figsize=(12/2, n_dim*4/2),nrows=n_dim, sharex=True)\n",
    "    for idx, ax in enumerate(axs):\n",
    "        # plot formatting\n",
    "        ax.plot(t, data[:, idx], LineWidth=2)\n",
    "        ax.set_ylabel(names[idx])\n",
    "        ax.set_xlim(min(t), max(t))\n",
    "        ax.grid()\n",
    "        \n",
    "    # set figure title\n",
    "    axs[0].set_title(f\"{component_vname} - Topic \\\"{topic_name.title()}\\\"\")\n",
    "    \n",
    "    # on last axis, set the time label\n",
    "    axs[-1].set_xlabel(\"time (s)\")\n",
    "else:\n",
    "    raise RuntimeError(f\"ERROR! Invalid component name {component_name}\")"
   ]
  },
  {
   "cell_type": "markdown",
   "metadata": {},
   "source": [
    "### Replay simulation in FlightGear\n",
    "\n",
    "If you have [FlightGear installed](file://../../examples/f16/flightgear/FLIGHTGEAR.md), start it on your host with `examples/f16/flightgear/launch_fg.sh`\n",
    "Once FlightGear fully loads, we can replay the simulation in real-time."
   ]
  },
  {
   "cell_type": "code",
   "execution_count": null,
   "metadata": {},
   "outputs": [],
   "source": [
    "from f16_plot import render_in_flightgear\n",
    "render_in_flightgear(trajs)"
   ]
  },
  {
   "cell_type": "code",
   "execution_count": null,
   "metadata": {},
   "outputs": [],
   "source": []
  }
 ],
 "metadata": {
  "kernelspec": {
   "display_name": "Python 3",
   "language": "python",
   "name": "python3"
  },
  "language_info": {
   "codemirror_mode": {
    "name": "ipython",
    "version": 3
   },
   "file_extension": ".py",
   "mimetype": "text/x-python",
   "name": "python",
   "nbconvert_exporter": "python",
   "pygments_lexer": "ipython3",
   "version": "3.6.9"
  }
 },
 "nbformat": 4,
 "nbformat_minor": 4
}
