{
 "cells": [
  {
   "cell_type": "markdown",
   "metadata": {},
   "source": [
    "# Falsify Neural Network Controlled F16 GCAS\n",
    "\n",
    "Based on demo in https://github.com/caffett/falsify_neural_f16gcas"
   ]
  },
  {
   "cell_type": "code",
   "execution_count": null,
   "metadata": {},
   "outputs": [],
   "source": [
    "import os\n",
    "import sys\n",
    "\n",
    "import numpy as np\n",
    "from numpy import pi, deg2rad\n",
    "from skopt import gp_minimize\n",
    "\n",
    "# CSAF Imports\n",
    "import csaf.system as csys\n",
    "import csaf.config as cconf\n",
    "\n",
    "# Analsis Objects/Functions\n",
    "from falsify_bopt import F16SimulationFunction, EvaluatedFunction, attack, initial_space"
   ]
  },
  {
   "cell_type": "code",
   "execution_count": null,
   "metadata": {},
   "outputs": [],
   "source": [
    "# create a csaf configuration out of toml\n",
    "my_conf = cconf.SystemConfig.from_toml(\"/csaf-system/f16_shield_config.toml\")"
   ]
  },
  {
   "cell_type": "code",
   "execution_count": null,
   "metadata": {},
   "outputs": [],
   "source": [
    "# create pub/sub components out of the configuration\n",
    "my_system = csys.System.from_config(my_conf)"
   ]
  },
  {
   "cell_type": "code",
   "execution_count": null,
   "metadata": {},
   "outputs": [],
   "source": [
    "def ground_collision_condition(cname, outs):\n",
    "        \"\"\"ground collision premature termnation condition\"\"\"\n",
    "        return cname == \"plant\" and outs[\"states\"][11] <= 0.0\n",
    "\n",
    "\n",
    "def gcas_simulation(initial_state, initial_time, tmax=35):\n",
    "    \"\"\"simulate GCAS system\"\"\"\n",
    "    tspan = (initial_time, tmax)\n",
    "    my_system.reset()\n",
    "    my_system.set_state(\"plant\", initial_state[:13])\n",
    "    my_system.set_state(\"controller\", initial_state[13:])\n",
    "    trajs, passed = my_system.simulate_tspan(tspan, show_status=True,\n",
    "                                terminating_conditions=ground_collision_condition,\n",
    "                                return_passed=True)\n",
    "    tlen = min(len(trajs[\"plant\"].states), len(trajs[\"controller\"].states))\n",
    "    return trajs[\"plant\"].times, np.hstack((trajs[\"plant\"].states[:tlen], trajs[\"controller\"].states[:tlen])), passed\n"
   ]
  },
  {
   "cell_type": "code",
   "execution_count": null,
   "metadata": {},
   "outputs": [],
   "source": [
    "## simulate\n",
    "l, h = initial_space()\n",
    "initial_state = np.random.uniform(l, h)\n",
    "times, states, passed = gcas_simulation(initial_state, 0)"
   ]
  },
  {
   "cell_type": "code",
   "execution_count": null,
   "metadata": {},
   "outputs": [],
   "source": [
    "## attack\n",
    "attack_traj = np.array(states)[0:1]\n",
    "delta = (h - l)/2\n",
    "attack_spaces = [attack_traj[0]-delta, attack_traj[0]+delta]\n",
    "unsafe_states = attack(EvaluatedFunction(F16SimulationFunction(0, gcas_simulation)), attack_spaces, n_calls=10)"
   ]
  },
  {
   "cell_type": "code",
   "execution_count": null,
   "metadata": {},
   "outputs": [],
   "source": [
    "## unbind/disconnect system\n",
    "my_system.unbind()"
   ]
  },
  {
   "cell_type": "code",
   "execution_count": null,
   "metadata": {},
   "outputs": [],
   "source": [
    "## print number of unsafe states found\n",
    "print(f\"Number of unsafe states found: {len(unsafe_states)}\")"
   ]
  },
  {
   "cell_type": "code",
   "execution_count": null,
   "metadata": {},
   "outputs": [],
   "source": []
  }
 ],
 "metadata": {
  "kernelspec": {
   "display_name": "Python 3",
   "language": "python",
   "name": "python3"
  },
  "language_info": {
   "codemirror_mode": {
    "name": "ipython",
    "version": 3
   },
   "file_extension": ".py",
   "mimetype": "text/x-python",
   "name": "python",
   "nbconvert_exporter": "python",
   "pygments_lexer": "ipython3",
   "version": "3.6.9"
  }
 },
 "nbformat": 4,
 "nbformat_minor": 4
}
