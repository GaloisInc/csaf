{
 "cells": [
  {
   "cell_type": "code",
   "execution_count": null,
   "id": "bcf78589",
   "metadata": {},
   "outputs": [],
   "source": [
    "import sys\n",
    "\n",
    "import numpy as np\n",
    "import matplotlib.pyplot as plt\n",
    "\n",
    "import tqdm\n",
    "\n",
    "# CSAF Imports\n",
    "import csaf.config as cconf\n",
    "import csaf.system as csys\n",
    "import run_parallel as rp  # for now, batch simulations is not in CSAF package\n",
    "\n"
   ]
  },
  {
   "cell_type": "code",
   "execution_count": null,
   "id": "fc6ee782",
   "metadata": {},
   "outputs": [],
   "source": [
    "import csaf.config as cconf\n",
    "import csaf.system as csys\n",
    "\n",
    "import numpy as np\n",
    "import matplotlib as mpl\n",
    "import matplotlib.pyplot as plt\n",
    "%matplotlib inline\n",
    "%config InlineBackend.figure_format='retina'\n",
    "\n",
    "# create a csaf configuration out of toml\n",
    "my_conf = cconf.SystemConfig.from_toml(\"/csaf-system/f16_multiagent_config.toml\")"
   ]
  },
  {
   "cell_type": "code",
   "execution_count": null,
   "id": "dcb0967d",
   "metadata": {},
   "outputs": [],
   "source": [
    "class AcasSampler:\n",
    "    @staticmethod\n",
    "    def air_collision_condition(ctraces):\n",
    "        \"\"\"ground collision premature termnation condition\n",
    "        TODO: I had to alter the terminating conditions to support this expression\n",
    "        \"\"\"\n",
    "        # get the aircraft states\n",
    "        sa, sb = ctraces['planta']['states'], ctraces['plantb']['states']\n",
    "        if sa and sb:\n",
    "            # look at distance between last state\n",
    "            return (np.linalg.norm(np.array(sa[-1][9:11]) - np.array(sb[-1][9:11]))) < 10\n",
    "        \n",
    "    def __init__(self, conf, tspan=(0.0, 20.0)):\n",
    "        self.config = conf\n",
    "        self.tspan = tspan\n",
    "        \n",
    "        \n",
    "    def run_samples(self, x_samp):\n",
    "            \"\"\"given an array of plant initial states, \n",
    "            run batches of simulations to see if they meet the termination criteria\"\"\"\n",
    "            # assign samples to the system plant\n",
    "            init_states = [{\"planta\": xai, \"plantb\": xbi} for xai, xbi in x_samp]\n",
    "            res = rp.run_workgroup(len(init_states), self.config, init_states, self.tspan,\n",
    "                                   terminating_conditions_all=self.air_collision_condition)\n",
    "            return res\n",
    "        \n",
    "    def fit(self, X, y):\n",
    "        \"\"\"this model cannot be trained\"\"\"\n",
    "        pass\n",
    "    \n",
    "    def predict(self, X):\n",
    "        \"\"\"classification prediction\"\"\"\n",
    "        ret = self.run_samples(X)\n",
    "        return np.array([b for b,_, _ in ret])"
   ]
  },
  {
   "cell_type": "code",
   "execution_count": null,
   "id": "8e982b19",
   "metadata": {},
   "outputs": [],
   "source": [
    "# set the scenario states\n",
    "x_samp = []\n",
    "for _ in range(32):\n",
    "    xa = [500.0, 0.0, 0.0, 0.0, 0.0, 0.0, 0.0, 0.0, 0.0, 0.0, 0.0, 6000.0, 9.0]\n",
    "    xe, xn = np.random.uniform(200, 5000), np.random.uniform(200, 5000)\n",
    "    heading = np.random.uniform(-np.pi, np.pi)\n",
    "    xb = [500.0, 0.0, 0.0, 0.0, 0.0, heading, 0.0, 0.0, 0.0, xn, xe, 6000.0, 9.0]\n",
    "    x_samp.append((xa, xb))"
   ]
  },
  {
   "cell_type": "code",
   "execution_count": null,
   "id": "b52d8bb7",
   "metadata": {},
   "outputs": [],
   "source": [
    "sampler = AcasSampler(my_conf)\n",
    "sim_res = sampler.run_samples(x_samp)"
   ]
  },
  {
   "cell_type": "code",
   "execution_count": null,
   "id": "57be7e62",
   "metadata": {},
   "outputs": [],
   "source": [
    "[passed for passed, _, _ in sim_res]"
   ]
  },
  {
   "cell_type": "code",
   "execution_count": null,
   "id": "8bf8e5ec",
   "metadata": {},
   "outputs": [],
   "source": []
  }
 ],
 "metadata": {
  "kernelspec": {
   "display_name": "Python 3",
   "language": "python",
   "name": "python3"
  },
  "language_info": {
   "codemirror_mode": {
    "name": "ipython",
    "version": 3
   },
   "file_extension": ".py",
   "mimetype": "text/x-python",
   "name": "python",
   "nbconvert_exporter": "python",
   "pygments_lexer": "ipython3",
   "version": "3.6.9"
  }
 },
 "nbformat": 4,
 "nbformat_minor": 5
}
