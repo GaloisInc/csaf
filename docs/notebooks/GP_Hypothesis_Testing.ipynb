{
 "cells": [
  {
   "cell_type": "code",
   "execution_count": null,
   "id": "d1785863",
   "metadata": {},
   "outputs": [],
   "source": [
    "!pip install pingouin\n",
    "from scipy import stats\n",
    "import numpy as np\n",
    "import matplotlib.pyplot as plt\n",
    "from scipy.stats import multivariate_normal\n",
    "from pingouin import multivariate_normality"
   ]
  },
  {
   "cell_type": "code",
   "execution_count": null,
   "id": "9bd7127f",
   "metadata": {},
   "outputs": [],
   "source": [
    "def build_kernel_matrix(k, t, tt):\n",
    "    \"\"\"build out a kernel matrix from a matrix or scalar valued kernel function k\"\"\"\n",
    "    K = np.empty((len(t), len(tt))).tolist()\n",
    "    for idx, ti in enumerate(t):\n",
    "        for jdx, tti in enumerate(tt):\n",
    "            val = k(ti, tti)\n",
    "            K[idx][jdx] = val\n",
    "    reta = np.array(K)\n",
    "    # case: matrix valued kernel\n",
    "    if len(reta.shape) == 4:\n",
    "        reta = np.block(K)\n",
    "    # case normal\n",
    "    elif len(reta.shape) == 2:\n",
    "        pass\n",
    "    else:\n",
    "        raise RuntimeError(f\"illegal kernel return shape {ret.shape}\")\n",
    "    return reta\n",
    "\n",
    "\n",
    "def covariance(t, tt):\n",
    "    if tt < t:\n",
    "        t, tt = tt, t\n",
    "    t1, t2 = 0, 3.0\n",
    "    return (t2 - tt)*(t - t1)/(t2 - t1)\n",
    "    #return min(t, tt)#0.1*np.exp(-(t-tt)**2/2) #t*tt #0.1*np.exp(-(t-tt)**2/2)"
   ]
  },
  {
   "cell_type": "code",
   "execution_count": null,
   "id": "443675b1",
   "metadata": {},
   "outputs": [],
   "source": [
    "nt = np.linspace(0, 3.0, 20)\n",
    "cov = build_kernel_matrix(covariance, nt, nt)+1e-8*np.eye(len(cov))\n",
    "#cov = np.eye(len(cov))\n",
    "mean = np.zeros(len(cov))"
   ]
  },
  {
   "cell_type": "code",
   "execution_count": null,
   "id": "b6c69712",
   "metadata": {},
   "outputs": [],
   "source": [
    "plt.imshow(cov)"
   ]
  },
  {
   "cell_type": "code",
   "execution_count": null,
   "id": "1de19c2d",
   "metadata": {},
   "outputs": [],
   "source": [
    "\n",
    "plt_vals = []\n",
    "for i in range(0, 120):\n",
    "    ys = np.random.multivariate_normal(mean, cov)\n",
    "    plt_vals.extend([nt, ys, \"k\"])\n",
    "plt.plot(*plt_vals, alpha=0.1)\n",
    "plt.show()"
   ]
  },
  {
   "cell_type": "code",
   "execution_count": null,
   "id": "c3d5b064",
   "metadata": {},
   "outputs": [],
   "source": [
    "rng = np.random.default_rng()\n",
    "x = np.random.randn(20)\n",
    "\n",
    "mvn = multivariate_normal(cov=cov)\n",
    "#mvn = stats.norm(cov=cov)\n",
    "\n",
    "#res = stats.cramervonmises(mvn.rvs(), 'norm')\n",
    "res = stats.kstest(mvn.rvs(), mvn.cdf)\n",
    "print(res.statistic, res.pvalue)\n",
    "res = stats.cramervonmises(plt_vals[1], 'norm')\n",
    "print(res.statistic, res.pvalue)\n",
    "res = stats.cramervonmises(0.1*np.cos(3*nt)+nt*0.2, 'norm')\n",
    "print(res.statistic, res.pvalue)"
   ]
  },
  {
   "cell_type": "code",
   "execution_count": null,
   "id": "8b3719ea",
   "metadata": {},
   "outputs": [],
   "source": [
    "plt.plot(x)\n",
    "plt.plot(plt_vals[4])\n",
    "#plt.plot(0.1*np.cos(3*nt)+nt*0.2)"
   ]
  },
  {
   "cell_type": "code",
   "execution_count": null,
   "id": "69497cef",
   "metadata": {},
   "outputs": [],
   "source": [
    "res = stats.cramervonmises_2samp(x, plt_vals[4])\n",
    "print(res.statistic, res.pvalue)"
   ]
  },
  {
   "cell_type": "code",
   "execution_count": null,
   "id": "023690f3",
   "metadata": {},
   "outputs": [],
   "source": [
    "from scipy import stats\n",
    "rng = np.random.default_rng()\n",
    "x = stats.norm.rvs(size=500, random_state=rng)\n",
    "res = stats.cramervonmises(x, 'norm')\n",
    "res.statistic, res.pvalue"
   ]
  },
  {
   "cell_type": "code",
   "execution_count": null,
   "id": "b00a6d14",
   "metadata": {},
   "outputs": [],
   "source": []
  }
 ],
 "metadata": {
  "kernelspec": {
   "display_name": "Python 3",
   "language": "python",
   "name": "python3"
  },
  "language_info": {
   "codemirror_mode": {
    "name": "ipython",
    "version": 3
   },
   "file_extension": ".py",
   "mimetype": "text/x-python",
   "name": "python",
   "nbconvert_exporter": "python",
   "pygments_lexer": "ipython3",
   "version": "3.7.6"
  }
 },
 "nbformat": 4,
 "nbformat_minor": 5
}
