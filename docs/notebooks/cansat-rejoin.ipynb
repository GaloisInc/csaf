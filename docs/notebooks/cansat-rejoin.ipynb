{
 "cells": [
  {
   "cell_type": "markdown",
   "metadata": {},
   "source": [
    "# CanSat Rejoin Example\n",
    "\n",
    "**NOTE:** Some of the embedded LaTeX does not render correctly in the GitLab viewer. Run this notebook inside of Jupyter or JupyterLab for the correct rendering. \n",
    "\n",
    "This Jupyter notebook demonstrates a multi-agent task scenario modeled with control system analysis framework (CSAF), where a group of satellites attempt to rejoin in formation while avoiding collision with one another.  The spacecraft model was taken from the [AerospaceRL repository on GitHub](https://github.com/act3-ace/aerospaceRL). The simple 2D model uses applied forces to move a satellite\n",
    "agent around on a plane. The coordinate system is relative to a \"chief\" satellite, where chaser satellites are attempting to\n",
    "approach the chief without crashing into it. To create a multi-agent example, four chaser satellites were instantiated around the chief, who attempt to\n",
    "approach the chief satellite without crashing into one another.\n",
    "\n",
    "The model has a 4D state space, $(x,y)$ position and $(\\dot x, \\dot y)$ velocities. The input space consists of two applied forces,\n",
    "$\\mathbf{F} = (F_x, F_y)^T$. The state evolution function can be written\n",
    "as\n",
    "\n",
    "$$\n",
    "\\dot{\\mathbf{x}} = \\begin{bmatrix} x_2 \\\\\n",
    " x_3 \\\\\n",
    "3 n^2 x_0 + 2 n x_3 + \\frac{1}{m_c} F_x\\\\\n",
    "-2 n x_2 + \\frac{1}{m_c} F_y \\end{bmatrix},\n",
    "$$\n",
    "\n",
    "where $\\mathbf{x}=(x, y, \\dot x, \\dot y)$, $n$ is the mean motion, and $m_c$ is the mass of the chaser. In linear state space form,\n",
    "\n",
    "$$\n",
    "\\dot{\\mathbf{x}} = \\begin{bmatrix} 0 && 0 && 1 && 0 \\\\\n",
    " 0 && 0 && 0 && 1 \\\\\n",
    "3 n^2 && 0 && 0 && 2 n \\\\\n",
    "0 && 0 && -2 n && 0 \\end{bmatrix} \\mathbf{x} +\n",
    "\\begin{bmatrix}\n",
    "0 && 0 \\\\\n",
    "0 && 0 \\\\\n",
    "\\frac{1}{m_c} && 0 \\\\\n",
    "0 && \\frac{1}{m_c} \\\\\n",
    "\\end{bmatrix} \\mathbf{F}.\n",
    "$$\n",
    "\n",
    "  \n",
    "  \n",
    "## Controller Design\n",
    "\n",
    "A controller policy is designed to achieve the multi-agent goal, responsible for supplying the forces to all satellites. While the original AerospaceRL benchmark scenario was meant for\n",
    "RL, a simple spring system approach is taken. The input force for each element can be accomplished in three steps:\n",
    "\n",
    "1.  Construct an undirected graph $\\mathcal G$ of satellites $\\mathcal S$ and connections $\\mathcal C$ to nearby satellites,\n",
    "$$\n",
    "\\mathcal G = (\\mathcal S, \\mathcal C).\n",
    "$$\n",
    "    Any satellite $s_i$ has a set of neighbors, $\\text{neighbors} \\subseteq \\mathcal S$, being all satellites with which $s_i$ has connections.\n",
    "2.  Construct a damped spring system by assigning a spring and damping constant to each connection.\n",
    "3.  Solve for the force applied to each node, and use that as a control policy for each satellite. For satellite $s_i$,\n",
    "    the force $F_i$ applied to the input would be a sum of the forces supplied by neighbors,  \n",
    "$$\n",
    "\\mathbf{F_i} = \\sum_{s_j \\in \\text{neighbors}} k_p (||\\mathbf r||_2 - r_l) + k_d || \\operatorname{proj}_{\\hat{\\mathbf r}} (\\mathbf v_r)||_2,\n",
    "$$\n",
    "    where $\\mathbf r = {\\mathbf x_{j,:2} -\\mathbf  x_{i,:2}}$, $\\mathbf v_r = {\\mathbf x_{j, 2:} - \\mathbf x_{i, 2:}}$, $r_l$ is the spring rest length,\n",
    "    $k_p$ is the spring constant, and $k_d$ is the damping factor. The rest length in this case defines the ideal final distances that\n",
    "    all satellites should have to one another.\n",
    "\n",
    "Also, this technique can be done in a centralized or distributed fashion. Notably, should all satellites be able to detect one another\n",
    "symmetrically, step (1) can be accomplished per satellite by $\\epsilon$-ball construction. If the satellites cannot agree who is a valid connection,\n",
    "the graph becomes directed, and the controller no longer represents a spring system.\n"
   ]
  },
  {
   "cell_type": "code",
   "execution_count": null,
   "metadata": {},
   "outputs": [],
   "source": [
    "import numpy as np\n",
    "import matplotlib.pyplot as plt\n",
    "from scipy.spatial.qhull import Delaunay"
   ]
  },
  {
   "cell_type": "markdown",
   "metadata": {},
   "source": [
    "## Configuration\n",
    "\n",
    "To model the multi-agent scenario with CSAF, each satellite agent is modeled as a single component. Each agent is parameterized with the following component configuration:"
   ]
  },
  {
   "cell_type": "code",
   "execution_count": null,
   "metadata": {},
   "outputs": [],
   "source": [
    "!cat /csaf-system/components/satplant.toml"
   ]
  },
  {
   "cell_type": "markdown",
   "metadata": {},
   "source": [
    "Each agent is assigned an identity index `idx` in addition to the parameters mentioned in the linear model; the controller uses this index to assign each agent input forces. This index value, as well as the initial state, is changed inside the configuration object before system creation. "
   ]
  },
  {
   "cell_type": "code",
   "execution_count": null,
   "metadata": {},
   "outputs": [],
   "source": [
    "import csaf.config as cconf\n",
    "import csaf.system as csys\n",
    "\n",
    "# create a csaf configuration out of toml\n",
    "my_conf = cconf.SystemConfig.from_toml(\"/csaf-system/cansat_rejoin_config.toml\")"
   ]
  },
  {
   "cell_type": "code",
   "execution_count": null,
   "metadata": {},
   "outputs": [],
   "source": [
    "def set_sat_idx(conf, identifier, number):\n",
    "    conf.config_dict['components'][identifier+str(number)]\\\n",
    "    ['config']['parameters']['idx']=number\n",
    "    \n",
    "def set_sat_state(conf, identifier, number, state):\n",
    "    my_conf.config_dict['components'][identifier+str(number)]\\\n",
    "    ['config']['topics']['states']['initial'] = state"
   ]
  },
  {
   "cell_type": "code",
   "execution_count": null,
   "metadata": {},
   "outputs": [],
   "source": [
    "states = [[10, -10, -2.0, 2.1], \n",
    "            [10, -7, 0.7, 0.0], \n",
    "            [-12, -7, -0.3, 1.0],\n",
    "            [10, 0, -0.2, .1]]\n",
    "\n",
    "for idx, state in enumerate(states):\n",
    "    set_sat_idx(my_conf, 'can', idx)\n",
    "    set_sat_state(my_conf, 'can', idx, state)"
   ]
  },
  {
   "cell_type": "code",
   "execution_count": null,
   "metadata": {},
   "outputs": [],
   "source": [
    "from IPython.display import Image\n",
    "\n",
    "import pathlib\n",
    "\n",
    "plot_fname = f\"pub-sub-plot.png\"\n",
    "\n",
    "# plot configuration pub/sub diagram as a file -- proj specicies a dot executbale and -Gdpi is a valid dot\n",
    "# argument to change the image resolution\n",
    "my_conf.plot_config(fname=pathlib.Path(plot_fname).resolve(), prog=[\"dot\", \"-Gdpi=400\"])\n",
    "\n",
    "# display written file to notebook\n",
    "Image(plot_fname, height=600)"
   ]
  },
  {
   "cell_type": "markdown",
   "metadata": {},
   "source": [
    "## Simulation\n",
    "\n",
    "After configuration, the CSAF system is simulated via the method `System.simulate_tspan`. The returned traces `trajs` capture the trajectories of each agent as the controller applies the forces."
   ]
  },
  {
   "cell_type": "code",
   "execution_count": null,
   "metadata": {},
   "outputs": [],
   "source": [
    "# create pub/sub components out of the configuration\n",
    "my_system = csys.System.from_config(my_conf)\n",
    "\n",
    "simulation_timespan = [0, 25.0]\n",
    "\n",
    "# simulate and collect time traces out of the components\n",
    "trajs = my_system.simulate_tspan(simulation_timespan, show_status=True)\n",
    "\n",
    "# destroy components and unbind all used sockets\n",
    "my_system.unbind() "
   ]
  },
  {
   "cell_type": "code",
   "execution_count": null,
   "metadata": {},
   "outputs": [],
   "source": [
    "# pack states into convenient data structure\n",
    "states = [np.array(trajs['can'+str(idx)].states) for idx in range(4)]"
   ]
  },
  {
   "cell_type": "code",
   "execution_count": null,
   "metadata": {},
   "outputs": [],
   "source": [
    "# create a plot of initial and final state\n",
    "def plot_satellites(ax, sats, use_tri=True):\n",
    "    ax.set_xlim([-20, 20])\n",
    "    ax.set_ylim([-20, 20])\n",
    "    points = np.array([(0, 0)] + [s[:2] for s in sats])\n",
    "    for idx, p in enumerate(points):\n",
    "        ax.scatter(*p)\n",
    "        ax.text(p[0]-0.5, p[1]+0.5, f\"{'chief ' if idx == 0 else 'chaser '}{idx}\")\n",
    "    ax.set_xlabel(\"x (m)\")\n",
    "    ax.set_ylabel(\"y (m)\")\n",
    "    if use_tri:\n",
    "        tri = Delaunay(points)\n",
    "        ax.triplot(points[:,0], points[:,1], tri.simplices, '--')\n",
    "\n",
    "fig, ax = plt.subplots(figsize=(16, 8), ncols=2, sharey=True, sharex=True)\n",
    "plot_satellites(ax[0], [s[0, :] for s in states])\n",
    "plot_satellites(ax[1], [s[-1, :] for s in states])\n",
    "ax[0].set_title(\"Initial State\")\n",
    "ax[1].set_title(\"Final State\")\n",
    "plt.show()"
   ]
  },
  {
   "cell_type": "markdown",
   "metadata": {},
   "source": [
    "## Animation\n",
    "\n",
    "When running the Jupyter notebook, animation is available to view the trajectories as a movie. Uncomment the following code and run."
   ]
  },
  {
   "cell_type": "code",
   "execution_count": null,
   "metadata": {},
   "outputs": [],
   "source": [
    "#%matplotlib notebook\n",
    "#import sys\n",
    "#sys.path.append('/csaf-system')\n",
    "#from cansat_plot import plot_sats_anim\n",
    "\n",
    "#ani = plot_sats_anim(states)\n",
    "#from IPython.display import HTML\n",
    "#HTML(ani.to_jshtml())"
   ]
  },
  {
   "cell_type": "code",
   "execution_count": null,
   "metadata": {},
   "outputs": [],
   "source": []
  }
 ],
 "metadata": {
  "kernelspec": {
   "display_name": "Python 3",
   "language": "python",
   "name": "python3"
  },
  "language_info": {
   "codemirror_mode": {
    "name": "ipython",
    "version": 3
   },
   "file_extension": ".py",
   "mimetype": "text/x-python",
   "name": "python",
   "nbconvert_exporter": "python",
   "pygments_lexer": "ipython3",
   "version": "3.6.9"
  }
 },
 "nbformat": 4,
 "nbformat_minor": 4
}
