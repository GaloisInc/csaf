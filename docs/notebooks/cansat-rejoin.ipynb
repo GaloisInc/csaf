{
 "cells": [
  {
   "cell_type": "markdown",
   "metadata": {},
   "source": [
    "# Can Sat Rejoin Example\n",
    "\n",
    "The can sat model was taken from the [Aerospace RL repo](https://github.com/act3-ace/aerospaceRL). It is a simple 2D model that uses applied forces to move a satellite\n",
    "agent around a plane. The coordinate system is relative to a \"chief\" satellite, where a chaser satellite is attempting to\n",
    "approach without crashing into it. For the multi-agent work, this was extended to 4 chaser satellites, that all attempt to\n",
    "approach the chief satellite without crashing into the chief or one another.\n",
    "\n",
    "The model has a 4D state space, $(x,y)$ position and $(\\dot x, \\dot y)$ velocities. The input space consists of two input forces,\n",
    "$\\mathbf{F} = (F_x, F_y)^T$. The state evolution function can be written\n",
    "as\n",
    "\n",
    "  \\begin{equation}\n",
    "\\dot{\\mathbf{x}} = \\begin{bmatrix} x_2 \\\\\n",
    " x_3 \\\\\n",
    "3 n^2 x_0 + 2 n x_3 + \\frac{1}{m_c} F_x\\\\\n",
    "-2 n x_2 + \\frac{1}{m_c} F_y \\end{bmatrix}\n",
    "  \\end{equation}\n",
    "\n",
    "For a common linear representation,\n",
    "\n",
    "  \\begin{equation}\n",
    "\\dot{\\mathbf{x}} = \\begin{bmatrix} 0 && 0 && 1 && 0 \\\\\n",
    " 0 && 0 && 0 && 1 \\\\\n",
    "3 n^2 && 0 && 0 && 2 n \\\\\n",
    "0 && 0 && -2 n && 0 \\end{bmatrix} \\mathbf{x} +\n",
    "\\begin{bmatrix}\n",
    "0 && 0 \\\\\n",
    "0 && 0 \\\\\n",
    "\\frac{1}{m_c} && 0 \\\\\n",
    "0 && \\frac{1}{m_c} \\\\\n",
    "\\end{bmatrix} \\mathbf{F}\n",
    "  \\end{equation}\n",
    "\n",
    "  \n",
    "  \n",
    "## Controller Design\n",
    "\n",
    "This new, multi-agent oriented goal meant that a suitable controller should be designed. While the benchmark system is meant for\n",
    "RL, a simple spring system approach was taken. The input force for each element can be accomplished in three steps\n",
    "\n",
    "1.  Construct an undirected graph of satellites $\\mathcal S$ and connections $\\mathcal C$ to nearby satellites,\n",
    "    $$\\mathcal G = (\\mathcal S, \\mathcal C)$$\n",
    "2.  Construct a damped spring system by assigning a spring and damping constant to each connection.\n",
    "3.  Solve for the force applied to each node, and use that as a control policy for each satellite. For satellite $s_i$,\n",
    "    the force $F_i$ applied to the input would be,\n",
    "    \n",
    "    $$\\mathbf{F_i} = \\sum_{s_j \\in \\text{neighbors}} k_p (||\\mathbf r||_2 - r_l) + k_d || \\operatorname{proj} (\\mathbf v_r, \\hat{\\mathbf r})||_2 $$\n",
    "    \n",
    "    where $\\mathbf r = {\\mathbf x_{j,:2} -\\mathbf  x_{i,:2}}$, $\\mathbf v_r = {\\mathbf x_{j, 2:} - \\mathbf x_{i, 2:}}$, $r_l$ is the spring rest length,\n",
    "    $k_p$ is the spring constant, and $k_d$ is the damping factor. The rest length in this case is defines the ideal final distances that\n",
    "    all satellites should have to one another.\n",
    "\n",
    "Also, this technique can be done in a centralized or distributed fashion. Notably, should all satellites be able to detect one another\n",
    "symmetrically, step (1) can be accomplished per satellite by &epsilon;-ball construction. If the satellites cannot agree who is a valid connection,\n",
    "the graph becomes directed, and no longer solves a spring system.\n",
    "\n",
    "\n",
    "\n"
   ]
  },
  {
   "cell_type": "code",
   "execution_count": null,
   "metadata": {},
   "outputs": [],
   "source": [
    "import numpy as np\n",
    "import matplotlib.pyplot as plt"
   ]
  },
  {
   "cell_type": "markdown",
   "metadata": {},
   "source": [
    "## Configuration"
   ]
  },
  {
   "cell_type": "code",
   "execution_count": null,
   "metadata": {},
   "outputs": [],
   "source": [
    "import csaf.config as cconf\n",
    "import csaf.system as csys\n",
    "\n",
    "# create a csaf configuration out of toml\n",
    "my_conf = cconf.SystemConfig.from_toml(\"/csaf-system/cansat_rejoin_config.toml\")"
   ]
  },
  {
   "cell_type": "code",
   "execution_count": null,
   "metadata": {},
   "outputs": [],
   "source": [
    "my_conf.config_dict['components']['can0']['config']['parameters']['idx']=1"
   ]
  },
  {
   "cell_type": "code",
   "execution_count": null,
   "metadata": {},
   "outputs": [],
   "source": [
    "def set_sat_idx(conf, identifier, number):\n",
    "    conf.config_dict['components'][identifier+str(number)]['config']['parameters']['idx']=number\n",
    "    \n",
    "def set_sat_state(conf, identifier, number, state):\n",
    "    my_conf.config_dict['components']['can'+str(number)]['config']['topics']['states']['initial'] = state"
   ]
  },
  {
   "cell_type": "code",
   "execution_count": null,
   "metadata": {},
   "outputs": [],
   "source": [
    "states = [[-10.0, -7.0, 0.0, 0], [-10.5, 10.5, 0.0, 0], [0.0, 10.0, -0.5, 0], [10.0, -7.0, 0.5, 0.03]]\n",
    "\n",
    "for idx, state in enumerate(states):\n",
    "    set_sat_idx(my_conf, 'can', idx)\n",
    "    set_sat_state(my_conf, 'can', idx, state)"
   ]
  },
  {
   "cell_type": "code",
   "execution_count": null,
   "metadata": {},
   "outputs": [],
   "source": [
    "from IPython.display import Image\n",
    "\n",
    "import pathlib\n",
    "\n",
    "plot_fname = f\"pub-sub-plot.png\"\n",
    "\n",
    "# plot configuration pub/sub diagram as a file -- proj specicies a dot executbale and -Gdpi is a valid dot\n",
    "# argument to change the image resolution\n",
    "my_conf.plot_config(fname=pathlib.Path(plot_fname).resolve(), prog=[\"dot\", \"-Gdpi=400\"])\n",
    "\n",
    "# display written file to notebook\n",
    "Image(plot_fname, height=600)"
   ]
  },
  {
   "cell_type": "markdown",
   "metadata": {},
   "source": [
    "## Simulation"
   ]
  },
  {
   "cell_type": "code",
   "execution_count": null,
   "metadata": {},
   "outputs": [],
   "source": [
    "# create pub/sub components out of the configuration\n",
    "my_system = csys.System.from_config(my_conf)\n",
    "\n",
    "simulation_timespan = [0, 25.0]\n",
    "\n",
    "# simulate and collect time traces out of the components\n",
    "trajs = my_system.simulate_tspan(simulation_timespan, show_status=True)\n",
    "\n",
    "# destroy components and unbind all used sockets\n",
    "my_system.unbind() "
   ]
  },
  {
   "cell_type": "code",
   "execution_count": null,
   "metadata": {},
   "outputs": [],
   "source": [
    "# pack states into convenient data structure\n",
    "states = [np.array(trajs['can'+str(idx)].states) for idx in range(4)]"
   ]
  },
  {
   "cell_type": "code",
   "execution_count": null,
   "metadata": {},
   "outputs": [],
   "source": [
    "# create a plot of initial and final state\n",
    "fig, ax = plt.subplots(figsize=(16, 8), ncols=2, sharey=True, sharex=True)\n",
    "ax[0].set_xlabel('X (m)')\n",
    "ax[1].set_xlabel('X (m)')\n",
    "ax[0].set_ylabel('Y (m)')\n",
    "ax[0].scatter(0, 0)\n",
    "ax[1].scatter(0, 0)\n",
    "ax[0].text(*np.array([-1, .5]), f'chief')\n",
    "ax[1].text(*np.array([-1, .5]), f'chief')\n",
    "ax[0].set_title(\"Initial State\")\n",
    "ax[1].set_title(\"Final State\")\n",
    "for i in range(4):\n",
    "    ax[0].text(*states[i][0, :2]+np.array([-1, .5]), f'chaser-{i}')\n",
    "    ax[1].text(*states[i][-1, :2]+np.array([-1, .5]), f'chaser-{i}')\n",
    "    ax[0].scatter(*states[i][0, :2])\n",
    "    ax[1].scatter(*states[i][-1, :2])"
   ]
  },
  {
   "cell_type": "markdown",
   "metadata": {},
   "source": [
    "## Animation"
   ]
  },
  {
   "cell_type": "code",
   "execution_count": null,
   "metadata": {},
   "outputs": [],
   "source": [
    "# can sat animation creator\n",
    "import matplotlib.pyplot as plt\n",
    "import matplotlib.animation\n",
    "from matplotlib.colors import LinearSegmentedColormap\n",
    "\n",
    "\n",
    "def plot_sats(states):\n",
    "    fig, ax = plt.subplots(figsize=(8, 8))\n",
    "    ax.set_xlabel('X (m)', size = 12)\n",
    "    ax.set_ylabel('Y (m)', size = 12)\n",
    "    ax.set_xlim([-20, 20])\n",
    "    ax.set_ylim([-20, 20])\n",
    "    ax.set_aspect('equal')\n",
    "    x_vals = []\n",
    "    y_vals = []\n",
    "    intensity = []\n",
    "    iterations = 100\n",
    "\n",
    "    t_vals = np.linspace(0,1, iterations)\n",
    "\n",
    "    colors = [[0,0,1,0],[0,0,1,0.5],[0,0.2,0.4,1]]\n",
    "    cmap = LinearSegmentedColormap.from_list(\"\", colors)\n",
    "    scatter = ax.scatter(x_vals,y_vals, c=[], cmap=cmap, vmin=0,vmax=1, s=5, label=\"Chaser Satellites\")\n",
    "    ax.scatter(0, 0, c='r', label=\"Chief Satellite\")\n",
    "    a_circle = plt.Circle((0, 0), 3.0, color='k', fill=False)\n",
    "    ax.add_artist(a_circle)\n",
    "    ax.legend()\n",
    "\n",
    "    def get_new_vals(i):\n",
    "        n = np.random.randint(1,5)\n",
    "        x = [s[i, 0] for s in states]\n",
    "        y = [s[i, 1] for s in states]\n",
    "        return list(x), list(y)\n",
    "\n",
    "    def update(t):\n",
    "        nonlocal x_vals, y_vals, intensity\n",
    "        new_xvals, new_yvals = get_new_vals(t)\n",
    "        x_vals.extend(new_xvals)\n",
    "        y_vals.extend(new_yvals)\n",
    "\n",
    "        scatter.set_offsets(np.c_[x_vals,y_vals])\n",
    "\n",
    "        intensity = np.concatenate((np.array(intensity)*0.96, np.ones(len(new_xvals))))\n",
    "        scatter.set_array(intensity)\n",
    "        xb = [np.min(np.concatenate([s[t-100:, 0] for s in states])), \n",
    "                        np.max(np.concatenate([s[t-100:, 0] for s in states]))]\n",
    "        yb = [np.min(np.concatenate([s[t-100:, 1] for s in states])), \n",
    "                        np.max(np.concatenate([s[t-100:, 1] for s in states]))]\n",
    "        if t > 100:\n",
    "            ax.set_xlim(xb[0] - 0.1 * np.abs(xb[0]), xb[1] + 0.1 * np.abs(xb[1]))\n",
    "            ax.set_ylim(yb[0] - 0.1 * np.abs(yb[0]), yb[1] + 0.1 * np.abs(yb[1]))\n",
    "\n",
    "        ax.set_title('Can Satellite Constellation Rejoin (Epoch: %d)' %t)\n",
    "\n",
    "    return matplotlib.animation.FuncAnimation(fig, update, frames=1000,interval=50)"
   ]
  },
  {
   "cell_type": "code",
   "execution_count": null,
   "metadata": {},
   "outputs": [],
   "source": [
    "%matplotlib notebook\n",
    "ani = plot_sats(states)"
   ]
  },
  {
   "cell_type": "code",
   "execution_count": null,
   "metadata": {},
   "outputs": [],
   "source": [
    "from IPython.display import HTML\n",
    "HTML(ani.to_jshtml())"
   ]
  },
  {
   "cell_type": "code",
   "execution_count": null,
   "metadata": {},
   "outputs": [],
   "source": []
  }
 ],
 "metadata": {
  "kernelspec": {
   "display_name": "Python 3",
   "language": "python",
   "name": "python3"
  },
  "language_info": {
   "codemirror_mode": {
    "name": "ipython",
    "version": 3
   },
   "file_extension": ".py",
   "mimetype": "text/x-python",
   "name": "python",
   "nbconvert_exporter": "python",
   "pygments_lexer": "ipython3",
   "version": "3.6.9"
  }
 },
 "nbformat": 4,
 "nbformat_minor": 4
}
