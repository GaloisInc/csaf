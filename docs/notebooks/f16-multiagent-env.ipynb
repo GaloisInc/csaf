{
 "cells": [
  {
   "cell_type": "markdown",
   "id": "ce26f86a",
   "metadata": {},
   "source": [
    "# F16 Multiagent Environment\n",
    "\n",
    "\n",
    "This notebook outlines the use of a multiagent F16 air collision avoidance scenario, exposing the control inputs/outputs to an external environment. Two F16s and their low level controller, labeled a and b, are instantiated for this scenario. This setup is centralized, meaning that the agent states and agent actions are exposed.\n",
    "\n",
    "## Inputs\n",
    "The system topology inputs are\n",
    "\n",
    "`time` float - current simulation time\n",
    "\n",
    "`planta-states`(13,) - state vector for F16 \"a\"\n",
    "\n",
    "`controllera-states` (3,) - low level controller integrators for F16 \"a\" \n",
    "\n",
    "`plantb-states` (13,) - state vector for F16 \"b\"\n",
    "\n",
    "`controllerb-states` (3,) - low level controller integrators for F16 \"b\" \n",
    "\n",
    "## Outputs\n",
    "\n",
    "`autopilot-outputsa` (4,) - high level control input for F16 \"a\"\n",
    "\n",
    "`autopilot-outputsb` (4,) - high level control input for F16 \"b\""
   ]
  },
  {
   "cell_type": "markdown",
   "id": "ae255ed7",
   "metadata": {},
   "source": [
    "## System Configuration"
   ]
  },
  {
   "cell_type": "code",
   "execution_count": null,
   "id": "f7db0fe3",
   "metadata": {},
   "outputs": [],
   "source": [
    "import numpy as np\n",
    "import matplotlib.pyplot as plt\n",
    "\n",
    "# CSAF Imports\n",
    "import csaf.config as cconf\n",
    "import csaf.system as csys\n",
    "\n",
    "# load the centralized multiagent config\n",
    "my_conf = cconf.SystemConfig.from_toml(\"/csaf-system/f16_multiagent_central_config.toml\")"
   ]
  },
  {
   "cell_type": "code",
   "execution_count": null,
   "id": "faaa2603",
   "metadata": {},
   "outputs": [],
   "source": [
    "# view the CSAF system topology\n",
    "from IPython.display import Image\n",
    "\n",
    "import pathlib\n",
    "\n",
    "plot_fname = f\"pub-sub-plot.png\"\n",
    "\n",
    "# plot configuration pub/sub diagram as a file -- proj specicies a dot executbale and -Gdpi is a valid dot\n",
    "# argument to change the image resolution\n",
    "my_conf.plot_config(fname=pathlib.Path(plot_fname).resolve(), prog=[\"dot\", \"-Gdpi=400\"])\n",
    "\n",
    "# display written file to notebook\n",
    "Image(plot_fname, height=600)"
   ]
  },
  {
   "cell_type": "markdown",
   "id": "c2d1c5a5",
   "metadata": {},
   "source": [
    "## Simulation Config\n",
    "\n",
    "Steps to configure\n",
    "\n",
    "1. the collision condition\n",
    "2. the system environment\n",
    "3. initial state of each aircraft"
   ]
  },
  {
   "cell_type": "code",
   "execution_count": null,
   "id": "a52ba930",
   "metadata": {},
   "outputs": [],
   "source": [
    "# termination condition -- what *is* an air collision\n",
    "def air_collision_condition(ctraces):\n",
    "        \"\"\"ground collision premature termnation condition\n",
    "        \n",
    "        Collision occurs if two aircraft are within l meters of one another\n",
    "        \"\"\"\n",
    "        # get the aircraft states\n",
    "        sa, sb = ctraces['planta']['states'], ctraces['plantb']['states']\n",
    "        if sa and sb:\n",
    "            # look at distance between last state\n",
    "            return (np.linalg.norm(np.array(sa[-1][9:11]) - np.array(sb[-1][9:11]))) < 10"
   ]
  },
  {
   "cell_type": "code",
   "execution_count": null,
   "id": "970b5970",
   "metadata": {},
   "outputs": [],
   "source": [
    "# create pub/sub components out of the configuration\n",
    "my_system = csys.System.from_config(my_conf)\n",
    "\n",
    "# create an environment from the system, allowing us to act as the controller\n",
    "my_env = csys.SystemEnv(\"autopilot\", my_system, terminating_conditions_all=air_collision_condition)"
   ]
  },
  {
   "cell_type": "code",
   "execution_count": null,
   "id": "e613724d",
   "metadata": {},
   "outputs": [],
   "source": [
    "# set the scenario states\n",
    "my_system.set_state('planta', [500.0, 0.0, 0.0, 0.0, 0.0, 0.0, 0.0, 0.0, 0.0, 0.0, 0.0, 6000.0, 9.0])\n",
    "my_system.set_state('plantb', [500.0, 0.0, 0.0, 0.0, 0.0, np.pi, 0.0, 0.0, 0.0, 2000.0, 0.0, 6000.0, 9.0])"
   ]
  },
  {
   "cell_type": "markdown",
   "id": "dcd989f0",
   "metadata": {},
   "source": [
    "## Run a Simulation"
   ]
  },
  {
   "cell_type": "code",
   "execution_count": null,
   "id": "2a3133a2",
   "metadata": {},
   "outputs": [],
   "source": [
    "# collect aircraft states\n",
    "pstates = []\n",
    "\n",
    "# send signal of zeros - for this example, send only zeros except for throttle\n",
    "ctrl_signal = [0.,0.,0.,0.7]\n",
    "\n",
    "# step through simulation and collect f16 states\n",
    "# StopIteration is thrown when the terminating conditions are achieved\n",
    "do_sim = True\n",
    "while do_sim:\n",
    "    try:\n",
    "        # send the outputs, can collect the inputs\n",
    "        comp_input = my_env.step({\"autopilot-outputsa\": ctrl_signal, \"autopilot-outputsb\": ctrl_signal}) \n",
    "        \n",
    "        # get the states and track them over time\n",
    "        pstates.append((comp_input['planta-states'], comp_input['plantb-states']))\n",
    "    \n",
    "    # stop iteration occurs when the termination conditions are satisfied\n",
    "    except StopIteration as e:\n",
    "        do_sim = False\n",
    "        break\n",
    "        \n",
    "    # other errors can occur -- maybe solver error\n",
    "    except Exception as e:\n",
    "        raise e\n",
    "        break\n",
    "        \n",
    "pstates = np.array(pstates)"
   ]
  },
  {
   "cell_type": "code",
   "execution_count": null,
   "id": "db7ceb09",
   "metadata": {},
   "outputs": [],
   "source": []
  }
 ],
 "metadata": {
  "kernelspec": {
   "display_name": "Python 3",
   "language": "python",
   "name": "python3"
  },
  "language_info": {
   "codemirror_mode": {
    "name": "ipython",
    "version": 3
   },
   "file_extension": ".py",
   "mimetype": "text/x-python",
   "name": "python",
   "nbconvert_exporter": "python",
   "pygments_lexer": "ipython3",
   "version": "3.6.9"
  }
 },
 "nbformat": 4,
 "nbformat_minor": 5
}
