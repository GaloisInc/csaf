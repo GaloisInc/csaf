{
 "cells": [
  {
   "cell_type": "code",
   "execution_count": null,
   "metadata": {
    "scrolled": true
   },
   "outputs": [],
   "source": [
    "import numpy as np\n",
    "import matplotlib.pyplot as plt\n",
    "\n",
    "# CSAF Imports\n",
    "import csaf.config as cconf\n",
    "import csaf.system as csys\n",
    "\n",
    "# create a csaf configuration out of toml\n",
    "my_conf = cconf.SystemConfig.from_toml(\"/csaf-system/f16_simple_config.toml\")"
   ]
  },
  {
   "cell_type": "code",
   "execution_count": null,
   "metadata": {},
   "outputs": [],
   "source": [
    "# termination condition\n",
    "def ground_collision_condition(cname, outs):\n",
    "        \"\"\"ground collision premature termnation condition\"\"\"\n",
    "        return cname == \"plant\" and outs[\"states\"][11] <= 0.0\n",
    "\n",
    "# create pub/sub components out of the configuration\n",
    "my_system = csys.System.from_config(my_conf)\n",
    "\n",
    "# create an environment from the system, allowing us to act as the controller\n",
    "my_env = csys.SystemEnv(\"autopilot\", my_system, terminating_conditions=ground_collision_condition)"
   ]
  },
  {
   "cell_type": "code",
   "execution_count": null,
   "metadata": {},
   "outputs": [],
   "source": [
    "# collect aircraft states\n",
    "pstates = []\n",
    "\n",
    "# send signal of zeros\n",
    "ctrl_signal = [0.,0.,0.,0.]\n",
    "\n",
    "# step through simulation and collect f16 states\n",
    "do_sim = True\n",
    "while do_sim:\n",
    "    comp_input = my_env.step({\"autopilot-states\": [\"Waiting\"], \"autopilot-fdas\": [\"Waiting\"], \"autopilot-outputs\": ctrl_signal})\n",
    "    if isinstance(comp_input, bool):\n",
    "        do_sim = False\n",
    "    else:\n",
    "        pstates.append(comp_input['plant-states'])\n",
    "pstates = np.array(pstates)"
   ]
  },
  {
   "cell_type": "code",
   "execution_count": null,
   "metadata": {},
   "outputs": [],
   "source": [
    "# plot the results\n",
    "plt.plot(pstates[:, 11], label='F16 Altitude')\n",
    "plt.xlabel(\"Step Index [n]\")\n",
    "plt.ylabel(\"[ft]\")\n",
    "plt.legend()\n",
    "plt.show()"
   ]
  },
  {
   "cell_type": "code",
   "execution_count": null,
   "metadata": {},
   "outputs": [],
   "source": []
  }
 ],
 "metadata": {
  "kernelspec": {
   "display_name": "Python 3",
   "language": "python",
   "name": "python3"
  },
  "language_info": {
   "codemirror_mode": {
    "name": "ipython",
    "version": 3
   },
   "file_extension": ".py",
   "mimetype": "text/x-python",
   "name": "python",
   "nbconvert_exporter": "python",
   "pygments_lexer": "ipython3",
   "version": "3.6.9"
  }
 },
 "nbformat": 4,
 "nbformat_minor": 4
}
