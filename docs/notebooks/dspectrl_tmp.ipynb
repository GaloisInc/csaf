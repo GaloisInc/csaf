{
 "cells": [
  {
   "cell_type": "code",
   "execution_count": null,
   "id": "f7db0fe3",
   "metadata": {},
   "outputs": [],
   "source": [
    "import numpy as np\n",
    "import matplotlib.pyplot as plt\n",
    "\n",
    "# CSAF Imports\n",
    "import csaf.config as cconf\n",
    "import csaf.system as csys\n",
    "\n",
    "# create a csaf configuration out of toml\n",
    "my_conf = cconf.SystemConfig.from_toml(\"/csaf-system/f16_multiagent_central_config.toml\")"
   ]
  },
  {
   "cell_type": "code",
   "execution_count": null,
   "id": "faaa2603",
   "metadata": {},
   "outputs": [],
   "source": [
    "from IPython.display import Image\n",
    "\n",
    "import pathlib\n",
    "\n",
    "plot_fname = f\"pub-sub-plot.png\"\n",
    "\n",
    "# plot configuration pub/sub diagram as a file -- proj specicies a dot executbale and -Gdpi is a valid dot\n",
    "# argument to change the image resolution\n",
    "my_conf.plot_config(fname=pathlib.Path(plot_fname).resolve(), prog=[\"dot\", \"-Gdpi=400\"])\n",
    "\n",
    "# display written file to notebook\n",
    "Image(plot_fname, height=600)"
   ]
  },
  {
   "cell_type": "code",
   "execution_count": null,
   "id": "a52ba930",
   "metadata": {},
   "outputs": [],
   "source": [
    "def air_collision_condition(ctraces):\n",
    "        \"\"\"ground collision premature termnation condition\n",
    "        TODO: I had to alter the terminating conditions to support this expression\n",
    "        \"\"\"\n",
    "        # get the aircraft states\n",
    "        sa, sb = ctraces['planta']['states'], ctraces['plantb']['states']\n",
    "        if sa and sb:\n",
    "            # look at distance between last state\n",
    "            return (np.linalg.norm(np.array(sa[-1][9:11]) - np.array(sb[-1][9:11]))) < 10"
   ]
  },
  {
   "cell_type": "code",
   "execution_count": null,
   "id": "970b5970",
   "metadata": {},
   "outputs": [],
   "source": [
    "# create pub/sub components out of the configuration\n",
    "my_system = csys.System.from_config(my_conf)\n",
    "\n",
    "# create an environment from the system, allowing us to act as the controller\n",
    "my_env = csys.SystemEnv(\"autopilot\", my_system, terminating_conditions_all=air_collision_condition)"
   ]
  },
  {
   "cell_type": "code",
   "execution_count": null,
   "id": "e613724d",
   "metadata": {},
   "outputs": [],
   "source": [
    "# set the scenario states\n",
    "my_system.set_state('planta', [500.0, 0.0, 0.0, 0.0, 0.0, 0.0, 0.0, 0.0, 0.0, 0.0, 0.0, 6000.0, 9.0])\n",
    "my_system.set_state('plantb', [500.0, 0.0, 0.0, 0.0, 0.0, np.pi, 0.0, 0.0, 0.0, 2000.0, 0.0, 6000.0, 9.0])"
   ]
  },
  {
   "cell_type": "code",
   "execution_count": null,
   "id": "2a3133a2",
   "metadata": {},
   "outputs": [],
   "source": [
    "# collect aircraft states\n",
    "pstates = []\n",
    "\n",
    "# send signal of zeros\n",
    "ctrl_signal = [0.,0.,0.,0.]\n",
    "\n",
    "# step through simulation and collect f16 states\n",
    "# StopIteration is thrown when the terminating conditions are achieved\n",
    "do_sim = True\n",
    "while do_sim:\n",
    "    try:\n",
    "        comp_input = my_env.step({\"autopilot-outputsa\": ctrl_signal, \"autopilot-outputsb\": ctrl_signal}) \n",
    "        pstates.append((comp_input['planta-states'], comp_input['plantb-states']))\n",
    "        print(pstates[-1][0])\n",
    "    except StopIteration as e:\n",
    "        print(e)\n",
    "        do_sim = False\n",
    "        break\n",
    "    except Exception as e:\n",
    "        raise e\n",
    "        break\n",
    "pstates = np.array(pstates)"
   ]
  },
  {
   "cell_type": "code",
   "execution_count": null,
   "id": "6e5c57d8",
   "metadata": {},
   "outputs": [],
   "source": []
  }
 ],
 "metadata": {
  "kernelspec": {
   "display_name": "Python 3",
   "language": "python",
   "name": "python3"
  },
  "language_info": {
   "codemirror_mode": {
    "name": "ipython",
    "version": 3
   },
   "file_extension": ".py",
   "mimetype": "text/x-python",
   "name": "python",
   "nbconvert_exporter": "python",
   "pygments_lexer": "ipython3",
   "version": "3.6.9"
  }
 },
 "nbformat": 4,
 "nbformat_minor": 5
}
