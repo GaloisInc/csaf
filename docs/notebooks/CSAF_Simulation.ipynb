{
 "cells": [
  {
   "cell_type": "markdown",
   "metadata": {},
   "source": [
    "# CSAF System Simulation\n",
    "\n",
    "## Overview\n",
    "\n",
    "This notebook illustrates how to take a system configuration TOML file and generate pub/sub components that can be used for simulation of controlled systems. By default, it exposes all examples in the `examples/` directory, but custom toml files can be passed by changing the `config_filename` variable."
   ]
  },
  {
   "cell_type": "code",
   "execution_count": null,
   "metadata": {},
   "outputs": [],
   "source": [
    "# CSAF imports\n",
    "# add csaf to path via sys module, and then import the submodules with config and system objects\n",
    "import sys\n",
    "sys.path.append(\"../../src/\")\n",
    "\n",
    "import csaf.config as cconf\n",
    "import csaf.system as csys"
   ]
  },
  {
   "cell_type": "code",
   "execution_count": null,
   "metadata": {},
   "outputs": [],
   "source": [
    "# IPython display and formatting imports\n",
    "from IPython.display import display, Markdown, Image\n",
    "\n",
    "# numerical processing and plotting utilities \n",
    "import numpy as np\n",
    "import matplotlib.pyplot as plt"
   ]
  },
  {
   "cell_type": "markdown",
   "metadata": {},
   "source": [
    "## Example Selection and Notebook Configuration"
   ]
  },
  {
   "cell_type": "code",
   "execution_count": null,
   "metadata": {
    "scrolled": true
   },
   "outputs": [],
   "source": [
    "## list the example names that the user is allowed to run under the `example_name` variable\n",
    "import pathlib\n",
    "\n",
    "def grab_configurations():\n",
    "    \"\"\"populate a dictionary of example names and paths to their respective toml configuration files\"\"\"\n",
    "    example_dir = pathlib.Path(\"../../examples/\").resolve()\n",
    "    return {\" \".join(path.stem.split(\"_\")[:-1]):str(path) for path in example_dir.rglob('*config.toml')}\n",
    "\n",
    "example_configs = grab_configurations()\n",
    "\n",
    "# pretty print to markdown\n",
    "display(Markdown(\"### Examples\"))\n",
    "display(Markdown(\"* \" + \"\\n* \".join(example_configs.keys())))"
   ]
  },
  {
   "cell_type": "code",
   "execution_count": null,
   "metadata": {},
   "outputs": [],
   "source": [
    "# change to a valid filepath to use a custom system\n",
    "config_filename = None\n",
    "\n",
    "# name of example to run (see list above for the correct name)\n",
    "example_name = \"inv pendulum\"\n",
    "\n",
    "# name of pub/sub diagram to save (change extension if necessary)\n",
    "plot_fname = f\"pub-sub-plot.png\"\n",
    "\n",
    "# timespan to simulate over (in seconds)\n",
    "simulation_timespan = [0, 35.0]"
   ]
  },
  {
   "cell_type": "markdown",
   "metadata": {},
   "source": [
    "## CSAF Configuration\n",
    "\n",
    "A complete system description, including a description of the individual components, is spread over many files that need to be loaded by the CSAF package. The `SystemConfig` class is responsible for storing these descriptions into a comprehensive data structure, as well as checking that certain description properties hold. The `.plot_config` method provides a method to view the configuration as a pub/sub diagram."
   ]
  },
  {
   "cell_type": "code",
   "execution_count": null,
   "metadata": {},
   "outputs": [],
   "source": [
    "# ensure that the example name is valid\n",
    "assert example_name in example_configs, f\"{example_name} not found in valid configs {list(example_configs.keys())}\"\n",
    "\n",
    "# create a csaf configuration out of toml\n",
    "my_conf = cconf.SystemConfig.from_toml(config_filename \\\n",
    "                                       if config_filename is not None \\\n",
    "                                       else example_configs[example_name])"
   ]
  },
  {
   "cell_type": "code",
   "execution_count": null,
   "metadata": {},
   "outputs": [],
   "source": [
    "# plot configuration pub/sub diagram as a file -- proj specicies a dot executbale and -Gdpi is a valid dot\n",
    "# argument to change the image resolution\n",
    "my_conf.plot_config(fname=pathlib.Path(plot_fname).resolve(), prog=[\"dot\", \"-Gdpi=200\"])\n",
    "\n",
    "# display written file to notebook\n",
    "Image(plot_fname, height=600)"
   ]
  },
  {
   "cell_type": "markdown",
   "metadata": {},
   "source": [
    "## CSAF System\n",
    "\n",
    "Once the CSAF coniguration loads the needed data, the `System` class loads the CSAF components, creating ones where necessary. `.simulate_tspan` supports simulating this system across fixed timespans."
   ]
  },
  {
   "cell_type": "code",
   "execution_count": null,
   "metadata": {},
   "outputs": [],
   "source": [
    "# now, create pub/sub components out of the configuration\n",
    "# these components will be bound to ports, which will fail if the ports are used elsewhere\n",
    "my_system = csys.System.from_config(my_conf)"
   ]
  },
  {
   "cell_type": "code",
   "execution_count": null,
   "metadata": {},
   "outputs": [],
   "source": [
    "# simulate and collect time traces out of the components\n",
    "trajs = my_system.simulate_tspan(simulation_timespan, show_status=True)"
   ]
  },
  {
   "cell_type": "code",
   "execution_count": null,
   "metadata": {},
   "outputs": [],
   "source": [
    "# destroy components and unbind all used sockets\n",
    "# this system can no longer run, and another can be created \n",
    "my_system.unbind()"
   ]
  },
  {
   "cell_type": "code",
   "execution_count": null,
   "metadata": {},
   "outputs": [],
   "source": [
    "# pretty print the components and their named fields from simulation output\n",
    "display(Markdown(\"### Simulation Traces\\n\" + \\\n",
    "                 \"\\n\".join(\n",
    "                    [f\"* {cname}\\n\"+ \\\n",
    "                     \"\\n\".join([f\"    * {tname}\" for tname in ctrace.names]) for cname, ctrace in trajs.items()])\n",
    "                )\n",
    "       )"
   ]
  },
  {
   "cell_type": "markdown",
   "metadata": {},
   "source": [
    "## Plotting the Example"
   ]
  },
  {
   "cell_type": "code",
   "execution_count": null,
   "metadata": {},
   "outputs": [],
   "source": [
    "# select component to plot\n",
    "component_name = \"plant\"\n",
    "\n",
    "# select topic of component to plot\n",
    "topic_name = \"states\"\n",
    "\n",
    "\n",
    "if component_name in trajs:\n",
    "    # time trace of component\n",
    "    ttrace = trajs[component_name]\n",
    "    \n",
    "    if not hasattr(ttrace, topic_name):\n",
    "        raise RuntimeError(f\"ERROR! Invalid topic name {topic_name} for component {component_name}\")\n",
    "    \n",
    "    # collect time and data to plot\n",
    "    t, data = ttrace.times, np.array(getattr(ttrace, topic_name))\n",
    "    \n",
    "    # number of dimensions -> number of plots\n",
    "    n_dim = data.shape[1]\n",
    "    \n",
    "    # get full component name\n",
    "    component_vname = my_conf.get_component_settings(component_name)[\"config\"][\"system_name\"]\n",
    "    \n",
    "    # get names of topic from ROSmsg -- skip boilerplate\n",
    "    names = my_conf.get_msg_setting(component_name, topic_name, \"msg\").fields_no_header\n",
    "    \n",
    "    # create matplotlib axes and plot\n",
    "    fig, axs = plt.subplots(figsize=(12, n_dim*4),nrows=n_dim, sharex=True)\n",
    "    for idx, ax in enumerate(axs):\n",
    "        # plot formatting\n",
    "        ax.plot(t, data[:, idx], LineWidth=2)\n",
    "        ax.set_ylabel(names[idx])\n",
    "        ax.set_xlim(min(t), max(t))\n",
    "        ax.grid()\n",
    "        \n",
    "    # set figure title\n",
    "    axs[0].set_title(f\"{component_vname} - Topic \\\"{topic_name.title()}\\\"\")\n",
    "    \n",
    "    # on last axis, set the time label\n",
    "    axs[-1].set_xlabel(\"time (s)\")\n",
    "else:\n",
    "    raise RuntimeError(f\"ERROR! Invalid component name {component_name}\")"
   ]
  },
  {
   "cell_type": "code",
   "execution_count": null,
   "metadata": {},
   "outputs": [],
   "source": []
  }
 ],
 "metadata": {
  "kernelspec": {
   "display_name": "Python 3",
   "language": "python",
   "name": "python3"
  },
  "language_info": {
   "codemirror_mode": {
    "name": "ipython",
    "version": 3
   },
   "file_extension": ".py",
   "mimetype": "text/x-python",
   "name": "python",
   "nbconvert_exporter": "python",
   "pygments_lexer": "ipython3",
   "version": "3.6.10"
  }
 },
 "nbformat": 4,
 "nbformat_minor": 4
}
