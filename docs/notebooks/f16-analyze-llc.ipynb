{
 "cells": [
  {
   "cell_type": "markdown",
   "metadata": {},
   "source": [
    "# F16 Low Level Controller analysis\n",
    "\n",
    "In this example, we will show how to analyze a low-level-controller.\n",
    "\n",
    "First, we need to import our model, and a parallel runner"
   ]
  },
  {
   "cell_type": "code",
   "execution_count": null,
   "metadata": {},
   "outputs": [],
   "source": [
    "from run_parallel import run_workgroup\n",
    "import csaf.config as cconf\n",
    "import csaf.system as csys\n",
    "\n",
    "model_conf = cconf.SystemConfig.from_toml(\"/csaf-system/f16_llc_analyze_config.toml\")\n"
   ]
  },
  {
   "cell_type": "markdown",
   "metadata": {},
   "source": [
    "This model contains a signal generator, configured to generate a step command. The signal generator is shown below:"
   ]
  },
  {
   "cell_type": "code",
   "execution_count": null,
   "metadata": {},
   "outputs": [],
   "source": [
    "!cat /csaf-system/components/signal_generator.toml"
   ]
  },
  {
   "cell_type": "markdown",
   "metadata": {},
   "source": [
    "We will also display the system topology, to show the difference between f16-simple and this system:\n"
   ]
  },
  {
   "cell_type": "code",
   "execution_count": null,
   "metadata": {},
   "outputs": [],
   "source": [
    "from IPython.display import Image\n",
    "\n",
    "import pathlib\n",
    "\n",
    "plot_fname = f\"pub-sub-plot.png\"\n",
    "\n",
    "# plot configuration pub/sub diagram as a file -- proj specicies a dot executbale and -Gdpi is a valid dot\n",
    "# argument to change the image resolution\n",
    "model_conf.plot_config(fname=pathlib.Path(plot_fname).resolve(), prog=[\"dot\", \"-Gdpi=150\"])\n",
    "\n",
    "# display written file to notebook\n",
    "Image(plot_fname)"
   ]
  },
  {
   "cell_type": "markdown",
   "metadata": {},
   "source": [
    "Next step, we need to prepare initial conditions for our run. For this particular case, we will change only two variables at a time, so we can display the results in a 2D plot. However, you can generate the initial conditions in many different ways."
   ]
  },
  {
   "cell_type": "code",
   "execution_count": null,
   "metadata": {},
   "outputs": [],
   "source": [
    "# We want to see step response to Nz (z-body accel)\n",
    "# Varying airspeed and alpha is a good start\n",
    "initial = [ 540.0, # vt\n",
    "            0.037027160081059704, # alpha [rad]\n",
    "            0.0, # beta[rad]\n",
    "            0.0, # roll [rad]\n",
    "            0.0, # pitch [rad]\n",
    "            0.0, # yaw [rad]\n",
    "            0.0, # p [rad/s]\n",
    "            0.0, # q [rad/s]\n",
    "            0.0, # r [rad/s]\n",
    "            0.0, # pn [m]\n",
    "            0.0, # pe [e]\n",
    "            4800.0, # h [ft]\n",
    "            70.0] # pow\n",
    "\n",
    "import numpy as np\n",
    "\n",
    "NUM_SAMPLES=10\n",
    "delta_vt = np.linspace(-100,100,NUM_SAMPLES) # +- 100gt/s\n",
    "delta_alpha = np.linspace(-0.3,0.3,NUM_SAMPLES) # +- 0.3rad\n",
    "\n",
    "# Generate x0s\n",
    "x0s = []\n",
    "for d_vt in delta_vt:\n",
    "    for d_alpha in delta_alpha:\n",
    "        x0 = initial[:]\n",
    "        x0[0] += d_vt\n",
    "        x0[1] += d_alpha\n",
    "        x0s.append(x0)\n",
    "\n",
    "# Now create a list of distionaries containing the initial states for F16\n",
    "states = [{\"plant\" : np.asarray(x)} for x in x0s]\n"
   ]
  },
  {
   "cell_type": "markdown",
   "metadata": {},
   "source": [
    "Now we have 100 different initial conditions. Let's use our parallel runner to efficiently run 100 simulations!"
   ]
  },
  {
   "cell_type": "code",
   "execution_count": null,
   "metadata": {},
   "outputs": [],
   "source": [
    "import run_parallel\n",
    "n_tasks = len(states)\n",
    "tspan = (0.0, 10.0) # 10 seconds is enough to get step response\n",
    "runs = run_workgroup(n_tasks, model_conf, states, tspan)"
   ]
  },
  {
   "cell_type": "markdown",
   "metadata": {},
   "source": [
    "## Manual analysis\n",
    "\n",
    "Now we have 100 simulation outputs. Lets examine the response for a step in `Nz` reference."
   ]
  },
  {
   "cell_type": "code",
   "execution_count": null,
   "metadata": {},
   "outputs": [],
   "source": [
    "# Nz index is 0\n",
    "nz = [np.array(r[\"plant\"][\"outputs\"])[:, 0] for r in runs if not isinstance(r, Exception)]\n",
    "# Nz_ref index is 0\n",
    "nz_ref = [np.array(r[\"autopilot\"][\"outputs\"])[:, 0] for r in runs if not isinstance(r, Exception)]\n",
    "# Fetch time as well\n",
    "# Because the autopilot runs at different frequency than the plant, we need separate time trace\n",
    "times_nz = [r[\"plant\"][\"times\"] for r in runs if not isinstance(r, Exception)]\n",
    "times_nz_ref = [r[\"autopilot\"][\"times\"] for r in runs if not isinstance(r, Exception)]"
   ]
  },
  {
   "cell_type": "code",
   "execution_count": null,
   "metadata": {},
   "outputs": [],
   "source": [
    "# Lets plot the results (this might take a while)\n",
    "import matplotlib.pyplot as plt\n",
    "\n",
    "fig, ax = plt.subplots(figsize=(12, 3 * len(nz)), nrows=len(nz), sharex=True)\n",
    "for idx in range(len(nz)):\n",
    "    ax[idx].plot(times_nz[idx], nz[idx])\n",
    "    ax[idx].plot(times_nz_ref[idx], nz_ref[idx])\n",
    "    ax[idx].set_ylabel(f\"Run {idx}\")\n",
    "    ax[idx].grid(True)\n",
    "ax[-1].set_xlabel(\"Time (s)\")\n",
    "ax[0].set_title(\"Simulation Workgroup Runs\")\n",
    "plt.show()"
   ]
  },
  {
   "cell_type": "markdown",
   "metadata": {},
   "source": [
    "We can inspect all 100 runs and see how closely the reference was followed. Given the relatively large range of initial conditions, some runs provide a very clean response, while some show large initial `Nz`and large overshoot.\n",
    "\n",
    "You can modify the initial conditions, as well as the time and amplitude of the step signal to get more meaningful results.\n",
    "\n",
    "The next question is - can we automatically evaluate the simulation results? The answer is yes!"
   ]
  },
  {
   "cell_type": "markdown",
   "metadata": {},
   "source": [
    "## More automated analysis\n",
    "\n",
    "First, define a function that returns the max difference between the reference signal and the response. Note that this is a very simple function meant only as an example. To gain better insight into your system, you should define a more complex function."
   ]
  },
  {
   "cell_type": "code",
   "execution_count": null,
   "metadata": {},
   "outputs": [],
   "source": [
    "def calculate_simple_difference(ref_time, reference, res_time, response):\n",
    "    # Assume both arguments are lists\n",
    "    # Cut off first 1 second of simulation, because that is before the step occured\n",
    "    start_time = 1.0\n",
    "    _, ref_idx = min((val, idx) for (idx, val) in enumerate(ref_time) if val > start_time)\n",
    "    _, res_idx = min((val, idx) for (idx, val) in enumerate(res_time) if val > start_time)\n",
    "    ref = reference[ref_idx:]\n",
    "    res = response[res_idx:]\n",
    "    return max(res) - max(ref)\n"
   ]
  },
  {
   "cell_type": "code",
   "execution_count": null,
   "metadata": {},
   "outputs": [],
   "source": [
    "# Now calculate the difference for each simulation run\n",
    "diffs = []\n",
    "for idx in range(len(runs)):\n",
    "    delta = calculate_simple_difference(times_nz_ref[idx],nz_ref[idx],times_nz[idx],nz[idx])\n",
    "    diffs.append(delta)"
   ]
  },
  {
   "cell_type": "code",
   "execution_count": null,
   "metadata": {},
   "outputs": [],
   "source": [
    "# Max \"overshoot\" occured at last run (99), over 25%\n",
    "val, idx = max((val, idx) for (idx, val) in enumerate(diffs))\n",
    "print(val)\n",
    "print(idx)"
   ]
  },
  {
   "cell_type": "code",
   "execution_count": null,
   "metadata": {},
   "outputs": [],
   "source": [
    "# Min \"overshoot\" occured at the secind run (1), -3.5% below the reference\n",
    "val, idx = min((val, idx) for (idx, val) in enumerate(diffs))\n",
    "print(val)\n",
    "print(idx)"
   ]
  },
  {
   "cell_type": "markdown",
   "metadata": {},
   "source": [
    "This seem to indicate that the extreme initial conditions affect the response, which is expected. Lets now plot the results."
   ]
  },
  {
   "cell_type": "code",
   "execution_count": null,
   "metadata": {},
   "outputs": [],
   "source": [
    "# Import libraries \n",
    "from mpl_toolkits import mplot3d \n",
    "import numpy as np \n",
    "import matplotlib.pyplot as plt \n",
    "from matplotlib import cm\n",
    "\n",
    "# Creating dataset\n",
    "x = []\n",
    "y = []\n",
    "for x0 in x0s:\n",
    "    x.append(x0[0])\n",
    "    y.append(x0[1])\n",
    "\n",
    "x = np.asarray(x).reshape((10,10))\n",
    "y = np.asarray(y).reshape((10,10))\n",
    "z = np.asarray(diffs).reshape((10,10)) \n",
    "\n",
    "fig = plt.figure(figsize =(14, 9)) \n",
    "ax = plt.axes(projection ='3d') \n",
    "\n",
    "ax.set_xlabel('vt[ft/s]', fontsize=12)\n",
    "ax.set_ylabel('alpha[rad]', fontsize=12)\n",
    "ax.set_zlabel('overshoot[%]', fontsize=12)\n",
    "ax.xaxis.set_rotate_label(True)\n",
    "ax.yaxis.set_rotate_label(True)\n",
    "\n",
    "surf = ax.plot_surface(x, y, z,cmap=cm.coolwarm)\n",
    "# Add a color bar which maps values to colors.\n",
    "fig.colorbar(surf, shrink=0.5, aspect=5)\n",
    "\n",
    "# show plot \n",
    "plt.show()"
   ]
  },
  {
   "cell_type": "markdown",
   "metadata": {},
   "source": [
    "We can see that higher overshoot corresponds to higher alpha, and in lesser extend to higher airspeed.\n",
    "\n",
    "Finally, if we are only interested in how many simulations do not exceed 10% overshoot, we can simply do:"
   ]
  },
  {
   "cell_type": "code",
   "execution_count": null,
   "metadata": {},
   "outputs": [],
   "source": [
    "len([x for x in diffs if x < 0.1])"
   ]
  },
  {
   "cell_type": "markdown",
   "metadata": {},
   "source": [
    "## Summary\n",
    "We demonstrated how to run multiple simulations in parallel, with different initail conditions, and how to analyzer the results. The analysis can be tailer to your needs, the parallel runners will help you with efficient simulation.  "
   ]
  }
 ],
 "metadata": {
  "kernelspec": {
   "display_name": "Python 3",
   "language": "python",
   "name": "python3"
  },
  "language_info": {
   "codemirror_mode": {
    "name": "ipython",
    "version": 3
   },
   "file_extension": ".py",
   "mimetype": "text/x-python",
   "name": "python",
   "nbconvert_exporter": "python",
   "pygments_lexer": "ipython3",
   "version": "3.6.9"
  }
 },
 "nbformat": 4,
 "nbformat_minor": 4
}
